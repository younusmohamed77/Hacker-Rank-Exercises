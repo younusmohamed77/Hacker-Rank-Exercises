{
 "cells": [
  {
   "cell_type": "markdown",
   "id": "734eaabc",
   "metadata": {},
   "source": [
    "Given the names and grades for each student in a class of N students, store them in a nested list and print the name(s) of any student(s) having the second lowest grade.\n",
    "\n",
    "Note: If there are multiple students with the second lowest grade, order their names alphabetically and print each name on a new line.\n",
    "\n",
    "Example\n",
    "records = [[\"chi\",20.0],[\"beta\",50.0],[\"alpha\",50.0]]\n",
    "The ordered list of scores is [20.0, 50.0], so the second lowest score is 50.0. There are two students with that score: [\"beta\",\"alpha\"]. Ordered alphabetically, the names are printed as:\n",
    "\n",
    "alpha\n",
    "beta\n",
    "\n",
    "#### Input Format\n",
    "The first line contains an integer, N, the number of students.\n",
    "The 2N subsequent lines describe each student over 2 lines.\n",
    "- The first line contains a student's name.\n",
    "- The second line contains their grade.\n",
    "\n",
    "Constraints\n",
    "\n",
    "There will always be one or more students having the second lowest grade.\n",
    "Output Format\n",
    "\n",
    "Print the name(s) of any student(s) having the second lowest grade in. If there are multiple students, order their names alphabetically and print each one on a new line."
   ]
  },
  {
   "cell_type": "code",
   "execution_count": 7,
   "id": "37b7e347",
   "metadata": {},
   "outputs": [
    {
     "name": "stdout",
     "output_type": "stream",
     "text": [
      "5\n",
      "abc\n",
      "20\n",
      "efg\n",
      "30\n",
      "klm\n",
      "50\n",
      "hij\n",
      "30\n",
      "nop\n",
      "50\n",
      "[['abc', 20.0], ['efg', 30.0], ['klm', 50.0], ['hij', 30.0], ['nop', 50.0]]\n"
     ]
    }
   ],
   "source": [
    "if __name__ == '__main__':\n",
    "    grades_list = []\n",
    "    n = int(input())\n",
    "    \n",
    "    if n >= 2 and n <= 5:    # Checking the constraints\n",
    "        \n",
    "        for i in range(n):    # Creating a list for all the input values if the constraints are satisfied\n",
    "            name = input()\n",
    "            score = float(input())\n",
    "            grades_list.append([name, score])\n",
    "        \n",
    "    print(grades_list)"
   ]
  },
  {
   "cell_type": "code",
   "execution_count": 8,
   "id": "3032913b",
   "metadata": {},
   "outputs": [
    {
     "name": "stdout",
     "output_type": "stream",
     "text": [
      "[[20.0, 'abc'], [30.0, 'efg'], [50.0, 'klm'], [30.0, 'hij'], [50.0, 'nop']]\n"
     ]
    }
   ],
   "source": [
    "# Unnecessary\n",
    "\n",
    "rev_grades_list = []    # List to hold the inputs as score and name to sort\n",
    "\n",
    "for name, score in grades_list:    # Creating the list as score and name\n",
    "    rev_grades_list.append([score,name])\n",
    "\n",
    "print(rev_grades_list)"
   ]
  },
  {
   "cell_type": "code",
   "execution_count": 9,
   "id": "085eb733",
   "metadata": {},
   "outputs": [
    {
     "name": "stdout",
     "output_type": "stream",
     "text": [
      "[[20.0, 'abc'], [30.0, 'efg'], [30.0, 'hij'], [50.0, 'klm'], [50.0, 'nop']]\n"
     ]
    }
   ],
   "source": [
    "rev_grades_list.sort()\n",
    "print(rev_grades_list)"
   ]
  },
  {
   "cell_type": "code",
   "execution_count": 26,
   "id": "75cc8fbe",
   "metadata": {},
   "outputs": [
    {
     "name": "stdout",
     "output_type": "stream",
     "text": [
      "abc\n",
      "efg\n",
      "hij\n",
      "klm\n",
      "nop\n"
     ]
    }
   ],
   "source": [
    "temp = rev_grades_list[0][0]\n",
    "\n",
    "for j in rev_grades_list:\n",
    "    \n",
    "    if temp <= j[0]:\n",
    "        \n",
    "        if temp < j[0]:\n",
    "            print(j[1])\n",
    "            \n",
    "        \n",
    "        elif temp == j[0]:\n",
    "            print(j[1])\n",
    "            temp = j[0]\n",
    "        \n",
    "        "
   ]
  },
  {
   "cell_type": "code",
   "execution_count": 31,
   "id": "05c5dc66",
   "metadata": {},
   "outputs": [
    {
     "name": "stdout",
     "output_type": "stream",
     "text": [
      "1\n",
      "2\n",
      "3\n",
      "4\n",
      "5\n"
     ]
    }
   ],
   "source": [
    "temp = rev_grades_list[0][0]\n",
    "\n",
    "for j in rev_grades_list:\n",
    "    rank = rev_grades_list.index(j) + 1\n",
    "    print(rank)"
   ]
  },
  {
   "cell_type": "code",
   "execution_count": 36,
   "id": "d46d276e",
   "metadata": {},
   "outputs": [
    {
     "name": "stdout",
     "output_type": "stream",
     "text": [
      "30.0\n"
     ]
    }
   ],
   "source": [
    "temp = rev_grades_list[0][0]\n",
    "\n",
    "for j in rev_grades_list:\n",
    "    \n",
    "    if temp < j[0]:\n",
    "        print(j[0])\n",
    "        temp = j[0]\n",
    "        break"
   ]
  },
  {
   "cell_type": "code",
   "execution_count": 45,
   "id": "986bd20e",
   "metadata": {},
   "outputs": [
    {
     "name": "stdout",
     "output_type": "stream",
     "text": [
      "['efg', 'hij']\n"
     ]
    }
   ],
   "source": [
    "out_list = [k[1] for k in rev_grades_list if k[0] == temp]\n",
    "\n",
    "# for k in rev_grades_list:\n",
    "#     if k[0] == temp:\n",
    "#         out_list.append(k[1])\n",
    "        \n",
    "print(out_list)"
   ]
  },
  {
   "cell_type": "code",
   "execution_count": 47,
   "id": "7bca2c58",
   "metadata": {},
   "outputs": [
    {
     "name": "stdout",
     "output_type": "stream",
     "text": [
      "5\n",
      "abc\n",
      "20\n",
      "def\n",
      "30\n",
      "ghi\n",
      "20\n",
      "jkl\n",
      "30\n",
      "mno\n",
      "50\n",
      "def\n",
      "jkl\n"
     ]
    }
   ],
   "source": [
    "# Final code\n",
    "\n",
    "if __name__ == '__main__':\n",
    "    records = []\n",
    "    rev_records = []\n",
    "    n = int(input())\n",
    "    \n",
    "    if n >= 2 and n <= 5:    # Checking the constraints\n",
    "        \n",
    "        for i in range(n):    # Creating a list for all the input values if the constraints are satisfied\n",
    "            name = input()\n",
    "            score = float(input())\n",
    "            records.append([name, score])    # Saving the list as per problem\n",
    "            rev_records.append([score, name])    # Saving the list as score and then name, making it easier to sort\n",
    "            \n",
    "        rev_records.sort()    # Sorting the list from small to large\n",
    "        temp = rev_records[0][0]    # Using a temporary variable to find the second lowest score\n",
    "\n",
    "        for j in rev_records:    # Looping through the list \n",
    "    \n",
    "            if temp < j[0]:    # Checking to find the second lowest value\n",
    "                temp = j[0]    # Assing the second least score to a variable\n",
    "                break    # Exiting the loop after finding the desired score\n",
    "\n",
    "        out_list = [k[1] for k in rev_records if k[0] == temp]    # Using list comprehension to create a list of names with second least score\n",
    "        \n",
    "        out_list.sort()    # Sorting in alphabetical order\n",
    "        \n",
    "        for l in out_list:    # Loop to print the name\n",
    "            print(l)"
   ]
  },
  {
   "cell_type": "code",
   "execution_count": null,
   "id": "4d8566ee",
   "metadata": {},
   "outputs": [],
   "source": []
  }
 ],
 "metadata": {
  "kernelspec": {
   "display_name": "Python 3 (ipykernel)",
   "language": "python",
   "name": "python3"
  },
  "language_info": {
   "codemirror_mode": {
    "name": "ipython",
    "version": 3
   },
   "file_extension": ".py",
   "mimetype": "text/x-python",
   "name": "python",
   "nbconvert_exporter": "python",
   "pygments_lexer": "ipython3",
   "version": "3.8.18"
  }
 },
 "nbformat": 4,
 "nbformat_minor": 5
}
