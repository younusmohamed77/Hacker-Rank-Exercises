{
 "cells": [
  {
   "cell_type": "markdown",
   "id": "fdcd3d3e",
   "metadata": {},
   "source": [
    "## You are given a 2D matrix of dimension m x n and a positive integer r. You have to rotate the matrix r times and print the resultant matrix. Rotation should be in anti-clockwise direction.\n",
    "\n",
    "Rotation of a 4 x 5 matrix is represented by the following figure. Note that in one rotation, you have to shift elements by one step only.\n",
    "\n",
    "It is guaranteed that the minimum of m and n will be even.\n",
    "\n",
    "As an example rotate the Start matrix by 2:\n",
    "\n",
    "    Start         First           Second\n",
    "     1 2 3 4       2  3  4  5      3  4  5  6\n",
    "    12 1 2 5  ->   1  2  3  6 ->   2  3  4  7\n",
    "    11 4 3 6      12  1  4  7      1  2  1  8\n",
    "    10 9 8 7      11 10  9  8     12 11 10  9\n",
    "\n",
    "##### Function Description\n",
    "Complete the matrixRotation function in the editor below. matrixRotation has the following parameter(s):\n",
    "- int matrix[m][n]: a 2D array of integers\n",
    "- int r: the rotation factor\n",
    "\n",
    "##### Prints\n",
    "It should print the resultant 2D integer array and return nothing. Print each row on a separate line as space-separated integers.\n",
    "\n",
    "##### Input Format\n",
    "The first line contains three space separated integers, m, n, and r, the number of rows and columns in matrix, and the required rotation.\n",
    "The next m lines contain n space-separated integers representing the elements of a row of matrix."
   ]
  },
  {
   "cell_type": "code",
   "execution_count": 1,
   "id": "58fbb2d6",
   "metadata": {},
   "outputs": [
    {
     "ename": "IndentationError",
     "evalue": "expected an indented block after function definition on line 17 (3168858083.py, line 20)",
     "output_type": "error",
     "traceback": [
      "\u001b[1;36m  Cell \u001b[1;32mIn[1], line 20\u001b[1;36m\u001b[0m\n\u001b[1;33m    if __name__ == '__main__':\u001b[0m\n\u001b[1;37m    ^\u001b[0m\n\u001b[1;31mIndentationError\u001b[0m\u001b[1;31m:\u001b[0m expected an indented block after function definition on line 17\n"
     ]
    }
   ],
   "source": [
    "#!/bin/python3\n",
    "\n",
    "import math\n",
    "import os\n",
    "import random\n",
    "import re\n",
    "import sys\n",
    "\n",
    "#\n",
    "# Complete the 'matrixRotation' function below.\n",
    "#\n",
    "# The function accepts following parameters:\n",
    "#  1. 2D_INTEGER_ARRAY matrix\n",
    "#  2. INTEGER r\n",
    "#\n",
    "\n",
    "def matrixRotation(matrix, r):\n",
    "    # Write your code here\n",
    "\n",
    "if __name__ == '__main__':\n",
    "    first_multiple_input = input().rstrip().split()\n",
    "\n",
    "    m = int(first_multiple_input[0])\n",
    "\n",
    "    n = int(first_multiple_input[1])\n",
    "\n",
    "    r = int(first_multiple_input[2])\n",
    "\n",
    "    matrix = []\n",
    "\n",
    "    for _ in range(m):\n",
    "        matrix.append(list(map(int, input().rstrip().split())))\n",
    "\n",
    "    matrixRotation(matrix, r)\n"
   ]
  },
  {
   "cell_type": "code",
   "execution_count": null,
   "id": "582b65a7",
   "metadata": {},
   "outputs": [],
   "source": [
    "def matrixRotation(matrix, r):\n",
    "    # Write your code here"
   ]
  },
  {
   "cell_type": "code",
   "execution_count": 38,
   "id": "c1408329",
   "metadata": {},
   "outputs": [
    {
     "name": "stdout",
     "output_type": "stream",
     "text": [
      "5 4 7\n",
      "1 2 3 4\n",
      "7 8 9 10\n",
      "13 14 15 16\n",
      "19 20 21 22\n",
      "25 26 27 28\n"
     ]
    }
   ],
   "source": [
    "if __name__ == '__main__':\n",
    "    first_multiple_input = input().rstrip().split()\n",
    "\n",
    "    m = int(first_multiple_input[0])\n",
    "\n",
    "    n = int(first_multiple_input[1])\n",
    "\n",
    "    r = int(first_multiple_input[2])\n",
    "\n",
    "    matrix = []\n",
    "\n",
    "    for i in range(m):\n",
    "        matrix.append(list(map(int, input().rstrip().split())))\n",
    "\n",
    "   #matrixRotation(matrix, r)"
   ]
  },
  {
   "cell_type": "code",
   "execution_count": 39,
   "id": "3d23fa97",
   "metadata": {},
   "outputs": [
    {
     "name": "stdout",
     "output_type": "stream",
     "text": [
      "[[1, 2, 3, 4], [7, 8, 9, 10], [13, 14, 15, 16], [19, 20, 21, 22], [25, 26, 27, 28]]\n",
      "[1, 2, 3, 4]\n",
      "[7, 8, 9, 10]\n",
      "[13, 14, 15, 16]\n",
      "[19, 20, 21, 22]\n",
      "[25, 26, 27, 28]\n"
     ]
    }
   ],
   "source": [
    "print(matrix)\n",
    "for j in matrix:\n",
    "    print(j)"
   ]
  },
  {
   "cell_type": "code",
   "execution_count": 40,
   "id": "3b55b8ac",
   "metadata": {},
   "outputs": [
    {
     "name": "stdout",
     "output_type": "stream",
     "text": [
      "1\n",
      "2\n",
      "3\n",
      "4\n",
      "5\n"
     ]
    }
   ],
   "source": [
    "for j in range(1, len(matrix) + 1):\n",
    "    print(j)"
   ]
  },
  {
   "cell_type": "code",
   "execution_count": 41,
   "id": "81a2035e",
   "metadata": {},
   "outputs": [
    {
     "name": "stdout",
     "output_type": "stream",
     "text": [
      "[[1, 2, 3, 4], [7, 8, 9, 10], [13, 14, 15, 16], [19, 20, 21, 22], [25, 26, 27, 28]]\n",
      "5\n"
     ]
    }
   ],
   "source": [
    "test_matrix = matrix\n",
    "print(test_matrix)\n",
    "print(len(test_matrix))"
   ]
  },
  {
   "cell_type": "code",
   "execution_count": 89,
   "id": "4aba9df9",
   "metadata": {},
   "outputs": [
    {
     "name": "stdout",
     "output_type": "stream",
     "text": [
      "[[2, 3, 4, 8], [1, 6, 7, 12], [5, 10, 11, 16], [9, 13, 14, 15]]\n"
     ]
    }
   ],
   "source": [
    "# This code works fine for outer layer only\n",
    "\n",
    "temp1 = test_matrix[m-1][n-1]\n",
    "\n",
    "for j in range(m - 1, -1, -1):\n",
    "    \n",
    "    for k in range(n - 1, -1, -1):\n",
    "        if k > 0 and j == m - 1:\n",
    "            test_matrix[j][k] = test_matrix[j][k-1]\n",
    "        \n",
    "        elif k > 1 and j == 0:\n",
    "            test_matrix[j][n-k-1] = test_matrix[j][n-k]\n",
    "            \n",
    "        elif k == 1 and j == 0:\n",
    "            test_matrix[j][n-k-1] = temp1\n",
    "        \n",
    "        elif k == 0 and j > 0:\n",
    "            test_matrix[j][k] = test_matrix[j-1][k]\n",
    "    \n",
    "    if j > 0:\n",
    "        temp2 = test_matrix[j-1][n-1]\n",
    "        test_matrix[j-1][n-1] = temp1\n",
    "        temp1 = temp2\n",
    "        \n",
    "print(test_matrix)"
   ]
  },
  {
   "cell_type": "code",
   "execution_count": 10,
   "id": "639a0595",
   "metadata": {},
   "outputs": [
    {
     "name": "stdout",
     "output_type": "stream",
     "text": [
      "[[2, 3, 4, 8], [7, 6, 11, 12], [5, 6, 10, 16], [9, 13, 14, 15]]\n"
     ]
    }
   ],
   "source": [
    "# This code works fine for 2x2\n",
    "# Fine for the outer layer\n",
    "\n",
    "layers = int(min(m,n) / 2)\n",
    "\n",
    "for l in range(layers):\n",
    "    temp1 = test_matrix[m-1-l][n-1-l]\n",
    "    \n",
    "    for j in range(m - 1 - l, -1, -1):\n",
    "    \n",
    "        for k in range(n - 1 - l, -1, -1):\n",
    "            \n",
    "            if k > l and j == m - 1 - l:\n",
    "                test_matrix[j][k] = test_matrix[j][k-1]\n",
    "        \n",
    "            elif k > l + 1 and j == l:\n",
    "                test_matrix[j][n-k-1] = test_matrix[j][n-k]\n",
    "            \n",
    "            elif k == l + 1 and j == l:\n",
    "                test_matrix[j][n-k-1-l] = temp1\n",
    "\n",
    "            elif k == l and j > l:\n",
    "                test_matrix[j][k] = test_matrix[j-1][k]\n",
    "    \n",
    "        if j > l:\n",
    "            temp2 = test_matrix[j-1][n-1-l]\n",
    "            test_matrix[j-1][n-1-l] = temp1\n",
    "            temp1 = temp2\n",
    "        \n",
    "print(test_matrix)"
   ]
  },
  {
   "cell_type": "code",
   "execution_count": 109,
   "id": "20ca98f1",
   "metadata": {},
   "outputs": [
    {
     "name": "stdout",
     "output_type": "stream",
     "text": [
      "0\n",
      "1\n"
     ]
    }
   ],
   "source": [
    "1for x in range(layers):\n",
    "    print(x)"
   ]
  },
  {
   "cell_type": "code",
   "execution_count": 53,
   "id": "3c1ee8d2",
   "metadata": {},
   "outputs": [
    {
     "data": {
      "text/plain": [
       "1"
      ]
     },
     "execution_count": 53,
     "metadata": {},
     "output_type": "execute_result"
    }
   ],
   "source": [
    "layers = int(min(m,n) / 2)\n",
    "layers"
   ]
  },
  {
   "cell_type": "code",
   "execution_count": 160,
   "id": "15f7ca2f",
   "metadata": {},
   "outputs": [
    {
     "name": "stdout",
     "output_type": "stream",
     "text": [
      "[1, 2, 3, 4, 5, 8, 9, 12, 13, 14, 15, 16, 6, 7, 10, 11]\n"
     ]
    }
   ],
   "source": [
    "list_ar = []\n",
    "list_in = []\n",
    "layers = int(min(m,n) / 2)\n",
    "\n",
    "for l in range(layers):\n",
    "    for i in range(m):\n",
    "        for j in range(n):\n",
    "            if i == 0 + l or j == 0 + l or i == m - 1 - l or j == n - 1 - l:\n",
    "                if matrix[i][j] not in list_ar:\n",
    "                    list_ar.append(matrix[i][j])\n",
    "        \n",
    "print(list_ar)"
   ]
  },
  {
   "cell_type": "code",
   "execution_count": 31,
   "id": "45ee6165",
   "metadata": {},
   "outputs": [
    {
     "name": "stdout",
     "output_type": "stream",
     "text": [
      "[[3, 4, 8, 12], [2, 11, 10, 16], [1, 7, 6, 15], [5, 9, 13, 14]]\n"
     ]
    }
   ],
   "source": [
    "# This code works for outer layer\n",
    "# This code works for inner layer\n",
    "# This code works for 2x2\n",
    "\n",
    "layers = int(min(m,n) / 2)\n",
    "\n",
    "for l in range(layers):\n",
    "    temp1 = test_matrix[m-1-l][n-1-l]\n",
    "    \n",
    "    for j in range(m - 1 - l, -1, -1):\n",
    "    \n",
    "        for k in range(n - 1 - l, -1, -1):\n",
    "            \n",
    "            if k >  l and j == m - 1 - l:\n",
    "                test_matrix[j][k] = test_matrix[j][k-1]\n",
    "        \n",
    "            elif k > l + 1 and j == l:\n",
    "                test_matrix[j][n-k-1] = test_matrix[j][n-k]\n",
    "            \n",
    "            elif k == l + 1 and j == l:\n",
    "                test_matrix[j][n-k-1] = temp1\n",
    "\n",
    "            elif k == l and j > l:\n",
    "                test_matrix[j][k] = test_matrix[j-1][k]\n",
    "    \n",
    "        if j > l:\n",
    "            temp2 = test_matrix[j-1][n-1-l]\n",
    "            test_matrix[j-1][n-1-l] = temp1\n",
    "            temp1 = temp2\n",
    "        \n",
    "print(test_matrix)"
   ]
  },
  {
   "cell_type": "code",
   "execution_count": 32,
   "id": "64e9012a",
   "metadata": {},
   "outputs": [
    {
     "name": "stdout",
     "output_type": "stream",
     "text": [
      "2\n"
     ]
    }
   ],
   "source": [
    "print(r)"
   ]
  },
  {
   "cell_type": "code",
   "execution_count": 42,
   "id": "a22a895f",
   "metadata": {},
   "outputs": [
    {
     "name": "stdout",
     "output_type": "stream",
     "text": [
      "[[28, 27, 26, 25], [22, 9, 15, 19], [16, 8, 21, 13], [10, 14, 20, 7], [4, 3, 2, 1]]\n"
     ]
    }
   ],
   "source": [
    "# This code works for outer layer\n",
    "# This code works for inner layer\n",
    "# This code works for 2x2\n",
    "# This code rotates the specified number of times\n",
    "\n",
    "layers = int(min(m,n) / 2)\n",
    "\n",
    "while r > 0:\n",
    "    for l in range(layers):\n",
    "        temp1 = test_matrix[m-1-l][n-1-l]\n",
    "    \n",
    "        for j in range(m - 1 - l, -1, -1):\n",
    "    \n",
    "            for k in range(n - 1 - l, -1, -1):\n",
    "            \n",
    "                if k >  l and j == m - 1 - l:\n",
    "                    test_matrix[j][k] = test_matrix[j][k-1]\n",
    "        \n",
    "                elif k > l + 1 and j == l:\n",
    "                    test_matrix[j][n-k-1] = test_matrix[j][n-k]\n",
    "            \n",
    "                elif k == l + 1 and j == l:\n",
    "                    test_matrix[j][n-k-1] = temp1\n",
    "\n",
    "                elif k == l and j > l:\n",
    "                    test_matrix[j][k] = test_matrix[j-1][k]\n",
    "    \n",
    "            if j > l:\n",
    "                temp2 = test_matrix[j-1][n-1-l]\n",
    "                test_matrix[j-1][n-1-l] = temp1\n",
    "                temp1 = temp2\n",
    "                \n",
    "    r -= 1\n",
    "        \n",
    "print(test_matrix)"
   ]
  },
  {
   "cell_type": "code",
   "execution_count": 44,
   "id": "1e9884ee",
   "metadata": {},
   "outputs": [
    {
     "name": "stdout",
     "output_type": "stream",
     "text": [
      "28 27 26 25 \n",
      "22 9 15 19 \n",
      "16 8 21 13 \n",
      "10 14 20 7 \n",
      "4 3 2 1 \n"
     ]
    }
   ],
   "source": [
    "for x in test_matrix:\n",
    "    for y in x:\n",
    "        print(y, end = ' ')\n",
    "        \n",
    "    print()"
   ]
  },
  {
   "cell_type": "code",
   "execution_count": 45,
   "id": "476ee2ce",
   "metadata": {},
   "outputs": [],
   "source": [
    "# Submission code\n",
    "\n",
    "def matrixRotation(matrix, r):\n",
    "    layers = int(min(m,n) / 2)\n",
    "\n",
    "    while r > 0:\n",
    "        for l in range(layers):\n",
    "            temp1 = matrix[m-1-l][n-1-l]\n",
    "    \n",
    "            for j in range(m - 1 - l, -1, -1):\n",
    "    \n",
    "                for k in range(n - 1 - l, -1, -1):\n",
    "            \n",
    "                    if k >  l and j == m - 1 - l:\n",
    "                        matrix[j][k] = matrix[j][k-1]\n",
    "        \n",
    "                    elif k > l + 1 and j == l:\n",
    "                        matrix[j][n-k-1] = matrix[j][n-k]\n",
    "            \n",
    "                    elif k == l + 1 and j == l:\n",
    "                        matrix[j][n-k-1] = temp1\n",
    "\n",
    "                    elif k == l and j > l:\n",
    "                        matrix[j][k] = matrix[j-1][k]\n",
    "    \n",
    "                if j > l:\n",
    "                    temp2 = matrix[j-1][n-1-l]\n",
    "                    matrix[j-1][n-1-l] = temp1\n",
    "                    temp1 = temp2\n",
    "                \n",
    "        r -= 1\n",
    "        \n",
    "    for x in matrix:\n",
    "        print(*x)"
   ]
  },
  {
   "cell_type": "code",
   "execution_count": 52,
   "id": "d6e17b99",
   "metadata": {},
   "outputs": [
    {
     "name": "stdout",
     "output_type": "stream",
     "text": [
      "5 4 7\n",
      "1 2 3 4\n",
      "7 8 9 10\n",
      "13 14 15 16\n",
      "19 20 21 22\n",
      "25 26 27 28\n",
      "28 27 26 25\n",
      "22 9 15 19\n",
      "16 8 21 13\n",
      "10 14 20 7\n",
      "4 3 2 1\n"
     ]
    }
   ],
   "source": [
    "if __name__ == '__main__':\n",
    "    first_multiple_input = input().rstrip().split()\n",
    "\n",
    "    m = int(first_multiple_input[0])\n",
    "\n",
    "    n = int(first_multiple_input[1])\n",
    "\n",
    "    r = int(first_multiple_input[2])\n",
    "\n",
    "    matrix = []\n",
    "\n",
    "    for i in range(m):\n",
    "        matrix.append(list(map(int, input().rstrip().split())))\n",
    "\n",
    "    matrixRotation(matrix, r)"
   ]
  },
  {
   "cell_type": "code",
   "execution_count": 51,
   "id": "35fc3d31",
   "metadata": {},
   "outputs": [],
   "source": [
    "# Trying to reduce one loop - as time limit exeeced for few test cases\n",
    "\n",
    "# Submission code\n",
    "\n",
    "def matrixRotation(matrix, r):\n",
    "    layers = int(min(m,n) / 2)\n",
    "\n",
    "    while r > 0:\n",
    "        \n",
    "        for l in range(layers):\n",
    "            temp = matrix[l][l]\n",
    "\n",
    "            # Move elements from top to right\n",
    "            for j in range(l, n - 1 - l):\n",
    "                matrix[l][j] = matrix[l][j + 1]\n",
    "\n",
    "            # Move elements from right to bottom\n",
    "            for i in range(l, m - 1 - l):\n",
    "                matrix[i][n - 1 - l] = matrix[i + 1][n - 1 - l]\n",
    "\n",
    "            # Move elements from bottom to left\n",
    "            for j in range(n - 1 - l, l, -1):\n",
    "                matrix[m - 1 - l][j] = matrix[m - 1 - l][j - 1]\n",
    "\n",
    "            # Move elements from left to top\n",
    "            for i in range(m - 1 - l, l + 1, -1):\n",
    "                matrix[i][l] = matrix[i - 1][l]\n",
    "\n",
    "            matrix[l + 1][l] = temp\n",
    "            \n",
    "        r -= 1\n",
    "\n",
    "    for x in matrix:\n",
    "        print(*x)"
   ]
  },
  {
   "cell_type": "code",
   "execution_count": 54,
   "id": "3f6172f0",
   "metadata": {},
   "outputs": [],
   "source": [
    "# Trying to reduce one loop - as time limit exeeced for few test cases\n",
    "\n",
    "# Submission code\n",
    "\n",
    "def matrixRotation(matrix, r):\n",
    "    layers = int(min(m,n) / 2)\n",
    "\n",
    "    for y in range(r):\n",
    "        \n",
    "        for l in range(layers):\n",
    "            temp = matrix[l][l]\n",
    "\n",
    "            # Move elements from top to right\n",
    "            for j in range(l, n - 1 - l):\n",
    "                matrix[l][j] = matrix[l][j + 1]\n",
    "\n",
    "            # Move elements from right to bottom\n",
    "            for i in range(l, m - 1 - l):\n",
    "                matrix[i][n - 1 - l] = matrix[i + 1][n - 1 - l]\n",
    "\n",
    "            # Move elements from bottom to left\n",
    "            for j in range(n - 1 - l, l, -1):\n",
    "                matrix[m - 1 - l][j] = matrix[m - 1 - l][j - 1]\n",
    "\n",
    "            # Move elements from left to top\n",
    "            for i in range(m - 1 - l, l + 1, -1):\n",
    "                matrix[i][l] = matrix[i - 1][l]\n",
    "\n",
    "            matrix[l + 1][l] = temp\n",
    "\n",
    "    for x in matrix:\n",
    "        print(*x)"
   ]
  },
  {
   "cell_type": "code",
   "execution_count": 56,
   "id": "98286aed",
   "metadata": {},
   "outputs": [],
   "source": [
    "# Trying to reduce one loop - as time limit exeeced for few test cases\n",
    "\n",
    "# Submission code\n",
    "def matrixRotation(matrix, r):\n",
    "    \n",
    "    for x in range(r):\n",
    "        for layer in range(min(m, n) // 2):\n",
    "            rotations = r % (2 * (m + n - 4 * layer) - 4)\n",
    "\n",
    "            for y in range(rotations):\n",
    "                temp = matrix[layer][layer]\n",
    "\n",
    "                # Move elements from top to right\n",
    "                for j in range(layer, n - 1 - layer):\n",
    "                    matrix[layer][j] = matrix[layer][j + 1]\n",
    "\n",
    "                # Move elements from right to bottom\n",
    "                for i in range(layer, m - 1 - layer):\n",
    "                    matrix[i][n - 1 - layer] = matrix[i + 1][n - 1 - layer]\n",
    "\n",
    "                # Move elements from bottom to left\n",
    "                for j in range(n - 1 - layer, layer, -1):\n",
    "                    matrix[m - 1 - layer][j] = matrix[m - 1 - layer][j - 1]\n",
    "\n",
    "                # Move elements from left to top\n",
    "                for i in range(m - 1 - layer, layer, -1):\n",
    "                    matrix[i][layer] = matrix[i - 1][layer]\n",
    "\n",
    "                matrix[layer + 1][layer] = temp\n",
    "\n",
    "    for row in matrix:\n",
    "        print(*row)"
   ]
  },
  {
   "cell_type": "code",
   "execution_count": null,
   "id": "6af02ce9",
   "metadata": {},
   "outputs": [],
   "source": []
  }
 ],
 "metadata": {
  "kernelspec": {
   "display_name": "Python 3 (ipykernel)",
   "language": "python",
   "name": "python3"
  },
  "language_info": {
   "codemirror_mode": {
    "name": "ipython",
    "version": 3
   },
   "file_extension": ".py",
   "mimetype": "text/x-python",
   "name": "python",
   "nbconvert_exporter": "python",
   "pygments_lexer": "ipython3",
   "version": "3.11.5"
  }
 },
 "nbformat": 4,
 "nbformat_minor": 5
}
