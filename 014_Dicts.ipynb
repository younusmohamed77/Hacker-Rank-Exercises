{
 "cells": [
  {
   "cell_type": "markdown",
   "id": "1f24f91a",
   "metadata": {},
   "source": [
    "The provided code stub will read in a dictionary containing key/value pairs of name:[marks] for a list of students. Print the average of the marks array for the student name provided, showing 2 places after the decimal.\n",
    "\n",
    "#### Example\n",
    "marks key:value pair are\n",
    "'alpha':[20,30,40]\n",
    "'beta':[30,50,70]\n",
    "query_name = 'beta'\n",
    "\n",
    "The query_name is 'beta'. beta's average score is .\n",
    "(30+50+70)/3 = 50.0\n",
    "\n",
    "#### Input Format\n",
    "\n",
    "The first line contains the integer n, the number of students' records. The next n lines contain the names and marks obtained by a student, each value separated by a space. The final line contains query_name, the name of a student to query.\n",
    "\n",
    "#### Constraints\n",
    "- 2 <= n <= 10\n",
    "- 0 <= marks[i] <= 100\n",
    "- length of marks arrays = 3\n",
    "\n",
    "Output Format\n",
    "\n",
    "Print one line: The average of the marks obtained by the particular student correct to 2 decimal places."
   ]
  },
  {
   "cell_type": "code",
   "execution_count": 12,
   "id": "6baa7fa9",
   "metadata": {},
   "outputs": [
    {
     "name": "stdout",
     "output_type": "stream",
     "text": [
      "3\n",
      "k 67 68 69\n",
      "a 70 98 63\n",
      "m 52 56 60\n",
      "m\n",
      "56.00\n"
     ]
    }
   ],
   "source": [
    "if __name__ == '__main__':\n",
    "    n = int(input())\n",
    "    student_marks = {}\n",
    "    \n",
    "    for _ in range(n):\n",
    "        name, *line = input().split()    # This will give the output as the first element before space as one element and the rest as list\n",
    "        scores = list(map(float, line))    # first, *rest\n",
    "        student_marks[name] = scores\n",
    "    query_name = input()\n",
    "    \n",
    "    print(\"%.2f\" % (sum(student_marks[query_name]) / len(student_marks[query_name])))    # Limiting 2 decimal places"
   ]
  },
  {
   "cell_type": "code",
   "execution_count": null,
   "id": "21dedbf8",
   "metadata": {},
   "outputs": [],
   "source": []
  }
 ],
 "metadata": {
  "kernelspec": {
   "display_name": "Python 3 (ipykernel)",
   "language": "python",
   "name": "python3"
  },
  "language_info": {
   "codemirror_mode": {
    "name": "ipython",
    "version": 3
   },
   "file_extension": ".py",
   "mimetype": "text/x-python",
   "name": "python",
   "nbconvert_exporter": "python",
   "pygments_lexer": "ipython3",
   "version": "3.8.18"
  }
 },
 "nbformat": 4,
 "nbformat_minor": 5
}
