{
 "cells": [
  {
   "cell_type": "markdown",
   "id": "0a83cbf3",
   "metadata": {},
   "source": [
    "Alice and Bob play the following game:\n",
    "\n",
    "1. They choose a permutation of the numbers 1 to n.\n",
    "2. Alice plays first and they alternate.\n",
    "3. In a turn, they can remove any one remaining number from the permutation.\n",
    "4. The game ends when the remaining numbers form an increasing sequence of  or more numbers. The person who played the turn that leaves an increasing sequence wins the game.\n",
    "Assuming both play optimally, who wins the game? Return Alice or Bob.\n",
    "\n",
    "https://www.hackerrank.com/challenges/permutation-game/problem"
   ]
  },
  {
   "cell_type": "code",
   "execution_count": null,
   "id": "f9ae50b9",
   "metadata": {},
   "outputs": [],
   "source": [
    "#!/bin/python3\n",
    "\n",
    "import math\n",
    "import os\n",
    "import random\n",
    "import re\n",
    "import sys\n",
    "\n",
    "#\n",
    "# Complete the 'permutationGame' function below.\n",
    "#\n",
    "# The function is expected to return a STRING.\n",
    "# The function accepts INTEGER_ARRAY arr as parameter.\n",
    "#\n",
    "\n",
    "def permutationGame(arr):\n",
    "    # Write your code here\n",
    "\n",
    "if __name__ == '__main__':\n",
    "    fptr = open(os.environ['OUTPUT_PATH'], 'w')\n",
    "\n",
    "    t = int(input().strip())\n",
    "\n",
    "    for t_itr in range(t):\n",
    "        arr_count = int(input().strip())\n",
    "\n",
    "        arr = list(map(int, input().rstrip().split()))\n",
    "\n",
    "        result = permutationGame(arr)\n",
    "\n",
    "        fptr.write(result + '\\n')\n",
    "\n",
    "    fptr.close()"
   ]
  },
  {
   "cell_type": "code",
   "execution_count": 35,
   "id": "543e0b12",
   "metadata": {},
   "outputs": [
    {
     "name": "stdout",
     "output_type": "stream",
     "text": [
      "2\n",
      "3\n",
      "1 3 2\n",
      "Alice\n",
      "5\n",
      "5 3 2 1 4\n",
      "Alice\n"
     ]
    }
   ],
   "source": [
    "if __name__ == '__main__':\n",
    "    t = int(input().strip())\n",
    "\n",
    "    for t_itr in range(t):\n",
    "        arr_count = int(input().strip())\n",
    "        arr = list(map(int, input().rstrip().split()))\n",
    "        result = permutationGame(arr)\n",
    "        print(result)"
   ]
  },
  {
   "cell_type": "code",
   "execution_count": 17,
   "id": "d7aac08b",
   "metadata": {},
   "outputs": [],
   "source": [
    "def permutationGame(arr):\n",
    "    winner = 'Alice'\n",
    "    \n",
    "    for i in range(len(arr)):\n",
    "        \n",
    "        if arr == sorted(arr):\n",
    "            break\n",
    "        \n",
    "        else:\n",
    "            second_largest = sorted(arr, reverse = True)[1]\n",
    "            arr.remove(second_largest)    # Droping the first occurance of the second largest number\n",
    "            \n",
    "            if winner == \"Alice\":\n",
    "                winner = 'Bob'\n",
    "                \n",
    "            elif winner == \"Bob\":\n",
    "                winner = 'Alice'\n",
    "                \n",
    "    print(winner)"
   ]
  },
  {
   "cell_type": "code",
   "execution_count": 6,
   "id": "25754412",
   "metadata": {},
   "outputs": [
    {
     "name": "stdout",
     "output_type": "stream",
     "text": [
      "True\n"
     ]
    }
   ],
   "source": [
    "print(bool(sorted([1])))"
   ]
  },
  {
   "cell_type": "code",
   "execution_count": 33,
   "id": "9ee2c406",
   "metadata": {},
   "outputs": [],
   "source": [
    "def permutationGame(arr):\n",
    "    winner = 'Bob'\n",
    "    \n",
    "    for i in range(len(arr)):\n",
    "        \n",
    "        if arr == sorted(arr):\n",
    "            break\n",
    "        \n",
    "        else:\n",
    "            second_largest = sorted(arr, reverse = True)[1]\n",
    "            arr.remove(second_largest)    # Droping the first occurance of the second largest number\n",
    "            \n",
    "            if winner == \"Alice\":\n",
    "                winner = 'Bob'\n",
    "                \n",
    "            elif winner == \"Bob\":\n",
    "                winner = 'Alice'\n",
    "                \n",
    "    print(winner)"
   ]
  },
  {
   "cell_type": "code",
   "execution_count": 28,
   "id": "ea9b174c",
   "metadata": {},
   "outputs": [
    {
     "name": "stdout",
     "output_type": "stream",
     "text": [
      "5\n",
      "5 3 2 1 4\n",
      "SL 4\n",
      "[5, 3, 2, 1]\n",
      "SL 3\n",
      "[5, 2, 1]\n",
      "SL 2\n",
      "[5, 1]\n",
      "SL 1\n",
      "[5]\n",
      "if Bob\n",
      "Bob\n"
     ]
    }
   ],
   "source": [
    "arr_count = int(input().strip())\n",
    "arr = list(map(int, input().rstrip().split()))\n",
    "result = permutationGame(arr)"
   ]
  },
  {
   "cell_type": "code",
   "execution_count": null,
   "id": "c0add5ab",
   "metadata": {},
   "outputs": [],
   "source": [
    "# Submission code\n",
    "def permutationGame(arr):\n",
    "    winner = 'Bob'\n",
    "    \n",
    "    for i in range(len(arr)):\n",
    "        \n",
    "        if arr == sorted(arr):\n",
    "            break\n",
    "        \n",
    "        else:\n",
    "            second_largest = sorted(arr, reverse = True)[1]\n",
    "            arr.remove(second_largest)    # Droping the first occurance of the second largest number\n",
    "            \n",
    "            if winner == \"Alice\":\n",
    "                winner = 'Bob'\n",
    "                \n",
    "            elif winner == \"Bob\":\n",
    "                winner = 'Alice'\n",
    "                \n",
    "    return winner"
   ]
  },
  {
   "cell_type": "code",
   "execution_count": 14,
   "id": "613bd82a",
   "metadata": {},
   "outputs": [],
   "source": [
    "# Submission code\n",
    "def permutationGame(arr):\n",
    "    winner = 'Bob'\n",
    "    \n",
    "    for i in range(len(arr)):\n",
    "        print(\"Arr start\",arr)\n",
    "        if arr == sorted(arr):\n",
    "            break\n",
    "        \n",
    "        else:\n",
    "            if max(arr) == arr[0]:\n",
    "                arr.remove(arr[0])\n",
    "            elif min(arr) != arr[0]:\n",
    "                arr.remove(arr[0])\n",
    "            else:\n",
    "                second_largest = sorted(arr, reverse = True)[1]\n",
    "                arr.remove(second_largest)    # Droping the first occurance of the second largest number\n",
    "            print(\"Arr End\",arr)\n",
    "            if winner == \"Alice\":\n",
    "                winner = 'Bob'\n",
    "            elif winner == \"Bob\":\n",
    "                winner = 'Alice'\n",
    "            print(winner)\n",
    "                \n",
    "    print(\"Final\", winner)\n",
    "    return winner"
   ]
  },
  {
   "cell_type": "code",
   "execution_count": 19,
   "id": "559469cf",
   "metadata": {},
   "outputs": [],
   "source": [
    "# Submission code\n",
    "def permutationGame(arr):\n",
    "    winner = 'Bob'\n",
    "    \n",
    "    for i in range(len(arr)):\n",
    "        print(\"Arr start\",arr)\n",
    "        if arr == sorted(arr):\n",
    "            break\n",
    "        \n",
    "        else:\n",
    "            if max(arr) == arr[0]:\n",
    "                arr.remove(arr[0])\n",
    "            elif min(arr) != arr[0]:\n",
    "                arr.remove(arr[0])\n",
    "            else:\n",
    "                second_largest = sorted(arr, reverse = True)[1]\n",
    "                arr.remove(second_largest)    # Droping the first occurance of the second largest number\n",
    "            print(\"Arr End\",arr)\n",
    "            if winner == \"Alice\":\n",
    "                winner = 'Bob'\n",
    "            elif winner == \"Bob\":\n",
    "                winner = 'Alice'\n",
    "            print(winner)\n",
    "                \n",
    "    print(\"Final\", winner)\n",
    "    return winner"
   ]
  },
  {
   "cell_type": "code",
   "execution_count": 20,
   "id": "3bb00f2f",
   "metadata": {},
   "outputs": [
    {
     "name": "stdout",
     "output_type": "stream",
     "text": [
      "5\n",
      "5 3 2 1 4\n",
      "Arr start [5, 3, 2, 1, 4]\n",
      "Arr End [3, 2, 1, 4]\n",
      "Alice\n",
      "Arr start [3, 2, 1, 4]\n",
      "Arr End [2, 1, 4]\n",
      "Bob\n",
      "Arr start [2, 1, 4]\n",
      "Arr End [1, 4]\n",
      "Alice\n",
      "Arr start [1, 4]\n",
      "Final Alice\n",
      "Alice\n"
     ]
    }
   ],
   "source": [
    "arr_count = int(input().strip())\n",
    "arr = list(map(int, input().rstrip().split()))\n",
    "result = permutationGame(arr)\n",
    "print(result)"
   ]
  },
  {
   "cell_type": "code",
   "execution_count": null,
   "id": "16a6fc5f",
   "metadata": {},
   "outputs": [],
   "source": [
    "# Submission code\n",
    "def permutationGame(arr):\n",
    "    winner = 'Bob'\n",
    "    \n",
    "    for i in range(len(arr)):\n",
    "        \n",
    "        if arr == sorted(arr):\n",
    "            break\n",
    "        \n",
    "        else:\n",
    "            if max(arr) == arr[0]:\n",
    "                arr.remove(arr[0])\n",
    "            elif min(arr) != arr[0]:\n",
    "                arr.remove(arr[0])\n",
    "            else:\n",
    "                second_largest = sorted(arr, reverse = True)[1]\n",
    "                arr.remove(second_largest)    # Droping the first occurance of the second largest number\n",
    "           \n",
    "            if winner == \"Alice\":\n",
    "                winner = 'Bob'\n",
    "            elif winner == \"Bob\":\n",
    "                winner = 'Alice'\n",
    "        \n",
    "    return winner"
   ]
  },
  {
   "cell_type": "code",
   "execution_count": 24,
   "id": "44b76ce3",
   "metadata": {},
   "outputs": [],
   "source": [
    "def permutationGame(arr):\n",
    "    return \"Bob\" if len(arr) % 2 == 0 else \"Alice\""
   ]
  },
  {
   "cell_type": "code",
   "execution_count": 40,
   "id": "27a95235",
   "metadata": {},
   "outputs": [],
   "source": [
    "def permutationGame(arr):\n",
    "    n = len(arr)\n",
    "    inv_count = 0\n",
    "\n",
    "    for i in range(n - 1):\n",
    "        \n",
    "        for j in range(i + 1, n):\n",
    "            \n",
    "            if arr[i] > arr[j]:\n",
    "                inv_count += 1\n",
    "\n",
    "    return \"Alice\" if inv_count % 2 == 1 else \"Bob\""
   ]
  },
  {
   "cell_type": "code",
   "execution_count": 41,
   "id": "bd6e8e22",
   "metadata": {},
   "outputs": [
    {
     "name": "stdout",
     "output_type": "stream",
     "text": [
      "2\n",
      "3\n",
      "1 3 2\n",
      "0\n",
      "Bob\n",
      "\n"
     ]
    },
    {
     "ename": "ValueError",
     "evalue": "invalid literal for int() with base 10: ''",
     "output_type": "error",
     "traceback": [
      "\u001b[1;31m---------------------------------------------------------------------------\u001b[0m",
      "\u001b[1;31mValueError\u001b[0m                                Traceback (most recent call last)",
      "Cell \u001b[1;32mIn[41], line 5\u001b[0m\n\u001b[0;32m      2\u001b[0m t \u001b[38;5;241m=\u001b[39m \u001b[38;5;28mint\u001b[39m(\u001b[38;5;28minput\u001b[39m()\u001b[38;5;241m.\u001b[39mstrip())\n\u001b[0;32m      4\u001b[0m \u001b[38;5;28;01mfor\u001b[39;00m t_itr \u001b[38;5;129;01min\u001b[39;00m \u001b[38;5;28mrange\u001b[39m(t):\n\u001b[1;32m----> 5\u001b[0m     arr_count \u001b[38;5;241m=\u001b[39m \u001b[38;5;28mint\u001b[39m(\u001b[38;5;28minput\u001b[39m()\u001b[38;5;241m.\u001b[39mstrip())\n\u001b[0;32m      6\u001b[0m     arr \u001b[38;5;241m=\u001b[39m \u001b[38;5;28mlist\u001b[39m(\u001b[38;5;28mmap\u001b[39m(\u001b[38;5;28mint\u001b[39m, \u001b[38;5;28minput\u001b[39m()\u001b[38;5;241m.\u001b[39mrstrip()\u001b[38;5;241m.\u001b[39msplit()))\n\u001b[0;32m      7\u001b[0m     result \u001b[38;5;241m=\u001b[39m permutationGame(arr)\n",
      "\u001b[1;31mValueError\u001b[0m: invalid literal for int() with base 10: ''"
     ]
    }
   ],
   "source": [
    "if __name__ == '__main__':\n",
    "    t = int(input().strip())\n",
    "\n",
    "    for t_itr in range(t):\n",
    "        arr_count = int(input().strip())\n",
    "        arr = list(map(int, input().rstrip().split()))\n",
    "        result = permutationGame(arr)\n",
    "        print(result)"
   ]
  },
  {
   "cell_type": "code",
   "execution_count": null,
   "id": "b8cbc004",
   "metadata": {},
   "outputs": [],
   "source": []
  }
 ],
 "metadata": {
  "kernelspec": {
   "display_name": "Python 3 (ipykernel)",
   "language": "python",
   "name": "python3"
  },
  "language_info": {
   "codemirror_mode": {
    "name": "ipython",
    "version": 3
   },
   "file_extension": ".py",
   "mimetype": "text/x-python",
   "name": "python",
   "nbconvert_exporter": "python",
   "pygments_lexer": "ipython3",
   "version": "3.11.5"
  }
 },
 "nbformat": 4,
 "nbformat_minor": 5
}
