{
 "cells": [
  {
   "cell_type": "markdown",
   "id": "9cf5b9f1",
   "metadata": {},
   "source": [
    "#### Minion Game\n",
    "Kevin and Stuart want to play the 'The Minion Game'.\n",
    "\n",
    "##### Game Rules\n",
    "- Both players are given the same string, S.\n",
    "- Both players have to make substrings using the letters of the string S.\n",
    "- Stuart has to make words starting with consonants.\n",
    "- Kevin has to make words starting with vowels.\n",
    "- The game ends when both players have made all possible substrings.\n",
    "\n",
    "##### Scoring\n",
    "A player gets +1 point for each occurrence of the substring in the string .\n",
    "\n",
    "##### For Example:\n",
    "- String S = BANANA\n",
    "- Kevin's vowel beginning word = ANA\n",
    "- Here, ANA occurs twice in BANANA. Hence, Kevin will get 2 Points."
   ]
  },
  {
   "cell_type": "code",
   "execution_count": 1,
   "id": "604b56f6",
   "metadata": {},
   "outputs": [
    {
     "ename": "SyntaxError",
     "evalue": "incomplete input (1081345699.py, line 2)",
     "output_type": "error",
     "traceback": [
      "\u001b[1;36m  Cell \u001b[1;32mIn[1], line 2\u001b[1;36m\u001b[0m\n\u001b[1;33m    # your code goes here\u001b[0m\n\u001b[1;37m                         ^\u001b[0m\n\u001b[1;31mSyntaxError\u001b[0m\u001b[1;31m:\u001b[0m incomplete input\n"
     ]
    }
   ],
   "source": [
    "def minion_game(string):\n",
    "    "
   ]
  },
  {
   "cell_type": "code",
   "execution_count": 2,
   "id": "3c443cde",
   "metadata": {},
   "outputs": [
    {
     "ename": "SyntaxError",
     "evalue": "incomplete input (1395342149.py, line 1)",
     "output_type": "error",
     "traceback": [
      "\u001b[1;36m  Cell \u001b[1;32mIn[2], line 1\u001b[1;36m\u001b[0m\n\u001b[1;33m    if __name__ == '__main__':\u001b[0m\n\u001b[1;37m                              ^\u001b[0m\n\u001b[1;31mSyntaxError\u001b[0m\u001b[1;31m:\u001b[0m incomplete input\n"
     ]
    }
   ],
   "source": [
    "if __name__ == '__main__':"
   ]
  },
  {
   "cell_type": "code",
   "execution_count": 3,
   "id": "8277a5cc",
   "metadata": {},
   "outputs": [],
   "source": [
    "string = \"BANANA\""
   ]
  },
  {
   "cell_type": "code",
   "execution_count": 5,
   "id": "b5ea5f35",
   "metadata": {},
   "outputs": [
    {
     "data": {
      "text/plain": [
       "['B', 'A', 'N', 'A', 'N', 'A']"
      ]
     },
     "execution_count": 5,
     "metadata": {},
     "output_type": "execute_result"
    }
   ],
   "source": [
    "str_list = list(string)\n",
    "str_list"
   ]
  },
  {
   "cell_type": "code",
   "execution_count": 9,
   "id": "a9221642",
   "metadata": {},
   "outputs": [],
   "source": [
    "vowels = ['A', 'E', 'I', 'O', 'U']\n",
    "kevin = 0\n",
    "stuart = 0"
   ]
  },
  {
   "cell_type": "code",
   "execution_count": 10,
   "id": "c35172a4",
   "metadata": {},
   "outputs": [
    {
     "name": "stdout",
     "output_type": "stream",
     "text": [
      "Kevin : 3\n",
      "Stuart : 3\n"
     ]
    }
   ],
   "source": [
    "for s in string:\n",
    "    \n",
    "    if s in vowels:\n",
    "        kevin += 1\n",
    "        \n",
    "    else:\n",
    "        stuart += 1\n",
    "        \n",
    "print(\"Kevin :\", kevin)\n",
    "print(\"Stuart :\", stuart)"
   ]
  },
  {
   "cell_type": "code",
   "execution_count": 11,
   "id": "9160b911",
   "metadata": {},
   "outputs": [
    {
     "name": "stdout",
     "output_type": "stream",
     "text": [
      "{'B': 1, 'A': 3, 'N': 2}\n"
     ]
    }
   ],
   "source": [
    "str_list = []\n",
    "str_dict = {}\n",
    "\n",
    "for i in string:\n",
    "    if i in str_dict:\n",
    "        str_dict[i] += 1\n",
    "            \n",
    "    elif i not in str_dict:\n",
    "        str_dict[i] = 1\n",
    "        \n",
    "print(str_dict)"
   ]
  },
  {
   "cell_type": "code",
   "execution_count": 12,
   "id": "7e027884",
   "metadata": {},
   "outputs": [
    {
     "name": "stdout",
     "output_type": "stream",
     "text": [
      "{'B': 1, 'BA': 1, 'BAN': 1, 'BANA': 1, 'BANAN': 1, 'BANANA': 1, 'A': 3, 'AN': 2, 'ANA': 2, 'ANAN': 1, 'ANANA': 1, 'N': 2, 'NA': 2, 'NAN': 1, 'NANA': 1}\n"
     ]
    }
   ],
   "source": [
    "str_dict = {}\n",
    "strlen = len(string)\n",
    "\n",
    "for i in range(strlen):\n",
    "    \n",
    "    for j in range (i + 1, strlen + 1):\n",
    "        substring = string[i:j]\n",
    "        \n",
    "        if substring in str_dict:\n",
    "            str_dict[substring] += 1\n",
    "            \n",
    "        elif substring not in str_dict:\n",
    "            str_dict[substring] = 1\n",
    "        \n",
    "print(str_dict)"
   ]
  },
  {
   "cell_type": "code",
   "execution_count": 16,
   "id": "a975843a",
   "metadata": {},
   "outputs": [
    {
     "name": "stdout",
     "output_type": "stream",
     "text": [
      "Kevin : 9\n",
      "Stuart : 12\n"
     ]
    }
   ],
   "source": [
    "kevin = 0\n",
    "stuart = 0\n",
    "\n",
    "for k in str_dict:\n",
    "\n",
    "    if k[0] in vowels:\n",
    "        kevin += str_dict[k]\n",
    "        \n",
    "    else:\n",
    "        stuart += str_dict[k]\n",
    "        \n",
    "print(\"Kevin :\", kevin)\n",
    "print(\"Stuart :\", stuart)"
   ]
  },
  {
   "cell_type": "code",
   "execution_count": 21,
   "id": "d9363d62",
   "metadata": {},
   "outputs": [
    {
     "name": "stdout",
     "output_type": "stream",
     "text": [
      "BANANA\n",
      "Stuart 12\n"
     ]
    }
   ],
   "source": [
    "# Submission code\n",
    "# Time limit exceeded\n",
    "# Your code did not execute within the time limits. Please optimize your code. \n",
    "# For more information on execution time limits, refer to the environment page\n",
    "\n",
    "def minion_game(string):\n",
    "    str_dict = {}\n",
    "    strlen = len(string)\n",
    "    vowels = 'AEIOU'\n",
    "    kevin = 0\n",
    "    stuart = 0\n",
    "\n",
    "    for i in range(strlen):\n",
    "    \n",
    "        for j in range (i + 1, strlen + 1):\n",
    "            substring = string[i:j]\n",
    "        \n",
    "            if substring in str_dict:\n",
    "                str_dict[substring] += 1\n",
    "            \n",
    "            elif substring not in str_dict:\n",
    "                str_dict[substring] = 1\n",
    "    \n",
    "    for k in str_dict:\n",
    "\n",
    "        if k[0] in vowels:\n",
    "            kevin += str_dict[k]\n",
    "        \n",
    "        else:\n",
    "            stuart += str_dict[k]\n",
    "            \n",
    "    if kevin > stuart:\n",
    "        print(\"Kevin\", kevin)\n",
    "        \n",
    "    elif stuart > kevin:\n",
    "        print(\"Stuart\", stuart)\n",
    "        \n",
    "    else:\n",
    "        print(\"Draw\")\n",
    "        \n",
    "if __name__ == '__main__':\n",
    "    s = input()\n",
    "    \n",
    "    if len(s) > 0 and len(s) <= 1000000:\n",
    "        minion_game(s)"
   ]
  },
  {
   "cell_type": "code",
   "execution_count": 20,
   "id": "60d51e12",
   "metadata": {},
   "outputs": [
    {
     "name": "stdout",
     "output_type": "stream",
     "text": [
      "Stuart 6\n",
      "Kevin 5\n",
      "Stuart 10\n",
      "Kevin 8\n",
      "Stuart 12\n",
      "Kevin 9\n",
      "Stuart 12\n"
     ]
    }
   ],
   "source": [
    "def minion_game(string):\n",
    "    vowels = 'AEIOU'\n",
    "    length = len(string)\n",
    "    stuart_score, kevin_score = 0, 0\n",
    "\n",
    "    for i in range(length):\n",
    "        if string[i] in vowels:\n",
    "            kevin_score += length - i\n",
    "            print(\"Kevin\", kevin_score)\n",
    "        else:\n",
    "            stuart_score += length - i\n",
    "            print(\"Stuart\", stuart_score)\n",
    "\n",
    "    if stuart_score > kevin_score:\n",
    "        print(\"Stuart\", stuart_score)\n",
    "    elif kevin_score > stuart_score:\n",
    "        print(\"Kevin\", kevin_score)\n",
    "    else:\n",
    "        print(\"Draw\")\n",
    "\n",
    "# Example usage:\n",
    "input_string = \"BANANA\"\n",
    "minion_game(input_string)\n"
   ]
  },
  {
   "cell_type": "code",
   "execution_count": 27,
   "id": "e97ee606",
   "metadata": {},
   "outputs": [
    {
     "name": "stdout",
     "output_type": "stream",
     "text": [
      "BANANA\n",
      "Stuart 12\n"
     ]
    }
   ],
   "source": [
    "# Submission code\n",
    "\n",
    "def minion_game(string):\n",
    "    strlen = len(string)\n",
    "    vowels = 'AEIOU'\n",
    "    kevin, stuart = 0, 0\n",
    "\n",
    "    for i in range(strlen):\n",
    "        \n",
    "            if string[i] in vowels: kevin += strlen - i\n",
    "            else : stuart += strlen - i\n",
    "            \n",
    "    if kevin > stuart: print(\"Kevin\", kevin)\n",
    "    elif stuart > kevin: print(\"Stuart\", stuart)\n",
    "    else: print(\"Draw\")\n",
    "        \n",
    "if __name__ == '__main__':\n",
    "    s = input()\n",
    "    \n",
    "    if len(s) > 0 and len(s) <= 1000000:\n",
    "        minion_game(s)"
   ]
  },
  {
   "cell_type": "code",
   "execution_count": null,
   "id": "ef04e200",
   "metadata": {},
   "outputs": [],
   "source": []
  }
 ],
 "metadata": {
  "kernelspec": {
   "display_name": "Python 3 (ipykernel)",
   "language": "python",
   "name": "python3"
  },
  "language_info": {
   "codemirror_mode": {
    "name": "ipython",
    "version": 3
   },
   "file_extension": ".py",
   "mimetype": "text/x-python",
   "name": "python",
   "nbconvert_exporter": "python",
   "pygments_lexer": "ipython3",
   "version": "3.11.5"
  }
 },
 "nbformat": 4,
 "nbformat_minor": 5
}
