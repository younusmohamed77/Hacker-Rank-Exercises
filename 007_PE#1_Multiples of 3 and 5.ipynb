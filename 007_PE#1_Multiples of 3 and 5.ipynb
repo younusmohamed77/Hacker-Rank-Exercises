{
 "cells": [
  {
   "cell_type": "markdown",
   "id": "4e926222",
   "metadata": {},
   "source": [
    "#### This problem is a programming version of Problem 1 from projecteuler.net\n",
    "\n",
    "If we list all the natural numbers below 10 that are multiples of 3 or 5, we get 3, 5, 6 and 9. The sum of these multiples is 23. Find the sum of all the multiples of 3 or 5 below N.\n",
    "\n",
    "#### Input Format\n",
    "\n",
    "First line contains T that denotes the number of test cases. This is followed by T lines, each containing an integer, N.\n",
    "\n",
    "#### Constraints\n",
    "- 1 <= T <= 10^5\n",
    "- 1 <= N <= 10^9\n",
    "\n",
    "#### Output Format\n",
    "\n",
    "For each test case, print an integer that denotes the sum of all the multiples of 3 or 5 below N."
   ]
  },
  {
   "cell_type": "code",
   "execution_count": 5,
   "id": "09694ad0",
   "metadata": {},
   "outputs": [
    {
     "name": "stdout",
     "output_type": "stream",
     "text": [
      "1\n",
      "10\n",
      "23\n"
     ]
    }
   ],
   "source": [
    "#!/bin/python3\n",
    "\n",
    "import sys\n",
    "\n",
    "t = int(input().strip())    # Input for number of test cases, T\n",
    "\n",
    "if(t >= 1 and t <= 10**5):    # Checking the constraints for T\n",
    "    \n",
    "    for a0 in range(t):    # Running the loop T times\n",
    "        n = int(input().strip())    # Maximum number to terminate the process, N\n",
    "        \n",
    "        if(n >= 1 and n <= 10**9):    # Checking the contraints of N\n",
    "            nlist = []    # List to hold the multiples of 3 and 5\n",
    "            \n",
    "            for a1 in range(n):     # Running the loop till we reach the maximim number\n",
    "        \n",
    "                if (a1 % 3 == 0 or a1 % 5 == 0):    # Checking if the number is a multiple of 3 or 5\n",
    "            \n",
    "                    if (a1 != 0):    # Appending all multiples except  0\n",
    "                        nlist.append(a1)\n",
    "     \n",
    "        nlist_sum = 0    # List to hold the sum of numbers\n",
    "            \n",
    "        for i in nlist:    # Looping to find the sum of all multiples\n",
    "            nlist_sum += i\n",
    "        \n",
    "        print(nlist_sum)"
   ]
  },
  {
   "cell_type": "code",
   "execution_count": 2,
   "id": "b9eee558",
   "metadata": {},
   "outputs": [
    {
     "name": "stdout",
     "output_type": "stream",
     "text": [
      "1\n",
      "10\n",
      "23\n"
     ]
    }
   ],
   "source": [
    "#!/bin/python3\n",
    "import numpy as np\n",
    "t = int(input().strip())\n",
    "for a0 in range(t):\n",
    "    n = int(input().strip())\n",
    "    nlist = []\n",
    "    \n",
    "    for a1 in range(n):\n",
    "     \n",
    "        if (a1 % 3 == 0 or a1 % 5 == 0):\n",
    "            nlist.append(a1)\n",
    "     \n",
    "    nlist_sum = sum(nlist)\n",
    "    print(nlist_sum)"
   ]
  },
  {
   "cell_type": "code",
   "execution_count": null,
   "id": "6688fa3f",
   "metadata": {},
   "outputs": [],
   "source": [
    "#!/bin/python3\n",
    "import numpy as np\n",
    "t = int(input().strip())\n",
    "for a0 in range(t):\n",
    "    n = int(input().strip())\n",
    "    nlist = []\n",
    "    \n",
    "    for a1 in range(n):\n",
    "     \n",
    "        if (np.mod(a1 , 3) == 0 or np.mod(a1 , 5) == 0):\n",
    "            nlist.append(a1)\n",
    "     \n",
    "    nlist_sum = sum(nlist)\n",
    "    print(nlist_sum)"
   ]
  },
  {
   "cell_type": "code",
   "execution_count": 4,
   "id": "0d1e8c47",
   "metadata": {},
   "outputs": [
    {
     "name": "stdout",
     "output_type": "stream",
     "text": [
      "1\n",
      "10\n",
      "23\n"
     ]
    }
   ],
   "source": [
    "#!/bin/python3\n",
    "import math\n",
    "t = int(input().strip())\n",
    "for a0 in range(t):\n",
    "    n = int(input().strip())\n",
    "    nlist = []\n",
    "    \n",
    "    for a1 in range(n):\n",
    "     \n",
    "        if(math.fmod(a1 , 3) == 0 or math.fmod(a1 , 5) == 0):\n",
    "            nlist.append(a1)\n",
    "     \n",
    "    nlist_sum = sum(nlist)\n",
    "    print(nlist_sum)"
   ]
  },
  {
   "cell_type": "code",
   "execution_count": 7,
   "id": "a7b4680c",
   "metadata": {},
   "outputs": [
    {
     "name": "stdout",
     "output_type": "stream",
     "text": [
      "1\n",
      "10\n",
      "23\n"
     ]
    }
   ],
   "source": [
    "#!/bin/python3\n",
    "\n",
    "import sys\n",
    "\n",
    "t = int(input().strip())    # Input for number of test cases, T\n",
    "\n",
    "if(t >= 1 and t <= 10**5):    # Checking the constraints for T\n",
    "    \n",
    "    for a0 in range(t):    # Running the loop T times\n",
    "        n = int(input().strip())    # Maximum number to terminate the process, N\n",
    "        \n",
    "        if(n >= 1 and n <= 10**9):    # Checking the contraints of N\n",
    "            nlist = []    # List to hold the multiples of 3 and 5\n",
    "            \n",
    "            for a1 in range(n):     # Running the loop till we reach the maximim number\n",
    "        \n",
    "                if a1 > 1000000:\n",
    "                    a1 = a1 // 1000\n",
    "                    \n",
    "                else:\n",
    "                    if (a1 % 3 == 0 or a1 % 5 == 0):    # Checking if the number is a multiple of 3 or 5\n",
    "            \n",
    "                        if (a1 != 0):    # Appending all multiples except  0\n",
    "                            nlist.append(a1)\n",
    "     \n",
    "        nlist_sum = 0    # List to hold the sum of numbers\n",
    "            \n",
    "        for i in nlist:    # Looping to find the sum of all multiples\n",
    "            nlist_sum += i\n",
    "        \n",
    "        print(nlist_sum)"
   ]
  },
  {
   "cell_type": "code",
   "execution_count": 8,
   "id": "9958d6e0",
   "metadata": {},
   "outputs": [
    {
     "name": "stdout",
     "output_type": "stream",
     "text": [
      "1\n",
      "10\n",
      "23\n"
     ]
    }
   ],
   "source": [
    "#!/bin/python3\n",
    "\n",
    "import sys\n",
    "\n",
    "t = int(input().strip())    # Input for number of test cases, T\n",
    "\n",
    "if(t >= 1 and t <= 10**5):    # Checking the constraints for T\n",
    "    \n",
    "    for a0 in range(t):    # Running the loop T times\n",
    "        n = int(input().strip())    # Maximum number to terminate the process, N\n",
    "        \n",
    "        if(n >= 1 and n <= 10**9):    # Checking the contraints of N\n",
    "            nlist = []    # List to hold the multiples of 3 and 5\n",
    "            \n",
    "            for a1 in range(n):     # Running the loop till we reach the maximim number\n",
    "        \n",
    "                if (divmod(a1, 3)[1] == 0 or divmod(a1, 5)[1] == 0):    # Checking if the number is a multiple of 3 or 5\n",
    "            \n",
    "                    if (a1 != 0):    # Appending all multiples except  0\n",
    "                        nlist.append(a1)\n",
    "     \n",
    "        nlist_sum = 0    # List to hold the sum of numbers\n",
    "            \n",
    "        for i in nlist:    # Looping to find the sum of all multiples\n",
    "            nlist_sum += i\n",
    "        \n",
    "        print(nlist_sum)"
   ]
  },
  {
   "cell_type": "code",
   "execution_count": 9,
   "id": "e1400757",
   "metadata": {},
   "outputs": [
    {
     "name": "stdout",
     "output_type": "stream",
     "text": [
      "1\n",
      "10\n",
      "23\n"
     ]
    }
   ],
   "source": [
    "#!/bin/python3\n",
    "\n",
    "t = int(input().strip())\n",
    "for a0 in range(t):\n",
    "    n = int(input().strip())\n",
    "    nlist = []\n",
    "    \n",
    "    for a1 in range(n):\n",
    "        \n",
    "        if a1 < 100000:\n",
    "     \n",
    "            if (a1 % 3 == 0 or a1 % 5 == 0):\n",
    "                nlist.append(a1)\n",
    "        \n",
    "        else:\n",
    "            a1 = a1 // 10000\n",
    "            if (a1 % 3 == 0 or a1 % 5 == 0):\n",
    "                nlist.append(a1)\n",
    "     \n",
    "    nlist_sum = sum(nlist)\n",
    "    print(nlist_sum)"
   ]
  },
  {
   "cell_type": "code",
   "execution_count": 16,
   "id": "0d69005f",
   "metadata": {},
   "outputs": [
    {
     "name": "stdout",
     "output_type": "stream",
     "text": [
      "1\n",
      "10\n",
      "23\n"
     ]
    }
   ],
   "source": [
    "def sum_multiples(num, mul):\n",
    "    n = num / mul\n",
    "    return n * (n + 1) * mul / 2\n",
    "\n",
    "for _ in range(int(input())):\n",
    "    num = int(input()) - 1\n",
    "    print(int(sum_multiples(num, 3) + sum_multiples(num, 5) - sum_multiples(num, 15)))"
   ]
  },
  {
   "cell_type": "code",
   "execution_count": 20,
   "id": "b1f85bfd",
   "metadata": {},
   "outputs": [
    {
     "name": "stdout",
     "output_type": "stream",
     "text": [
      "1\n",
      "10\n",
      "23\n"
     ]
    }
   ],
   "source": [
    "#!/bin/python3\n",
    "\n",
    "import sys\n",
    "\n",
    "t = int(input().strip())    # Input for number of test cases, T\n",
    "\n",
    "if(t >= 1 and t <= 10**5):    # Checking the constraints for T\n",
    "    \n",
    "    for a0 in range(t):    # Running the loop T times\n",
    "        n = int(input().strip())    # Maximum number to terminate the process, N\n",
    "        \n",
    "        if(n >= 1 and n <= 10**9):    # Checking the contraints of N\n",
    "            nlist = []    # List to hold the multiples of 3 and 5\n",
    "            \n",
    "            for a1 in range(n):     # Running the loop till we reach the maximim number\n",
    "        \n",
    "                if (a1 % 3 == 0 or a1 % 5 == 0):    # Checking if the number is a multiple of 3 or 5\n",
    "            \n",
    "                    if (a1 != 0):    # Appending all multiples except  0\n",
    "                        nlist.append(a1)\n",
    "     \n",
    "        nlist_sum = 0    # List to hold the sum of numbers\n",
    "            \n",
    "        for i in nlist:    # Looping to find the sum of all multiples\n",
    "            nlist_sum += i\n",
    "        \n",
    "        print(nlist_sum)"
   ]
  },
  {
   "cell_type": "code",
   "execution_count": 21,
   "id": "d6ba5a63",
   "metadata": {},
   "outputs": [
    {
     "name": "stdout",
     "output_type": "stream",
     "text": [
      "1\n",
      "10\n",
      "23\n"
     ]
    }
   ],
   "source": [
    "t=int(input())\n",
    "def ar(x):\n",
    "    return x*(x+1);\n",
    "for i in range(t):\n",
    "    n =int(input())\n",
    "    n -=1;\n",
    "    a=int(n/3);\n",
    "    b=int(n/5);\n",
    "    c=int(n/15);\n",
    "    print(int(int(3*ar(a) + 5*ar(b) - 15*ar(c))>>1));"
   ]
  },
  {
   "cell_type": "code",
   "execution_count": null,
   "id": "f0f182ef",
   "metadata": {},
   "outputs": [],
   "source": []
  }
 ],
 "metadata": {
  "kernelspec": {
   "display_name": "Python 3 (ipykernel)",
   "language": "python",
   "name": "python3"
  },
  "language_info": {
   "codemirror_mode": {
    "name": "ipython",
    "version": 3
   },
   "file_extension": ".py",
   "mimetype": "text/x-python",
   "name": "python",
   "nbconvert_exporter": "python",
   "pygments_lexer": "ipython3",
   "version": "3.8.18"
  }
 },
 "nbformat": 4,
 "nbformat_minor": 5
}
