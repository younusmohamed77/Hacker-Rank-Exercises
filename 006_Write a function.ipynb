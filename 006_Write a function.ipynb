{
 "cells": [
  {
   "cell_type": "markdown",
   "id": "d296236f",
   "metadata": {},
   "source": [
    "#### Function\n",
    "\n",
    "#### Task\n",
    "- Given a year, determine whether it is a leap year. If it is a leap year, return the Boolean True, otherwise return False.\n",
    "- Note that the code stub provided reads from STDIN and passes arguments to the is_leap function. It is only necessary to complete the is_leap function.\n",
    "\n",
    "#### Input Format\n",
    "- Read year, the year to test.\n",
    "\n",
    "#### Constraints\n",
    "- 1900 <= year <= 10^5\n",
    "\n",
    "#### Output Format\n",
    "- The function must return a Boolean value (True/False). Output is handled by the provided code stub."
   ]
  },
  {
   "cell_type": "code",
   "execution_count": 16,
   "id": "aab421a5",
   "metadata": {},
   "outputs": [
    {
     "name": "stdout",
     "output_type": "stream",
     "text": [
      "2100\n",
      "False\n"
     ]
    }
   ],
   "source": [
    "def is_leap(year):\n",
    "    leap = False\n",
    "    if(year % 4 == 0):\n",
    "        leap = True\n",
    "        if(year % 100 == 0):\n",
    "            if(year % 400 == 0):\n",
    "                exit\n",
    "            else:\n",
    "                leap = False\n",
    "    return leap\n",
    "\n",
    "year = int(input())\n",
    "print(is_leap(year))"
   ]
  },
  {
   "cell_type": "code",
   "execution_count": null,
   "id": "72ace7fc",
   "metadata": {},
   "outputs": [],
   "source": []
  }
 ],
 "metadata": {
  "kernelspec": {
   "display_name": "Python 3 (ipykernel)",
   "language": "python",
   "name": "python3"
  },
  "language_info": {
   "codemirror_mode": {
    "name": "ipython",
    "version": 3
   },
   "file_extension": ".py",
   "mimetype": "text/x-python",
   "name": "python",
   "nbconvert_exporter": "python",
   "pygments_lexer": "ipython3",
   "version": "3.8.18"
  }
 },
 "nbformat": 4,
 "nbformat_minor": 5
}
