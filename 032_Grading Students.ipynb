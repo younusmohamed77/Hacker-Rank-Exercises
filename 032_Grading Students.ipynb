{
 "cells": [
  {
   "cell_type": "markdown",
   "id": "498eeed4",
   "metadata": {},
   "source": [
    "HackerLand University has the following grading policy:\n",
    "\n",
    "- Every student receives a grade in the inclusive range from 0 to 100.\n",
    "- Any grade less than 40 is a failing grade.\n",
    "Sam is a professor at the university and likes to round each student's grade according to these rules:\n",
    "- If the difference between the grade and the next multiple of 5 is less than 3, round grade up to the next multiple of 5.\n",
    "- If the value of grade is less than 38, no rounding occurs as the result will still be a failing grade."
   ]
  },
  {
   "cell_type": "code",
   "execution_count": null,
   "id": "be14a6dc",
   "metadata": {},
   "outputs": [],
   "source": [
    "#!/bin/python3\n",
    "\n",
    "import math\n",
    "import os\n",
    "import random\n",
    "import re\n",
    "import sys\n",
    "\n",
    "#\n",
    "# Complete the 'gradingStudents' function below.\n",
    "#\n",
    "# The function is expected to return an INTEGER_ARRAY.\n",
    "# The function accepts INTEGER_ARRAY grades as parameter.\n",
    "#\n",
    "\n",
    "def gradingStudents(grades):\n",
    "    # Write your code here\n",
    "\n",
    "if __name__ == '__main__':\n",
    "    fptr = open(os.environ['OUTPUT_PATH'], 'w')\n",
    "\n",
    "    grades_count = int(input().strip())\n",
    "\n",
    "    grades = []\n",
    "\n",
    "    for _ in range(grades_count):\n",
    "        grades_item = int(input().strip())\n",
    "        grades.append(grades_item)\n",
    "\n",
    "    result = gradingStudents(grades)\n",
    "\n",
    "    fptr.write('\\n'.join(map(str, result)))\n",
    "    fptr.write('\\n')\n",
    "\n",
    "    fptr.close()\n"
   ]
  },
  {
   "cell_type": "code",
   "execution_count": 10,
   "id": "a352d28b",
   "metadata": {},
   "outputs": [
    {
     "name": "stdout",
     "output_type": "stream",
     "text": [
      "4\n",
      "73\n",
      "67\n",
      "38\n",
      "33\n",
      "[75, 67, 40, 33]\n"
     ]
    }
   ],
   "source": [
    "grades_count = int(input().strip())\n",
    "grades = []\n",
    "\n",
    "for _ in range(grades_count):\n",
    "    grades_item = int(input().strip())\n",
    "    grades.append(grades_item)\n",
    "\n",
    "result = gradingStudents(grades)\n",
    "print(result)"
   ]
  },
  {
   "cell_type": "code",
   "execution_count": 5,
   "id": "4d836e81",
   "metadata": {},
   "outputs": [],
   "source": [
    "def gradingStudents(grades):\n",
    "    print(grades)\n",
    "    \n",
    "    for i in grades:\n",
    "        if i < 38:\n",
    "            print(i)\n",
    "        else:\n",
    "            if (i % 5) > 2:\n",
    "                print(i + 5 - (i % 5))\n",
    "            else:\n",
    "                print(i)"
   ]
  },
  {
   "cell_type": "code",
   "execution_count": 6,
   "id": "9f27e8d6",
   "metadata": {},
   "outputs": [
    {
     "name": "stdout",
     "output_type": "stream",
     "text": [
      "[73, 67, 38, 33]\n",
      "75\n",
      "67\n",
      "40\n",
      "33\n"
     ]
    }
   ],
   "source": [
    "gradingStudents(grades)"
   ]
  },
  {
   "cell_type": "code",
   "execution_count": 9,
   "id": "8b18074a",
   "metadata": {},
   "outputs": [],
   "source": [
    "def gradingStudents(grades):\n",
    "    result_grades = []\n",
    "    \n",
    "    for i in grades:\n",
    "        if i < 38:\n",
    "            result_grades.append(i)\n",
    "        else:\n",
    "            if (i % 5) > 2:\n",
    "                result_grades.append(i + 5 - (i % 5))\n",
    "            else:\n",
    "                result_grades.append(i)\n",
    "                \n",
    "    return result_grades"
   ]
  },
  {
   "cell_type": "code",
   "execution_count": null,
   "id": "31d1f4cb",
   "metadata": {},
   "outputs": [],
   "source": []
  }
 ],
 "metadata": {
  "kernelspec": {
   "display_name": "Python 3 (ipykernel)",
   "language": "python",
   "name": "python3"
  },
  "language_info": {
   "codemirror_mode": {
    "name": "ipython",
    "version": 3
   },
   "file_extension": ".py",
   "mimetype": "text/x-python",
   "name": "python",
   "nbconvert_exporter": "python",
   "pygments_lexer": "ipython3",
   "version": "3.11.5"
  }
 },
 "nbformat": 4,
 "nbformat_minor": 5
}
