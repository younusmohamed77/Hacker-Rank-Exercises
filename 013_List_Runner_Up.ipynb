{
 "cells": [
  {
   "cell_type": "markdown",
   "id": "9a593f70",
   "metadata": {},
   "source": [
    "#### Given the participants' score sheet for your University Sports Day, you are required to find the runner-up score. You are given n scores. Store them in a list and find the score of the runner-up.\n",
    "\n",
    "#### Input Format\n",
    "The first line contains n. The second line contains an array A[] of n integers each separated by a space.\n",
    "\n",
    "#### Constraints\n",
    "- 2 <= n <= 10\n",
    "- -100 <= A[i] <= 100\n",
    "\n",
    "#### Output Format\n",
    "Print the runner-up score."
   ]
  },
  {
   "cell_type": "code",
   "execution_count": 37,
   "id": "594572fc",
   "metadata": {},
   "outputs": [
    {
     "name": "stdout",
     "output_type": "stream",
     "text": [
      "5\n",
      "2 3 6 6 5\n"
     ]
    }
   ],
   "source": [
    "if __name__ == '__main__':\n",
    "    n = int(input())\n",
    "    arr = map(int, input().split())\n",
    "    x = True    # To check the constraints\n",
    "    arr_list = []    # List to hold the array values as per question\n",
    "    \n",
    "    for i in arr:    # Loop to check the constraints of the array values\n",
    "        arr_list.append(i)\n",
    "        \n",
    "        if i >= -100 and i <= 100:\n",
    "            x = True\n",
    "        \n",
    "        else:\n",
    "            x = False\n",
    "                  \n",
    "    if (n >= 2 and n <= 10) and x:    # Checking the constraints of n\n",
    "        arr_list.sort(reverse = True)    # Sorting in descending order      "
   ]
  },
  {
   "cell_type": "code",
   "execution_count": 38,
   "id": "eb19da77",
   "metadata": {},
   "outputs": [
    {
     "name": "stdout",
     "output_type": "stream",
     "text": [
      "5\n"
     ]
    }
   ],
   "source": [
    "temp = arr_list[0]    # Temporary variable to find the second largest value\n",
    "for j in arr_list:    # Looping over the list\n",
    "#     print(\"j\",j)\n",
    "#     print(temp)\n",
    "    if temp > j:    # Checking the current element with the previous element\n",
    "        print(j)\n",
    "        break    # Printing and breaking the loop\n",
    "        \n",
    "    else:\n",
    "        temp = j"
   ]
  },
  {
   "cell_type": "code",
   "execution_count": null,
   "id": "dc348cef",
   "metadata": {},
   "outputs": [],
   "source": []
  }
 ],
 "metadata": {
  "kernelspec": {
   "display_name": "Python 3 (ipykernel)",
   "language": "python",
   "name": "python3"
  },
  "language_info": {
   "codemirror_mode": {
    "name": "ipython",
    "version": 3
   },
   "file_extension": ".py",
   "mimetype": "text/x-python",
   "name": "python",
   "nbconvert_exporter": "python",
   "pygments_lexer": "ipython3",
   "version": "3.8.18"
  }
 },
 "nbformat": 4,
 "nbformat_minor": 5
}
