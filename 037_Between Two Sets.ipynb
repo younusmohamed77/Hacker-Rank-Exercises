{
 "cells": [
  {
   "cell_type": "markdown",
   "id": "5a86e76d",
   "metadata": {},
   "source": [
    "There will be two arrays of integers. Determine all integers that satisfy the following two conditions:\n",
    "\n",
    "1. The elements of the first array are all factors of the integer being considered\n",
    "2. The integer being considered is a factor of all elements of the second array\n",
    "\n",
    "These numbers are referred to as being between the two arrays. Determine how many such numbers exist."
   ]
  },
  {
   "cell_type": "code",
   "execution_count": null,
   "id": "f1511b17",
   "metadata": {},
   "outputs": [],
   "source": [
    "#!/bin/python3\n",
    "\n",
    "import math\n",
    "import os\n",
    "import random\n",
    "import re\n",
    "import sys\n",
    "\n",
    "#\n",
    "# Complete the 'getTotalX' function below.\n",
    "#\n",
    "# The function is expected to return an INTEGER.\n",
    "# The function accepts following parameters:\n",
    "#  1. INTEGER_ARRAY a\n",
    "#  2. INTEGER_ARRAY b\n",
    "#\n",
    "\n",
    "def getTotalX(a, b):\n",
    "    # Write your code here\n",
    "    pass\n",
    "\n",
    "if __name__ == '__main__':\n",
    "    fptr = open(os.environ['OUTPUT_PATH'], 'w')\n",
    "\n",
    "    first_multiple_input = input().rstrip().split()\n",
    "\n",
    "    n = int(first_multiple_input[0])\n",
    "\n",
    "    m = int(first_multiple_input[1])\n",
    "\n",
    "    arr = list(map(int, input().rstrip().split()))\n",
    "\n",
    "    brr = list(map(int, input().rstrip().split()))\n",
    "\n",
    "    total = getTotalX(arr, brr)\n",
    "\n",
    "    fptr.write(str(total) + '\\n')\n",
    "\n",
    "    fptr.close()\n"
   ]
  },
  {
   "cell_type": "code",
   "execution_count": 1,
   "id": "9e9389e8",
   "metadata": {},
   "outputs": [
    {
     "name": "stdout",
     "output_type": "stream",
     "text": [
      "2 3\n",
      "2 4\n",
      "16 32 96\n",
      "None\n"
     ]
    }
   ],
   "source": [
    "#!/bin/python3\n",
    "\n",
    "import math\n",
    "import os\n",
    "import random\n",
    "import re\n",
    "import sys\n",
    "\n",
    "#\n",
    "# Complete the 'getTotalX' function below.\n",
    "#\n",
    "# The function is expected to return an INTEGER.\n",
    "# The function accepts following parameters:\n",
    "#  1. INTEGER_ARRAY a\n",
    "#  2. INTEGER_ARRAY b\n",
    "#\n",
    "\n",
    "def getTotalX(a, b):\n",
    "    # Write your code here\n",
    "    pass\n",
    "\n",
    "if __name__ == '__main__':\n",
    "    first_multiple_input = input().rstrip().split()\n",
    "    n = int(first_multiple_input[0])\n",
    "    m = int(first_multiple_input[1])\n",
    "    arr = list(map(int, input().rstrip().split()))\n",
    "    brr = list(map(int, input().rstrip().split()))\n",
    "    total = getTotalX(arr, brr)\n",
    "    print(total)"
   ]
  },
  {
   "cell_type": "code",
   "execution_count": 2,
   "id": "39b71399",
   "metadata": {},
   "outputs": [],
   "source": [
    "def getTotalX(a, b):\n",
    "    numbers = [x for y in [100 % x for x in a] if y == 0]"
   ]
  },
  {
   "cell_type": "code",
   "execution_count": 3,
   "id": "55d312f7",
   "metadata": {},
   "outputs": [],
   "source": [
    "def getTotalX(a, b):\n",
    "    numbers = []\n",
    "    for i in range(1,101):\n",
    "        if sum([x for x in a if i % x == 0]) == 0:\n",
    "            numbers.append(i)\n",
    "            \n",
    "    print(numbers)"
   ]
  },
  {
   "cell_type": "code",
   "execution_count": 4,
   "id": "2eba86ad",
   "metadata": {},
   "outputs": [
    {
     "name": "stdout",
     "output_type": "stream",
     "text": [
      "[1, 3, 5, 7, 9, 11, 13, 15, 17, 19, 21, 23, 25, 27, 29, 31, 33, 35, 37, 39, 41, 43, 45, 47, 49, 51, 53, 55, 57, 59, 61, 63, 65, 67, 69, 71, 73, 75, 77, 79, 81, 83, 85, 87, 89, 91, 93, 95, 97, 99]\n"
     ]
    }
   ],
   "source": [
    "getTotalX(arr, brr)"
   ]
  },
  {
   "cell_type": "code",
   "execution_count": 5,
   "id": "88cc40cb",
   "metadata": {},
   "outputs": [
    {
     "name": "stdout",
     "output_type": "stream",
     "text": [
      "{2: [2, 4, 6, 8, 10, 12, 14, 16, 18, 20, 22, 24, 26, 28, 30, 32, 34, 36, 38, 40, 42, 44, 46, 48, 50, 52, 54, 56, 58, 60, 62, 64, 66, 68, 70, 72, 74, 76, 78, 80, 82, 84, 86, 88, 90, 92, 94, 96, 98, 100], 4: [4, 8, 12, 16, 20, 24, 28, 32, 36, 40, 44, 48, 52, 56, 60, 64, 68, 72, 76, 80, 84, 88, 92, 96, 100]}\n"
     ]
    }
   ],
   "source": [
    "factors = {i : [x for x in range(1,101) if x % i == 0] for i in arr}\n",
    "print(factors)"
   ]
  },
  {
   "cell_type": "code",
   "execution_count": 6,
   "id": "a27fd92b",
   "metadata": {},
   "outputs": [
    {
     "name": "stdout",
     "output_type": "stream",
     "text": [
      "[[2, 4, 6, 8, 10, 12, 14, 16, 18, 20, 22, 24, 26, 28, 30, 32, 34, 36, 38, 40, 42, 44, 46, 48, 50, 52, 54, 56, 58, 60, 62, 64, 66, 68, 70, 72, 74, 76, 78, 80, 82, 84, 86, 88, 90, 92, 94, 96, 98, 100], [4, 8, 12, 16, 20, 24, 28, 32, 36, 40, 44, 48, 52, 56, 60, 64, 68, 72, 76, 80, 84, 88, 92, 96, 100]]\n",
      "{4, 8, 12, 16, 20, 24, 28, 32, 36, 40, 44, 48, 52, 56, 60, 64, 68, 72, 76, 80, 84, 88, 92, 96, 100} <class 'set'>\n",
      "[4, 8, 12, 16, 20, 24, 28, 32, 36, 40, 44, 48, 52, 56, 60, 64, 68, 72, 76, 80, 84, 88, 92, 96, 100]\n"
     ]
    }
   ],
   "source": [
    "factors = [[x for x in range(1,101) if x % i == 0] for i in arr]\n",
    "all_factors = set(factors[0]) & set(factors[1])\n",
    "all_factors_list = list(all_factors)\n",
    "print(factors)\n",
    "print(all_factors, type(all_factors))\n",
    "print(all_factors_list)"
   ]
  },
  {
   "cell_type": "code",
   "execution_count": 7,
   "id": "ad4bbc0d",
   "metadata": {},
   "outputs": [
    {
     "name": "stdout",
     "output_type": "stream",
     "text": [
      "[[2, 4, 6, 8, 10, 12, 14, 16, 18, 20, 22, 24, 26, 28, 30, 32, 34, 36, 38, 40, 42, 44, 46, 48, 50, 52, 54, 56, 58, 60, 62, 64, 66, 68, 70, 72, 74, 76, 78, 80, 82, 84, 86, 88, 90, 92, 94, 96, 98, 100], [4, 8, 12, 16, 20, 24, 28, 32, 36, 40, 44, 48, 52, 56, 60, 64, 68, 72, 76, 80, 84, 88, 92, 96, 100]]\n",
      "{4, 8, 12, 16, 20, 24, 28, 32, 36, 40, 44, 48, 52, 56, 60, 64, 68, 72, 76, 80, 84, 88, 92, 96, 100} <class 'set'>\n",
      "[4, 8, 12, 16, 20, 24, 28, 32, 36, 40, 44, 48, 52, 56, 60, 64, 68, 72, 76, 80, 84, 88, 92, 96, 100]\n"
     ]
    }
   ],
   "source": [
    "factors = [[x for x in range(1,101) if x % i == 0] for i in arr]\n",
    "all_factors = set(factors[0]) & set(factors[1])\n",
    "all_factors_list = list(all_factors)\n",
    "print(factors)\n",
    "print(all_factors, type(all_factors))\n",
    "print(all_factors_list)"
   ]
  },
  {
   "cell_type": "code",
   "execution_count": 8,
   "id": "83cf9cb4",
   "metadata": {},
   "outputs": [
    {
     "name": "stdout",
     "output_type": "stream",
     "text": [
      "[4, 8, 12, 16, 20, 24, 28, 32, 36, 40, 44, 48, 52, 56, 60, 64, 68, 72, 76, 80, 84, 88, 92, 96, 100]\n"
     ]
    }
   ],
   "source": [
    "factors = [[x for x in range(1,101) if x % i == 0] for i in arr]\n",
    "all_factors = list(set(factors[0]) & set(factors[1]))\n",
    "print(all_factors)"
   ]
  },
  {
   "cell_type": "code",
   "execution_count": 9,
   "id": "b2305621",
   "metadata": {},
   "outputs": [
    {
     "name": "stdout",
     "output_type": "stream",
     "text": [
      "[16, 32, 96]\n",
      "25\n"
     ]
    }
   ],
   "source": [
    "factors2 = [[y for y in brr if y % j == 0] for j in all_factors]\n",
    "all_factors2 = list(set(factors2[0]) & set(factors2[1]))\n",
    "print(all_factors2)\n",
    "print(len(factors2))"
   ]
  },
  {
   "cell_type": "code",
   "execution_count": 10,
   "id": "f0be7df3",
   "metadata": {},
   "outputs": [],
   "source": [
    "def getTotalX(a, b):\n",
    "    factors = [[x for x in range(1,101) if x % i == 0] for i in a]\n",
    "    all_factors = list(set(factors[0]) & set(factors[1]))\n",
    "    factors2 = [[y for y in b if y % j == 0] for j in all_factors]\n",
    "    all_factors2 = list(set(factors2[0]) & set(factors2[1]))\n",
    "    return len(all_factors2)"
   ]
  },
  {
   "cell_type": "code",
   "execution_count": 11,
   "id": "2e097c9b",
   "metadata": {},
   "outputs": [
    {
     "name": "stdout",
     "output_type": "stream",
     "text": [
      "3\n"
     ]
    }
   ],
   "source": [
    "print(len(all_factors2))"
   ]
  },
  {
   "cell_type": "code",
   "execution_count": 12,
   "id": "a287d27e",
   "metadata": {},
   "outputs": [
    {
     "name": "stdout",
     "output_type": "stream",
     "text": [
      "[[16, 32, 96], [16, 32, 96], [96], [16, 32, 96], [], [96], [], [32, 96], [], [], [], [96], [], [], [], [], [], [], [], [], [], [], [], [96], []] <class 'list'> 25\n"
     ]
    }
   ],
   "source": [
    "factors2 = [[y for y in brr if y % j == 0] for j in all_factors]\n",
    "print(factors2, type(factors2), len(factors2))"
   ]
  },
  {
   "cell_type": "code",
   "execution_count": 13,
   "id": "df239104",
   "metadata": {},
   "outputs": [
    {
     "name": "stdout",
     "output_type": "stream",
     "text": [
      "[96]\n"
     ]
    }
   ],
   "source": [
    "print(max(factors2))"
   ]
  },
  {
   "cell_type": "code",
   "execution_count": 14,
   "id": "f6407f5e",
   "metadata": {},
   "outputs": [
    {
     "name": "stdout",
     "output_type": "stream",
     "text": [
      "3\n"
     ]
    }
   ],
   "source": [
    "max_len = 0\n",
    "for i in factors2:\n",
    "    \n",
    "    if max_len < len(i):\n",
    "        max_len = len(i)\n",
    "        \n",
    "print(max_len)"
   ]
  },
  {
   "cell_type": "code",
   "execution_count": 15,
   "id": "d0d33da2",
   "metadata": {},
   "outputs": [
    {
     "name": "stdout",
     "output_type": "stream",
     "text": [
      "3\n"
     ]
    }
   ],
   "source": [
    "factors = [[x for x in range(1,101) if x % i == 0] for i in arr]\n",
    "all_factors = list(set(factors[0]) & set(factors[1]))\n",
    "factors2 = [[y for y in brr if y % j == 0] for j in all_factors]\n",
    "max_len = 0\n",
    "for i in factors2:\n",
    "    \n",
    "    if max_len < len(i):\n",
    "        max_len = len(i)\n",
    "        \n",
    "print(max_len)"
   ]
  },
  {
   "cell_type": "code",
   "execution_count": 18,
   "id": "6f0c8b02",
   "metadata": {},
   "outputs": [
    {
     "name": "stdout",
     "output_type": "stream",
     "text": [
      "[8, 16, 4, 12]\n"
     ]
    }
   ],
   "source": [
    "factors = [[x for x in range(1,min(brr) + 1) if x % i == 0] for i in arr]\n",
    "all_factors = list(set(factors[0]) & set(factors[1]))\n",
    "print(all_factors)"
   ]
  },
  {
   "cell_type": "code",
   "execution_count": 19,
   "id": "855b5d3c",
   "metadata": {},
   "outputs": [
    {
     "name": "stdout",
     "output_type": "stream",
     "text": [
      "3\n"
     ]
    }
   ],
   "source": [
    "out_count = 0\n",
    "for j in all_factors:\n",
    "    counter = 0\n",
    "    for k in brr:\n",
    "        if k % j == 0:\n",
    "            counter += 1\n",
    "            \n",
    "    if counter == len(brr):\n",
    "        out_count += 1\n",
    "        \n",
    "print(out_count)"
   ]
  },
  {
   "cell_type": "code",
   "execution_count": 20,
   "id": "ca614869",
   "metadata": {},
   "outputs": [],
   "source": [
    "def getTotalX(a, b):\n",
    "    factors = [[x for x in range(1,min(brr) + 1) if x % i == 0] for i in arr]\n",
    "    all_factors = list(set(factors[0]) & set(factors[1]))\n",
    "    out_count = 0\n",
    "    for j in all_factors:\n",
    "        counter = 0\n",
    "        for k in brr:\n",
    "            if k % j == 0:\n",
    "                counter += 1\n",
    "            \n",
    "        if counter == len(brr):\n",
    "            out_count += 1\n",
    "            \n",
    "    return out_count"
   ]
  },
  {
   "cell_type": "code",
   "execution_count": 21,
   "id": "d447ebd1",
   "metadata": {},
   "outputs": [
    {
     "name": "stdout",
     "output_type": "stream",
     "text": [
      "3\n"
     ]
    }
   ],
   "source": [
    "total = getTotalX(arr, brr)\n",
    "print(total)"
   ]
  },
  {
   "cell_type": "code",
   "execution_count": 35,
   "id": "c87d40e7",
   "metadata": {},
   "outputs": [
    {
     "name": "stdout",
     "output_type": "stream",
     "text": [
      "1 3\n",
      "2\n",
      "20 30 12\n"
     ]
    },
    {
     "ename": "IndexError",
     "evalue": "list index out of range",
     "output_type": "error",
     "traceback": [
      "\u001b[1;31m---------------------------------------------------------------------------\u001b[0m",
      "\u001b[1;31mIndexError\u001b[0m                                Traceback (most recent call last)",
      "Cell \u001b[1;32mIn[35], line 7\u001b[0m\n\u001b[0;32m      5\u001b[0m arr \u001b[38;5;241m=\u001b[39m \u001b[38;5;28mlist\u001b[39m(\u001b[38;5;28mmap\u001b[39m(\u001b[38;5;28mint\u001b[39m, \u001b[38;5;28minput\u001b[39m()\u001b[38;5;241m.\u001b[39mrstrip()\u001b[38;5;241m.\u001b[39msplit()))\n\u001b[0;32m      6\u001b[0m brr \u001b[38;5;241m=\u001b[39m \u001b[38;5;28mlist\u001b[39m(\u001b[38;5;28mmap\u001b[39m(\u001b[38;5;28mint\u001b[39m, \u001b[38;5;28minput\u001b[39m()\u001b[38;5;241m.\u001b[39mrstrip()\u001b[38;5;241m.\u001b[39msplit()))\n\u001b[1;32m----> 7\u001b[0m total \u001b[38;5;241m=\u001b[39m getTotalX(arr, brr)\n\u001b[0;32m      8\u001b[0m \u001b[38;5;28mprint\u001b[39m(total)\n",
      "Cell \u001b[1;32mIn[20], line 3\u001b[0m, in \u001b[0;36mgetTotalX\u001b[1;34m(a, b)\u001b[0m\n\u001b[0;32m      1\u001b[0m \u001b[38;5;28;01mdef\u001b[39;00m \u001b[38;5;21mgetTotalX\u001b[39m(a, b):\n\u001b[0;32m      2\u001b[0m     factors \u001b[38;5;241m=\u001b[39m [[x \u001b[38;5;28;01mfor\u001b[39;00m x \u001b[38;5;129;01min\u001b[39;00m \u001b[38;5;28mrange\u001b[39m(\u001b[38;5;241m1\u001b[39m,\u001b[38;5;28mmin\u001b[39m(brr) \u001b[38;5;241m+\u001b[39m \u001b[38;5;241m1\u001b[39m) \u001b[38;5;28;01mif\u001b[39;00m x \u001b[38;5;241m%\u001b[39m i \u001b[38;5;241m==\u001b[39m \u001b[38;5;241m0\u001b[39m] \u001b[38;5;28;01mfor\u001b[39;00m i \u001b[38;5;129;01min\u001b[39;00m arr]\n\u001b[1;32m----> 3\u001b[0m     all_factors \u001b[38;5;241m=\u001b[39m \u001b[38;5;28mlist\u001b[39m(\u001b[38;5;28mset\u001b[39m(factors[\u001b[38;5;241m0\u001b[39m]) \u001b[38;5;241m&\u001b[39m \u001b[38;5;28mset\u001b[39m(factors[\u001b[38;5;241m1\u001b[39m]))\n\u001b[0;32m      4\u001b[0m     out_count \u001b[38;5;241m=\u001b[39m \u001b[38;5;241m0\u001b[39m\n\u001b[0;32m      5\u001b[0m     \u001b[38;5;28;01mfor\u001b[39;00m j \u001b[38;5;129;01min\u001b[39;00m all_factors:\n",
      "\u001b[1;31mIndexError\u001b[0m: list index out of range"
     ]
    }
   ],
   "source": [
    "if __name__ == '__main__':\n",
    "    first_multiple_input = input().rstrip().split()\n",
    "    n = int(first_multiple_input[0])\n",
    "    m = int(first_multiple_input[1])\n",
    "    arr = list(map(int, input().rstrip().split()))\n",
    "    brr = list(map(int, input().rstrip().split()))\n",
    "    total = getTotalX(arr, brr)\n",
    "    print(total)"
   ]
  },
  {
   "cell_type": "code",
   "execution_count": 27,
   "id": "db0a86ef",
   "metadata": {},
   "outputs": [],
   "source": [
    "factors = [[x for x in range(1,min(brr) + 1) if x % i == 0] for i in arr]\n",
    "all_factors = list(set(factors[0]) & set(factors[1]))"
   ]
  },
  {
   "cell_type": "code",
   "execution_count": 28,
   "id": "c47ecc0f",
   "metadata": {},
   "outputs": [],
   "source": [
    "factors = [[x for x in range(1,min(brr) + 1) if x % i == 0] for i in arr]"
   ]
  },
  {
   "cell_type": "code",
   "execution_count": 29,
   "id": "c09714f0",
   "metadata": {},
   "outputs": [
    {
     "data": {
      "text/plain": [
       "[[2, 4, 6, 8, 10, 12, 14, 16], [4, 8, 12, 16]]"
      ]
     },
     "execution_count": 29,
     "metadata": {},
     "output_type": "execute_result"
    }
   ],
   "source": [
    "factors"
   ]
  },
  {
   "cell_type": "code",
   "execution_count": 30,
   "id": "d2e7d730",
   "metadata": {},
   "outputs": [
    {
     "data": {
      "text/plain": [
       "2"
      ]
     },
     "execution_count": 30,
     "metadata": {},
     "output_type": "execute_result"
    }
   ],
   "source": [
    "len(factors)"
   ]
  },
  {
   "cell_type": "code",
   "execution_count": 31,
   "id": "f66042d5",
   "metadata": {},
   "outputs": [
    {
     "data": {
      "text/plain": [
       "{2, 4, 6, 8, 10, 12, 14, 16}"
      ]
     },
     "execution_count": 31,
     "metadata": {},
     "output_type": "execute_result"
    }
   ],
   "source": [
    "set(factors[0])"
   ]
  },
  {
   "cell_type": "code",
   "execution_count": 32,
   "id": "d8fb1b75",
   "metadata": {},
   "outputs": [
    {
     "data": {
      "text/plain": [
       "[2, 4, 6, 8, 10, 12, 14, 16]"
      ]
     },
     "execution_count": 32,
     "metadata": {},
     "output_type": "execute_result"
    }
   ],
   "source": [
    "factors[0]"
   ]
  },
  {
   "cell_type": "code",
   "execution_count": 33,
   "id": "e2b4ee96",
   "metadata": {},
   "outputs": [],
   "source": [
    "def get_factors(factors):\n",
    "    all_factors = factors[0]\n",
    "    for i in range(len(factors)):\n",
    "        all_factors = list(set(all_factors) & set(factors[i]))\n",
    "        \n",
    "    return all_factors"
   ]
  },
  {
   "cell_type": "code",
   "execution_count": 36,
   "id": "6fa5df60",
   "metadata": {},
   "outputs": [
    {
     "name": "stdout",
     "output_type": "stream",
     "text": [
      "[2, 4, 6, 8, 10, 12]\n"
     ]
    }
   ],
   "source": [
    "factors = [[x for x in range(1,min(brr) + 1) if x % i == 0] for i in arr]\n",
    "all_factors = get_factors(factors)\n",
    "print(all_factors)"
   ]
  },
  {
   "cell_type": "code",
   "execution_count": 37,
   "id": "01f74601",
   "metadata": {},
   "outputs": [],
   "source": [
    "def getTotalX(a, b):\n",
    "    factors = [[x for x in range(1,min(brr) + 1) if x % i == 0] for i in arr]\n",
    "    all_factors = get_factors(factors)\n",
    "    out_count = 0\n",
    "    for j in all_factors:\n",
    "        counter = 0\n",
    "        for k in brr:\n",
    "            if k % j == 0:\n",
    "                counter += 1\n",
    "            \n",
    "        if counter == len(brr):\n",
    "            out_count += 1\n",
    "            \n",
    "    return out_count"
   ]
  },
  {
   "cell_type": "code",
   "execution_count": 38,
   "id": "b4aea598",
   "metadata": {},
   "outputs": [
    {
     "name": "stdout",
     "output_type": "stream",
     "text": [
      "1\n"
     ]
    }
   ],
   "source": [
    "total = getTotalX(arr, brr)\n",
    "print(total)"
   ]
  },
  {
   "cell_type": "code",
   "execution_count": null,
   "id": "d65f2f14",
   "metadata": {},
   "outputs": [],
   "source": []
  }
 ],
 "metadata": {
  "kernelspec": {
   "display_name": "Python 3 (ipykernel)",
   "language": "python",
   "name": "python3"
  },
  "language_info": {
   "codemirror_mode": {
    "name": "ipython",
    "version": 3
   },
   "file_extension": ".py",
   "mimetype": "text/x-python",
   "name": "python",
   "nbconvert_exporter": "python",
   "pygments_lexer": "ipython3",
   "version": "3.11.5"
  }
 },
 "nbformat": 4,
 "nbformat_minor": 5
}
