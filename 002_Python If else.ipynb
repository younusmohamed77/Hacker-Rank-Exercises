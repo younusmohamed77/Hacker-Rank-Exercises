{
 "cells": [
  {
   "cell_type": "markdown",
   "id": "209a1024",
   "metadata": {},
   "source": [
    "### Python If else \n",
    "#### Question Statement:\n",
    "\n",
    "#### Task\n",
    "Given an integer, n , perform the following conditional actions:\n",
    "- If n is odd, print Weird\n",
    "- If n is even and in the inclusive range of 2 to 5, print Not Weird\n",
    "- If n is even and in the inclusive range of 6 to 20, print Weird\n",
    "- If n is even and greater than 20, print Not Weird\n",
    "\n",
    "#### Input Format\n",
    "A single line containing a positive integer, n.\n",
    "\n",
    "#### Constraints\n",
    "1 <= n <= 100 \n",
    "\n",
    "#### Output Format\n",
    "Print Weird if the number is weird. Otherwise, print Not Weird."
   ]
  },
  {
   "cell_type": "code",
   "execution_count": 6,
   "id": "2a04fa20",
   "metadata": {},
   "outputs": [
    {
     "name": "stdout",
     "output_type": "stream",
     "text": [
      "Enter a number between 1 to 100 : 20\n",
      "Weired\n"
     ]
    }
   ],
   "source": [
    "n = eval(input(\"Enter a number between 1 to 100 : \"))    # eval() function to correct if the entry is in string format\n",
    "\n",
    "if (n >= 1 and n <= 100):\n",
    "    if (n % 2 == 1):\n",
    "        print(\"Weird\")\n",
    "\n",
    "    else:\n",
    "        if (n >= 2 and n <= 5):\n",
    "            print(\"Not Weired\")\n",
    "    \n",
    "        else:\n",
    "            if (n <= 20):\n",
    "                print(\"Weired\")\n",
    "            \n",
    "            else:\n",
    "                print(\"Not Weired\")\n",
    "                \n",
    "else:\n",
    "    print(\"Input out of Range\")"
   ]
  },
  {
   "cell_type": "code",
   "execution_count": 23,
   "id": "a4c6c4e8",
   "metadata": {},
   "outputs": [
    {
     "name": "stdout",
     "output_type": "stream",
     "text": [
      "Enter a number between 1 to 100 : 98\n",
      "Not Weired\n"
     ]
    }
   ],
   "source": [
    "n = eval(input(\"Enter a number between 1 to 100 : \"))    # eval() function to correct if the entry is in string format\n",
    "\n",
    "if (n < 1 or n > 100):\n",
    "    print(\"Input out of range\")\n",
    "\n",
    "elif (n % 2 == 1):\n",
    "    print(\"Weired\")\n",
    "\n",
    "elif (n >= 2 and n <= 5):\n",
    "    print(\"Not Weired\")\n",
    "    \n",
    "elif (n <= 20):\n",
    "    print(\"Weired\")\n",
    "    \n",
    "else:\n",
    "    print(\"Not Weired\")"
   ]
  },
  {
   "cell_type": "code",
   "execution_count": 27,
   "id": "0699ca69",
   "metadata": {},
   "outputs": [
    {
     "name": "stdout",
     "output_type": "stream",
     "text": [
      "24\n",
      "Not Weired\n"
     ]
    }
   ],
   "source": [
    "def nestedif(n):\n",
    "    if (n >= 1 and n <= 100):\n",
    "        if (n % 2 == 1):\n",
    "            print(\"Weird\")\n",
    "\n",
    "        else:\n",
    "            if (n >= 2 and n <= 5):\n",
    "                print(\"Not Weired\")\n",
    "    \n",
    "            else:\n",
    "                if (n <= 20):\n",
    "                    print(\"Weired\")\n",
    "            \n",
    "                else:\n",
    "                    print(\"Not Weired\")\n",
    "                \n",
    "    else:\n",
    "        print(\"Input out of Range\")\n",
    "        \n",
    "nestedif(int(input()))"
   ]
  },
  {
   "cell_type": "code",
   "execution_count": 30,
   "id": "0cc73030",
   "metadata": {},
   "outputs": [
    {
     "name": "stdout",
     "output_type": "stream",
     "text": [
      "4\n",
      "Not Weired\n"
     ]
    }
   ],
   "source": [
    "def elseif(n):\n",
    "    if (n < 1 or n > 100):\n",
    "        print(\"Input out of range\")\n",
    "\n",
    "    elif (n % 2 == 1):\n",
    "        print(\"Weired\")\n",
    "\n",
    "    elif (n >= 2 and n <= 5):\n",
    "        print(\"Not Weired\")\n",
    "    \n",
    "    elif (n <= 20):\n",
    "        print(\"Weired\")\n",
    "    \n",
    "    else:\n",
    "        print(\"Not Weired\")\n",
    "        \n",
    "elseif(int(input()))"
   ]
  },
  {
   "cell_type": "code",
   "execution_count": null,
   "id": "dbb23835",
   "metadata": {},
   "outputs": [],
   "source": []
  }
 ],
 "metadata": {
  "kernelspec": {
   "display_name": "Python 3 (ipykernel)",
   "language": "python",
   "name": "python3"
  },
  "language_info": {
   "codemirror_mode": {
    "name": "ipython",
    "version": 3
   },
   "file_extension": ".py",
   "mimetype": "text/x-python",
   "name": "python",
   "nbconvert_exporter": "python",
   "pygments_lexer": "ipython3",
   "version": "3.8.18"
  }
 },
 "nbformat": 4,
 "nbformat_minor": 5
}
