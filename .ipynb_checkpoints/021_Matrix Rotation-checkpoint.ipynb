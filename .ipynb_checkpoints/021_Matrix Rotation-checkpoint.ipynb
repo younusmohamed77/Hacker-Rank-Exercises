{
 "cells": [
  {
   "cell_type": "markdown",
   "id": "fdcd3d3e",
   "metadata": {},
   "source": [
    "You are given a 2D matrix of dimension m x n and a positive integer r. You have to rotate the matrix r times and print the resultant matrix. Rotation should be in anti-clockwise direction.\n",
    "\n",
    "Rotation of a 4 x 5 matrix is represented by the following figure. Note that in one rotation, you have to shift elements by one step only.\n",
    "\n",
    "It is guaranteed that the minimum of m and n will be even.\n",
    "\n",
    "As an example rotate the Start matrix by 2:\n",
    "\n",
    "    Start         First           Second\n",
    "     1 2 3 4       2  3  4  5      3  4  5  6\n",
    "    12 1 2 5  ->   1  2  3  6 ->   2  3  4  7\n",
    "    11 4 3 6      12  1  4  7      1  2  1  8\n",
    "    10 9 8 7      11 10  9  8     12 11 10  9\n",
    "\n",
    "##### Function Description\n",
    "Complete the matrixRotation function in the editor below. matrixRotation has the following parameter(s):\n",
    "- int matrix[m][n]: a 2D array of integers\n",
    "- int r: the rotation factor\n",
    "\n",
    "##### Prints\n",
    "It should print the resultant 2D integer array and return nothing. Print each row on a separate line as space-separated integers.\n",
    "\n",
    "##### Input Format\n",
    "The first line contains three space separated integers, m, n, and r, the number of rows and columns in matrix, and the required rotation.\n",
    "The next m lines contain n space-separated integers representing the elements of a row of matrix."
   ]
  },
  {
   "cell_type": "code",
   "execution_count": null,
   "id": "58fbb2d6",
   "metadata": {},
   "outputs": [],
   "source": [
    "#!/bin/python3\n",
    "\n",
    "import math\n",
    "import os\n",
    "import random\n",
    "import re\n",
    "import sys\n",
    "\n",
    "#\n",
    "# Complete the 'matrixRotation' function below.\n",
    "#\n",
    "# The function accepts following parameters:\n",
    "#  1. 2D_INTEGER_ARRAY matrix\n",
    "#  2. INTEGER r\n",
    "#\n",
    "\n",
    "def matrixRotation(matrix, r):\n",
    "    # Write your code here\n",
    "\n",
    "if __name__ == '__main__':\n",
    "    first_multiple_input = input().rstrip().split()\n",
    "\n",
    "    m = int(first_multiple_input[0])\n",
    "\n",
    "    n = int(first_multiple_input[1])\n",
    "\n",
    "    r = int(first_multiple_input[2])\n",
    "\n",
    "    matrix = []\n",
    "\n",
    "    for _ in range(m):\n",
    "        matrix.append(list(map(int, input().rstrip().split())))\n",
    "\n",
    "    matrixRotation(matrix, r)\n"
   ]
  },
  {
   "cell_type": "code",
   "execution_count": 1,
   "id": "582b65a7",
   "metadata": {},
   "outputs": [
    {
     "ename": "IndentationError",
     "evalue": "expected an indented block after function definition on line 1 (979684859.py, line 4)",
     "output_type": "error",
     "traceback": [
      "\u001b[1;36m  Cell \u001b[1;32mIn[1], line 4\u001b[1;36m\u001b[0m\n\u001b[1;33m    if __name__ == '__main__':\u001b[0m\n\u001b[1;37m    ^\u001b[0m\n\u001b[1;31mIndentationError\u001b[0m\u001b[1;31m:\u001b[0m expected an indented block after function definition on line 1\n"
     ]
    }
   ],
   "source": [
    "def matrixRotation(matrix, r):\n",
    "    # Write your code here"
   ]
  },
  {
   "cell_type": "code",
   "execution_count": 55,
   "id": "c1408329",
   "metadata": {},
   "outputs": [
    {
     "name": "stdout",
     "output_type": "stream",
     "text": [
      "4 4 2\n",
      "1 2 3 4\n",
      "5 6 7 8\n",
      "9 10 11 12\n",
      "13 14 15 16\n"
     ]
    }
   ],
   "source": [
    "if __name__ == '__main__':\n",
    "    first_multiple_input = input().rstrip().split()\n",
    "\n",
    "    m = int(first_multiple_input[0])\n",
    "\n",
    "    n = int(first_multiple_input[1])\n",
    "\n",
    "    r = int(first_multiple_input[2])\n",
    "\n",
    "    matrix = []\n",
    "\n",
    "    for i in range(m):\n",
    "        matrix.append(list(map(int, input().rstrip().split())))\n",
    "\n",
    "   # matrixRotation(matrix, r)"
   ]
  },
  {
   "cell_type": "code",
   "execution_count": 57,
   "id": "3d23fa97",
   "metadata": {},
   "outputs": [
    {
     "name": "stdout",
     "output_type": "stream",
     "text": [
      "[[1, 2, 3, 4], [5, 6, 7, 8], [9, 10, 11, 12], [13, 14, 15, 16]]\n",
      "[1, 2, 3, 4]\n",
      "[5, 6, 7, 8]\n",
      "[9, 10, 11, 12]\n",
      "[13, 14, 15, 16]\n"
     ]
    }
   ],
   "source": [
    "print(matrix)\n",
    "for j in matrix:\n",
    "    print(j)"
   ]
  },
  {
   "cell_type": "code",
   "execution_count": 58,
   "id": "3b55b8ac",
   "metadata": {},
   "outputs": [
    {
     "name": "stdout",
     "output_type": "stream",
     "text": [
      "1\n",
      "2\n",
      "3\n",
      "4\n"
     ]
    }
   ],
   "source": [
    "for j in range(1, len(matrix) + 1):\n",
    "    print(j)"
   ]
  },
  {
   "cell_type": "code",
   "execution_count": 59,
   "id": "81a2035e",
   "metadata": {},
   "outputs": [
    {
     "name": "stdout",
     "output_type": "stream",
     "text": [
      "[[1, 2, 3, 4], [5, 6, 7, 8], [9, 10, 11, 12], [13, 14, 15, 16]]\n",
      "4\n"
     ]
    }
   ],
   "source": [
    "test_matrix = matrix\n",
    "print(test_matrix)\n",
    "print(len(test_matrix))"
   ]
  },
  {
   "cell_type": "code",
   "execution_count": 61,
   "id": "4aba9df9",
   "metadata": {},
   "outputs": [
    {
     "name": "stdout",
     "output_type": "stream",
     "text": [
      "[[1, 3, 16, 16], [1, 6, 7, 16], [5, 10, 11, 16], [9, 14, 15, 16]]\n"
     ]
    }
   ],
   "source": [
    "for j in range(m - 1, -1, -1):\n",
    "    temp1 = test_matrix[j][n-1]\n",
    "    \n",
    "    for k in range(n - 1, -1, -1):\n",
    "        if k > 0 and j == m:\n",
    "            test_matrix[j][k] = test_matrix[j][k-1]\n",
    "        \n",
    "        if k > 1 and j == 0:\n",
    "            test_matrix[j][n-k] = test_matrix[j][n-k+1]\n",
    "            \n",
    "        if k == 1 and j == 0:\n",
    "            test_matrix[j][n-k] = temp1\n",
    "        \n",
    "        if k == 0 and j > 0:\n",
    "            test_matrix[j][k] = test_matrix[j-1][k]\n",
    "    \n",
    "        if j > 0:\n",
    "            test_matrix[j-1][n-1] = temp1\n",
    "        \n",
    "print(test_matrix)"
   ]
  },
  {
   "cell_type": "code",
   "execution_count": null,
   "id": "3c1ee8d2",
   "metadata": {},
   "outputs": [],
   "source": []
  }
 ],
 "metadata": {
  "kernelspec": {
   "display_name": "Python 3 (ipykernel)",
   "language": "python",
   "name": "python3"
  },
  "language_info": {
   "codemirror_mode": {
    "name": "ipython",
    "version": 3
   },
   "file_extension": ".py",
   "mimetype": "text/x-python",
   "name": "python",
   "nbconvert_exporter": "python",
   "pygments_lexer": "ipython3",
   "version": "3.11.5"
  }
 },
 "nbformat": 4,
 "nbformat_minor": 5
}
