{
 "cells": [
  {
   "cell_type": "markdown",
   "id": "aad730ac",
   "metadata": {},
   "source": [
    "#### Loops\n",
    "\n",
    "#### Task\n",
    "- The provided code stub reads and integer, , from STDIN. For all non-negative integers , print .\n",
    "\n",
    "#### Example\n",
    "- n = 2\n",
    "- The list of non-negative integers that are less than n = 3 is [0,1,2]. Print the square of each number on a separate line."
   ]
  },
  {
   "cell_type": "code",
   "execution_count": 1,
   "id": "6ec515c4",
   "metadata": {},
   "outputs": [
    {
     "name": "stdout",
     "output_type": "stream",
     "text": [
      "3\n",
      "0\n",
      "1\n",
      "4\n"
     ]
    }
   ],
   "source": [
    "if __name__ == '__main__':\n",
    "    n = int(input())\n",
    "    for i in range(0,n):\n",
    "        print(i * i)"
   ]
  }
 ],
 "metadata": {
  "kernelspec": {
   "display_name": "Python 3 (ipykernel)",
   "language": "python",
   "name": "python3"
  },
  "language_info": {
   "codemirror_mode": {
    "name": "ipython",
    "version": 3
   },
   "file_extension": ".py",
   "mimetype": "text/x-python",
   "name": "python",
   "nbconvert_exporter": "python",
   "pygments_lexer": "ipython3",
   "version": "3.8.18"
  }
 },
 "nbformat": 4,
 "nbformat_minor": 5
}
