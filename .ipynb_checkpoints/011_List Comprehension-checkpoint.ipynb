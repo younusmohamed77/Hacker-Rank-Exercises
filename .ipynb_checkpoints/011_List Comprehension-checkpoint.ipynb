{
 "cells": [
  {
   "cell_type": "markdown",
   "id": "3840f54b",
   "metadata": {},
   "source": [
    "Let's learn about list comprehensions! You are given three integers x, y and z representing the dimensions of a cuboid along with an integer n. Print a list of all possible coordinates given by (i,j,k) on a 3D grid where the sum of i+j+k is not equal to n. Here, 0 <= i <= x ; 0 <= j <= y ; 0 <= k <= z. Please use list comprehensions rather than multiple loops, as a learning exercise.\n",
    "\n",
    "Example\n",
    "x=1\n",
    "y=1\n",
    "z=2\n",
    "n=3\n",
    "\n",
    "All permutations of [i,j,k] are:\n",
    "[[0,0,0],[0,0,1],[0,0,2],[0,1,0],[0,1,1],[0,1,2],[1,0,0].[1,0,1],[1,0,2],[1,1,0],[1,1,1],[1,1,2]]\n",
    "\n",
    "Print an array of the elements that do not sum to .\n",
    "[[0,0,0],[0,0,1],[0,0,2],[0,1,0],[0,1,1],[1,0,0].[1,0,1],[1,1,0],[1,1,2]]\n",
    "\n",
    "Input Format\n",
    "\n",
    "Four integers x,y,z and n, each on a separate line.\n",
    "\n",
    "Constraints\n",
    "\n",
    "Print the list in lexicographic increasing order."
   ]
  },
  {
   "cell_type": "code",
   "execution_count": 1,
   "id": "8b5c0277",
   "metadata": {},
   "outputs": [
    {
     "name": "stdout",
     "output_type": "stream",
     "text": [
      "1\n",
      "1\n",
      "2\n",
      "3\n",
      "[0, 1]\n"
     ]
    }
   ],
   "source": [
    "if __name__ == '__main__':\n",
    "    x = int(input())\n",
    "    y = int(input())\n",
    "    z = int(input())\n",
    "    n = int(input())\n",
    "    \n",
    "    newlist_x = [i for i in range(x+1)]\n",
    "    print(newlist_x)"
   ]
  },
  {
   "cell_type": "code",
   "execution_count": 2,
   "id": "6f1ca226",
   "metadata": {},
   "outputs": [
    {
     "name": "stdout",
     "output_type": "stream",
     "text": [
      "[0, 1]\n"
     ]
    }
   ],
   "source": [
    "newlist_y = [j for j in range(y+1)]\n",
    "print(newlist_y)"
   ]
  },
  {
   "cell_type": "code",
   "execution_count": 3,
   "id": "bd1dccd7",
   "metadata": {},
   "outputs": [
    {
     "name": "stdout",
     "output_type": "stream",
     "text": [
      "[0, 1, 2]\n"
     ]
    }
   ],
   "source": [
    "newlist_z = [k for k in range(z+1)]\n",
    "print(newlist_z)"
   ]
  },
  {
   "cell_type": "code",
   "execution_count": 32,
   "id": "e0db660b",
   "metadata": {},
   "outputs": [
    {
     "name": "stdout",
     "output_type": "stream",
     "text": [
      "[0, 0, 0, 0, 0, 0, 1, 1, 1, 1, 1, 1]\n"
     ]
    }
   ],
   "source": [
    "newlist = [i for i in range (x + 1) for j in range (y + 1) for k in range (z + 1)]\n",
    "print(newlist)"
   ]
  },
  {
   "cell_type": "code",
   "execution_count": 38,
   "id": "d784441d",
   "metadata": {},
   "outputs": [
    {
     "name": "stdout",
     "output_type": "stream",
     "text": [
      "[[[[0, 0, 0], [0, 0, 1], [0, 0, 2]], [[0, 1, 0], [0, 1, 1], [0, 1, 2]]], [[[1, 0, 0], [1, 0, 1], [1, 0, 2]], [[1, 1, 0], [1, 1, 1], [1, 1, 2]]]]\n"
     ]
    }
   ],
   "source": [
    "newlist = [[[[i,j,k] for k in range (z + 1)] for j in range (y + 1)] for i in range (x + 1)]\n",
    "print(newlist)"
   ]
  },
  {
   "cell_type": "code",
   "execution_count": 39,
   "id": "33fdaa97",
   "metadata": {},
   "outputs": [
    {
     "name": "stdout",
     "output_type": "stream",
     "text": [
      "[[0, 0, 0], [1, 0, 0], [0, 1, 0], [1, 1, 0], [0, 0, 1], [1, 0, 1], [0, 1, 1], [1, 1, 1], [0, 0, 2], [1, 0, 2], [0, 1, 2], [1, 1, 2]]\n"
     ]
    }
   ],
   "source": [
    "newlist = [[i,j,k] for k in range (z + 1) for j in range (y + 1) for i in range (x + 1)]\n",
    "print(newlist)"
   ]
  },
  {
   "cell_type": "code",
   "execution_count": 40,
   "id": "ab107440",
   "metadata": {},
   "outputs": [
    {
     "name": "stdout",
     "output_type": "stream",
     "text": [
      "[[0, 0, 0], [1, 0, 0], [0, 1, 0], [1, 1, 0], [0, 0, 1], [1, 0, 1], [0, 1, 1], [0, 0, 2], [1, 1, 2]]\n"
     ]
    }
   ],
   "source": [
    "newlist = [[i,j,k] for k in range (z + 1) for j in range (y + 1) for i in range (x + 1) if i + j + k != n]\n",
    "print(newlist)"
   ]
  },
  {
   "cell_type": "code",
   "execution_count": 41,
   "id": "d84e5ac1",
   "metadata": {},
   "outputs": [
    {
     "name": "stdout",
     "output_type": "stream",
     "text": [
      "[[0, 0, 0], [0, 0, 1], [0, 0, 2], [0, 1, 0], [0, 1, 1], [1, 0, 0], [1, 0, 1], [1, 1, 0], [1, 1, 2]]\n"
     ]
    }
   ],
   "source": [
    "newlist = [[i,j,k] for i in range (x + 1) for j in range (y + 1) for k in range (z + 1) if i + j + k != n]\n",
    "print(newlist)"
   ]
  },
  {
   "cell_type": "code",
   "execution_count": null,
   "id": "40904058",
   "metadata": {},
   "outputs": [],
   "source": []
  }
 ],
 "metadata": {
  "kernelspec": {
   "display_name": "Python 3 (ipykernel)",
   "language": "python",
   "name": "python3"
  },
  "language_info": {
   "codemirror_mode": {
    "name": "ipython",
    "version": 3
   },
   "file_extension": ".py",
   "mimetype": "text/x-python",
   "name": "python",
   "nbconvert_exporter": "python",
   "pygments_lexer": "ipython3",
   "version": "3.8.18"
  }
 },
 "nbformat": 4,
 "nbformat_minor": 5
}
