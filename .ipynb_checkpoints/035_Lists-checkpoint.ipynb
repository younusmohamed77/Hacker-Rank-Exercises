{
 "cells": [
  {
   "cell_type": "markdown",
   "id": "b4e06891",
   "metadata": {},
   "source": [
    "Consider a list (list = []). You can perform the following commands:\n",
    "\n",
    "- insert i e: Insert integer e at position i.\n",
    "- print: Print the list.\n",
    "- remove e: Delete the first occurrence of integer e.\n",
    "- append e: Insert integer e at the end of the list.\n",
    "- sort: Sort the list.\n",
    "- pop: Pop the last element from the list.\n",
    "- reverse: Reverse the list.\n",
    "\n",
    "Initialize your list and read in the value of n followed by n lines of commands where each command will be of the 7 types listed above. Iterate through each command in order and perform the corresponding operation on your list."
   ]
  },
  {
   "cell_type": "code",
   "execution_count": 5,
   "id": "9443a100",
   "metadata": {},
   "outputs": [
    {
     "name": "stdout",
     "output_type": "stream",
     "text": [
      "12\n"
     ]
    }
   ],
   "source": [
    "if __name__ == '__main__':\n",
    "    N = int(input())\n",
    "    list = []"
   ]
  },
  {
   "cell_type": "code",
   "execution_count": 11,
   "id": "eb4ac9af",
   "metadata": {},
   "outputs": [
    {
     "name": "stdout",
     "output_type": "stream",
     "text": [
      "insert 0 5\n",
      "insert 1 10\n",
      "insert 0 6\n",
      "print\n",
      "[6, 5, 10]\n",
      "remove 6\n",
      "append 9\n",
      "append 1\n",
      "sort\n",
      "print\n",
      "[1, 5, 9, 10]\n",
      "pop\n",
      "reverse\n",
      "print\n",
      "[9, 5, 1]\n"
     ]
    }
   ],
   "source": [
    "for i in range(N):\n",
    "    action = input().rstrip().split()\n",
    "    \n",
    "    if action[0] == 'insert':\n",
    "        list.insert(int(action[1]), int(action[2]))\n",
    "        \n",
    "    elif action[0] == 'print':\n",
    "        print(list)\n",
    "        \n",
    "    elif action[0] == 'remove':\n",
    "        list.remove(int(action[1]))\n",
    "        \n",
    "    elif action[0] == 'append':\n",
    "        list.append(int(action[1]))\n",
    "        \n",
    "    elif action[0] == 'sort':\n",
    "        list.sort()\n",
    "        \n",
    "    elif action[0] == 'pop':\n",
    "        list.pop(-1)\n",
    "        \n",
    "    elif action[0] == 'reverse':\n",
    "        list.reverse()"
   ]
  },
  {
   "cell_type": "code",
   "execution_count": null,
   "id": "414319a7",
   "metadata": {},
   "outputs": [],
   "source": []
  }
 ],
 "metadata": {
  "kernelspec": {
   "display_name": "Python 3 (ipykernel)",
   "language": "python",
   "name": "python3"
  },
  "language_info": {
   "codemirror_mode": {
    "name": "ipython",
    "version": 3
   },
   "file_extension": ".py",
   "mimetype": "text/x-python",
   "name": "python",
   "nbconvert_exporter": "python",
   "pygments_lexer": "ipython3",
   "version": "3.11.5"
  }
 },
 "nbformat": 4,
 "nbformat_minor": 5
}
