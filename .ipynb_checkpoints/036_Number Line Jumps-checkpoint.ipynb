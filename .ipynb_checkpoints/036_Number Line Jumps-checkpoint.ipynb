{
 "cells": [
  {
   "cell_type": "markdown",
   "id": "e87c474c",
   "metadata": {},
   "source": [
    "You are choreographing a circus show with various animals. For one act, you are given two kangaroos on a number line ready to jump in the positive direction (i.e, toward positive infinity).\n",
    "\n",
    "- The first kangaroo starts at location x1 and moves at a rate of v1 meters per jump.\n",
    "- The second kangaroo starts at location x2 and moves at a rate of v2 meters per jump.\n",
    "\n",
    "You have to figure out a way to get both kangaroos at the same location at the same time as part of the show. If it is possible, return YES, otherwise return NO."
   ]
  },
  {
   "cell_type": "code",
   "execution_count": 1,
   "id": "4fcd3b4a",
   "metadata": {},
   "outputs": [
    {
     "ename": "KeyError",
     "evalue": "'OUTPUT_PATH'",
     "output_type": "error",
     "traceback": [
      "\u001b[1;31m---------------------------------------------------------------------------\u001b[0m",
      "\u001b[1;31mKeyError\u001b[0m                                  Traceback (most recent call last)",
      "Cell \u001b[1;32mIn[1], line 25\u001b[0m\n\u001b[0;32m     22\u001b[0m     \u001b[38;5;28;01mpass\u001b[39;00m\n\u001b[0;32m     24\u001b[0m \u001b[38;5;28;01mif\u001b[39;00m \u001b[38;5;18m__name__\u001b[39m \u001b[38;5;241m==\u001b[39m \u001b[38;5;124m'\u001b[39m\u001b[38;5;124m__main__\u001b[39m\u001b[38;5;124m'\u001b[39m:\n\u001b[1;32m---> 25\u001b[0m     fptr \u001b[38;5;241m=\u001b[39m \u001b[38;5;28mopen\u001b[39m(os\u001b[38;5;241m.\u001b[39menviron[\u001b[38;5;124m'\u001b[39m\u001b[38;5;124mOUTPUT_PATH\u001b[39m\u001b[38;5;124m'\u001b[39m], \u001b[38;5;124m'\u001b[39m\u001b[38;5;124mw\u001b[39m\u001b[38;5;124m'\u001b[39m)\n\u001b[0;32m     27\u001b[0m     first_multiple_input \u001b[38;5;241m=\u001b[39m \u001b[38;5;28minput\u001b[39m()\u001b[38;5;241m.\u001b[39mrstrip()\u001b[38;5;241m.\u001b[39msplit()\n\u001b[0;32m     29\u001b[0m     x1 \u001b[38;5;241m=\u001b[39m \u001b[38;5;28mint\u001b[39m(first_multiple_input[\u001b[38;5;241m0\u001b[39m])\n",
      "File \u001b[1;32m<frozen os>:679\u001b[0m, in \u001b[0;36m__getitem__\u001b[1;34m(self, key)\u001b[0m\n",
      "\u001b[1;31mKeyError\u001b[0m: 'OUTPUT_PATH'"
     ]
    }
   ],
   "source": [
    "#!/bin/python3\n",
    "\n",
    "import math\n",
    "import os\n",
    "import random\n",
    "import re\n",
    "import sys\n",
    "\n",
    "#\n",
    "# Complete the 'kangaroo' function below.\n",
    "#\n",
    "# The function is expected to return a STRING.\n",
    "# The function accepts following parameters:\n",
    "#  1. INTEGER x1\n",
    "#  2. INTEGER v1\n",
    "#  3. INTEGER x2\n",
    "#  4. INTEGER v2\n",
    "#\n",
    "\n",
    "def kangaroo(x1, v1, x2, v2):\n",
    "    # Write your code here\n",
    "    pass\n",
    "\n",
    "if __name__ == '__main__':\n",
    "    fptr = open(os.environ['OUTPUT_PATH'], 'w')\n",
    "\n",
    "    first_multiple_input = input().rstrip().split()\n",
    "\n",
    "    x1 = int(first_multiple_input[0])\n",
    "\n",
    "    v1 = int(first_multiple_input[1])\n",
    "\n",
    "    x2 = int(first_multiple_input[2])\n",
    "\n",
    "    v2 = int(first_multiple_input[3])\n",
    "\n",
    "    result = kangaroo(x1, v1, x2, v2)\n",
    "\n",
    "    fptr.write(result + '\\n')\n",
    "\n",
    "    fptr.close()\n"
   ]
  },
  {
   "cell_type": "code",
   "execution_count": 2,
   "id": "bec62348",
   "metadata": {},
   "outputs": [
    {
     "name": "stdout",
     "output_type": "stream",
     "text": [
      "0 3 4 2\n"
     ]
    },
    {
     "ename": "NameError",
     "evalue": "name 'fptr' is not defined",
     "output_type": "error",
     "traceback": [
      "\u001b[1;31m---------------------------------------------------------------------------\u001b[0m",
      "\u001b[1;31mNameError\u001b[0m                                 Traceback (most recent call last)",
      "Cell \u001b[1;32mIn[2], line 39\u001b[0m\n\u001b[0;32m     35\u001b[0m v2 \u001b[38;5;241m=\u001b[39m \u001b[38;5;28mint\u001b[39m(first_multiple_input[\u001b[38;5;241m3\u001b[39m])\n\u001b[0;32m     37\u001b[0m result \u001b[38;5;241m=\u001b[39m kangaroo(x1, v1, x2, v2)\n\u001b[1;32m---> 39\u001b[0m fptr\u001b[38;5;241m.\u001b[39mwrite(result \u001b[38;5;241m+\u001b[39m \u001b[38;5;124m'\u001b[39m\u001b[38;5;130;01m\\n\u001b[39;00m\u001b[38;5;124m'\u001b[39m)\n\u001b[0;32m     41\u001b[0m fptr\u001b[38;5;241m.\u001b[39mclose()\n",
      "\u001b[1;31mNameError\u001b[0m: name 'fptr' is not defined"
     ]
    }
   ],
   "source": [
    "#!/bin/python3\n",
    "\n",
    "import math\n",
    "import os\n",
    "import random\n",
    "import re\n",
    "import sys\n",
    "\n",
    "#\n",
    "# Complete the 'kangaroo' function below.\n",
    "#\n",
    "# The function is expected to return a STRING.\n",
    "# The function accepts following parameters:\n",
    "#  1. INTEGER x1\n",
    "#  2. INTEGER v1\n",
    "#  3. INTEGER x2\n",
    "#  4. INTEGER v2\n",
    "#\n",
    "\n",
    "def kangaroo(x1, v1, x2, v2):\n",
    "    # Write your code here\n",
    "    pass\n",
    "\n",
    "if __name__ == '__main__':\n",
    "    #fptr = open(os.environ['OUTPUT_PATH'], 'w')\n",
    "\n",
    "    first_multiple_input = input().rstrip().split()\n",
    "\n",
    "    x1 = int(first_multiple_input[0])\n",
    "\n",
    "    v1 = int(first_multiple_input[1])\n",
    "\n",
    "    x2 = int(first_multiple_input[2])\n",
    "\n",
    "    v2 = int(first_multiple_input[3])\n",
    "\n",
    "    result = kangaroo(x1, v1, x2, v2)\n",
    "\n",
    "    fptr.write(result + '\\n')\n",
    "\n",
    "    fptr.close()\n"
   ]
  },
  {
   "cell_type": "code",
   "execution_count": 3,
   "id": "81459761",
   "metadata": {},
   "outputs": [],
   "source": [
    "# Wrong\n",
    "\n",
    "def kangaroo(x1, v1, x2, v2):\n",
    "    \n",
    "    if x1 + v1 == x2 + v2:\n",
    "        return YES\n",
    "    \n",
    "    else:\n",
    "        return NO"
   ]
  },
  {
   "cell_type": "code",
   "execution_count": 4,
   "id": "b171c397",
   "metadata": {},
   "outputs": [],
   "source": [
    "# rong\n",
    "\n",
    "def kangaroo(x1, v1, x2, v2):\n",
    "    kang1_pos = x1\n",
    "    kang2_pos = x2\n",
    "    dist = kang1_pos - kang2_pos\n",
    "\n",
    "    kang1_pos += v1\n",
    "    kang2_pos += v2\n",
    "    new_dist = kang1_pos - kang2_pos\n",
    "        \n",
    "    if new_dist < dist:\n",
    "        return 'YES'\n",
    "               \n",
    "    else:\n",
    "        return 'NO'"
   ]
  },
  {
   "cell_type": "code",
   "execution_count": 5,
   "id": "65d4d68d",
   "metadata": {},
   "outputs": [],
   "source": [
    "def kangaroo(x1, v1, x2, v2):\n",
    "    \n",
    "    for i in range(10):\n",
    "        \n",
    "        if x1 + (i * v1) == x2 + (i * v2):\n",
    "            return 'YES'\n",
    "\n",
    "        else:\n",
    "            return 'NO'\n",
    "        \n",
    "        break"
   ]
  },
  {
   "cell_type": "code",
   "execution_count": 6,
   "id": "3783b033",
   "metadata": {},
   "outputs": [],
   "source": [
    "# Cleared\n",
    "\n",
    "def kangaroo(x1, v1, x2, v2):\n",
    "    \n",
    "    for i in range(10000):\n",
    "        \n",
    "        if x1 + (i * v1) == x2 + (i * v2):\n",
    "            return 'YES'\n",
    "            break\n",
    "\n",
    "    return 'NO'"
   ]
  },
  {
   "cell_type": "code",
   "execution_count": 7,
   "id": "bf07b18a",
   "metadata": {},
   "outputs": [],
   "source": [
    "# Failed\n",
    "\n",
    "def kangaroo(x1, v1, x2, v2):\n",
    "    \n",
    "    i = 0\n",
    "    \n",
    "    while True:\n",
    "        i += 1\n",
    "        \n",
    "        if x1 + (i * v1) == x2 + (i * v2):\n",
    "            return 'YES'\n",
    "            break\n",
    "\n",
    "    return 'NO'"
   ]
  },
  {
   "cell_type": "code",
   "execution_count": null,
   "id": "1ab25de1",
   "metadata": {},
   "outputs": [],
   "source": [
    "# Chat GPT\n",
    "\n",
    "\n",
    "Your function kangaroo aims to determine if two kangaroos starting at different positions and moving at different speeds will ever land on the same position at the same time. The logic seems mostly correct, but there are a couple of improvements and corrections needed:\n",
    "\n",
    "The loop should account for the possibility that the kangaroos might never meet.\n",
    "The break statement after returning 'YES' is unnecessary.\n",
    "A condition to exit the loop if they will never meet should be added.\n",
    "Here's a revised version of your function:\n",
    "\n",
    "python\n",
    "Copy code\n",
    "def kangaroo(x1, v1, x2, v2):\n",
    "    if v1 == v2:\n",
    "        if x1 == x2:\n",
    "            return 'YES'\n",
    "        else:\n",
    "            return 'NO'\n",
    "    else:\n",
    "        if (x2 - x1) % (v1 - v2) == 0 and (x2 - x1) / (v1 - v2) >= 0:\n",
    "            return 'YES'\n",
    "        else:\n",
    "            return 'NO'"
   ]
  }
 ],
 "metadata": {
  "kernelspec": {
   "display_name": "Python 3 (ipykernel)",
   "language": "python",
   "name": "python3"
  },
  "language_info": {
   "codemirror_mode": {
    "name": "ipython",
    "version": 3
   },
   "file_extension": ".py",
   "mimetype": "text/x-python",
   "name": "python",
   "nbconvert_exporter": "python",
   "pygments_lexer": "ipython3",
   "version": "3.11.5"
  }
 },
 "nbformat": 4,
 "nbformat_minor": 5
}
