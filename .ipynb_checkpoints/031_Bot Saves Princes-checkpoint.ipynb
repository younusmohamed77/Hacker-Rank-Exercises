{
 "cells": [
  {
   "cell_type": "markdown",
   "id": "ce058844",
   "metadata": {},
   "source": [
    "Princess Peach is trapped in one of the four corners of a square grid. You are in the center of the grid and can move one step at a time in any of the four directions. Can you rescue the princess?\n",
    "\n",
    "##### Input format\n",
    "\n",
    "The first line contains an odd integer N (3 <= N < 100) denoting the size of the grid. This is followed by an NxN grid. Each cell is denoted by '-' (ascii value: 45). The bot position is denoted by 'm' and the princess position is denoted by 'p'.\n",
    "\n",
    "Grid is indexed using Matrix Convention\n",
    "\n",
    "##### Output format\n",
    "\n",
    "Print out the moves you will take to rescue the princess in one go. The moves must be separated by '\\n', a newline. The valid moves are LEFT or RIGHT or UP or DOWN.\n",
    "\n",
    "https://www.hackerrank.com/challenges/saveprincess/problem"
   ]
  },
  {
   "cell_type": "code",
   "execution_count": null,
   "id": "1b6b46fd",
   "metadata": {},
   "outputs": [],
   "source": [
    "#!/usr/bin/python\n",
    "\n",
    "def displayPathtoPrincess(n,grid):\n",
    "#print all the moves here\n",
    "\n",
    "m = int(input())\n",
    "grid = [] \n",
    "for i in range(0, m): \n",
    "    grid.append(input().strip())\n",
    "\n",
    "displayPathtoPrincess(m,grid)"
   ]
  },
  {
   "cell_type": "code",
   "execution_count": 19,
   "id": "31af098b",
   "metadata": {},
   "outputs": [
    {
     "name": "stdout",
     "output_type": "stream",
     "text": [
      "5\n",
      "----p\n",
      "-----\n",
      "--m--\n",
      "-----\n",
      "-----\n"
     ]
    }
   ],
   "source": [
    "m = int(input())\n",
    "grid = [] \n",
    "for i in range(0, m): \n",
    "    grid.append(input().strip())"
   ]
  },
  {
   "cell_type": "code",
   "execution_count": 2,
   "id": "52dd301b",
   "metadata": {},
   "outputs": [
    {
     "name": "stdout",
     "output_type": "stream",
     "text": [
      "LEFT\n",
      "\n",
      "DOWN\n",
      "\n"
     ]
    }
   ],
   "source": [
    "n = m\n",
    "\n",
    "bot_position = (n // 2, n // 2)\n",
    "\n",
    "if grid[0][0] == 'p':\n",
    "    princess_postion = (0, 0)\n",
    "    \n",
    "elif grid[0][n - 1] == 'p':\n",
    "    princess_postion = (0, n - 1)\n",
    "    \n",
    "elif grid[n - 1][0] == 'p':\n",
    "    princess_postion = (n - 1, 0)\n",
    "    \n",
    "elif grid[n - 1][n - 1] == 'p':\n",
    "    princess_postion = (n - 1, n - 1)\n",
    "    \n",
    "row_difference = bot_position[0] - princess_postion[0]\n",
    "col_difference = bot_position[1] - princess_postion[1]\n",
    "\n",
    "if row_difference < 0:\n",
    "    print(\"LEFT\\n\" * abs(row_difference))\n",
    "elif row_difference > 0:\n",
    "    print(\"RIGHT\\n\" * row_difference)\n",
    "    \n",
    "if col_difference > 0:\n",
    "    print(\"DOWN\\n\" * col_difference)\n",
    "elif col_difference < 0:\n",
    "    print(\"UP\\n\" * abs(col_difference))"
   ]
  },
  {
   "cell_type": "code",
   "execution_count": 3,
   "id": "5545c5b0",
   "metadata": {},
   "outputs": [
    {
     "name": "stdout",
     "output_type": "stream",
     "text": [
      "(1, 1)\n"
     ]
    }
   ],
   "source": [
    "print(bot_position)"
   ]
  },
  {
   "cell_type": "code",
   "execution_count": 4,
   "id": "300caa89",
   "metadata": {},
   "outputs": [
    {
     "name": "stdout",
     "output_type": "stream",
     "text": [
      "(2, 0)\n"
     ]
    }
   ],
   "source": [
    "print(princess_postion)"
   ]
  },
  {
   "cell_type": "code",
   "execution_count": 5,
   "id": "fc231513",
   "metadata": {},
   "outputs": [
    {
     "name": "stdout",
     "output_type": "stream",
     "text": [
      "-1\n"
     ]
    }
   ],
   "source": [
    "print(row_difference)"
   ]
  },
  {
   "cell_type": "code",
   "execution_count": 6,
   "id": "f2324e93",
   "metadata": {},
   "outputs": [
    {
     "name": "stdout",
     "output_type": "stream",
     "text": [
      "1\n"
     ]
    }
   ],
   "source": [
    "print(col_difference)"
   ]
  },
  {
   "cell_type": "code",
   "execution_count": 7,
   "id": "c594aea1",
   "metadata": {},
   "outputs": [
    {
     "name": "stdout",
     "output_type": "stream",
     "text": [
      "\n",
      "LEFT\n",
      "\n",
      "DOWN\n"
     ]
    }
   ],
   "source": [
    "n = m\n",
    "\n",
    "bot_position = (n // 2, n // 2)\n",
    "\n",
    "if grid[0][0] == 'p':\n",
    "    princess_postion = (0, 0)\n",
    "    \n",
    "elif grid[0][n - 1] == 'p':\n",
    "    princess_postion = (0, n - 1)\n",
    "    \n",
    "elif grid[n - 1][0] == 'p':\n",
    "    princess_postion = (n - 1, 0)\n",
    "    \n",
    "elif grid[n - 1][n - 1] == 'p':\n",
    "    princess_postion = (n - 1, n - 1)\n",
    "    \n",
    "row_difference = bot_position[0] - princess_postion[0]\n",
    "col_difference = bot_position[1] - princess_postion[1]\n",
    "\n",
    "if row_difference < 0:\n",
    "    print(\"LEFT\\n\" * (abs(row_difference) - 1))\n",
    "    print(\"LEFT\")\n",
    "elif row_difference > 0:\n",
    "    print(\"RIGHT\\n\" * (row_difference - 1))\n",
    "    print(\"RIGHT\")\n",
    "    \n",
    "if col_difference > 0:\n",
    "    print(\"DOWN\\n\" * (col_difference - 1))\n",
    "    print(\"DOWN\")\n",
    "elif col_difference < 0:\n",
    "    print(\"UP\\n\" * (abs(col_difference) - 1))\n",
    "    print(\"UP\")"
   ]
  },
  {
   "cell_type": "code",
   "execution_count": 8,
   "id": "fcaa951c",
   "metadata": {},
   "outputs": [
    {
     "name": "stdout",
     "output_type": "stream",
     "text": [
      "LEFT\n",
      "\n",
      "\r",
      "DOWN\n",
      "\n"
     ]
    }
   ],
   "source": [
    "n = m\n",
    "\n",
    "bot_position = (n // 2, n // 2)\n",
    "\n",
    "if grid[0][0] == 'p':\n",
    "    princess_postion = (0, 0)\n",
    "    \n",
    "elif grid[0][n - 1] == 'p':\n",
    "    princess_postion = (0, n - 1)\n",
    "    \n",
    "elif grid[n - 1][0] == 'p':\n",
    "    princess_postion = (n - 1, 0)\n",
    "    \n",
    "elif grid[n - 1][n - 1] == 'p':\n",
    "    princess_postion = (n - 1, n - 1)\n",
    "    \n",
    "row_difference = bot_position[0] - princess_postion[0]\n",
    "col_difference = bot_position[1] - princess_postion[1]\n",
    "\n",
    "if row_difference < 0:\n",
    "    print(\"LEFT\\n\" * abs(row_difference))\n",
    "elif row_difference > 0:\n",
    "    print(\"RIGHT\\n\" * row_difference)\n",
    "    \n",
    "if col_difference > 0:\n",
    "    print(\"\\rDOWN\\n\" * col_difference)\n",
    "elif col_difference < 0:\n",
    "    print(\"\\rUP\\n\" * abs(col_difference))"
   ]
  },
  {
   "cell_type": "code",
   "execution_count": 9,
   "id": "4142641e",
   "metadata": {},
   "outputs": [
    {
     "name": "stdout",
     "output_type": "stream",
     "text": [
      "Check\n",
      "\n"
     ]
    }
   ],
   "source": [
    "print(\"Check\\n\")"
   ]
  },
  {
   "cell_type": "code",
   "execution_count": 10,
   "id": "482d4b5c",
   "metadata": {},
   "outputs": [
    {
     "name": "stdout",
     "output_type": "stream",
     "text": [
      "\n",
      "Check\n"
     ]
    }
   ],
   "source": [
    "print(\"\\nCheck\")"
   ]
  },
  {
   "cell_type": "code",
   "execution_count": 11,
   "id": "90658a26",
   "metadata": {},
   "outputs": [
    {
     "name": "stdout",
     "output_type": "stream",
     "text": [
      "\n",
      "LEFT\n"
     ]
    }
   ],
   "source": [
    "print(\"LEFT\" * 0)\n",
    "print(\"LEFT\")"
   ]
  },
  {
   "cell_type": "code",
   "execution_count": 12,
   "id": "01122d3b",
   "metadata": {},
   "outputs": [
    {
     "name": "stdout",
     "output_type": "stream",
     "text": [
      "\n"
     ]
    }
   ],
   "source": [
    "print(\"\\n\" * 0)"
   ]
  },
  {
   "cell_type": "code",
   "execution_count": 13,
   "id": "b2b64480",
   "metadata": {},
   "outputs": [
    {
     "name": "stdout",
     "output_type": "stream",
     "text": [
      "\n",
      "\n"
     ]
    }
   ],
   "source": [
    "print(\"\\n\" * 1)"
   ]
  },
  {
   "cell_type": "code",
   "execution_count": 14,
   "id": "998b4659",
   "metadata": {},
   "outputs": [
    {
     "name": "stdout",
     "output_type": "stream",
     "text": [
      "\n"
     ]
    }
   ],
   "source": [
    "print(\"\")"
   ]
  },
  {
   "cell_type": "code",
   "execution_count": 15,
   "id": "4436f2ab",
   "metadata": {},
   "outputs": [
    {
     "name": "stdout",
     "output_type": "stream",
     "text": [
      "LEFT\n",
      "\n"
     ]
    }
   ],
   "source": [
    "print(\"LEFT\"\"\\n\")"
   ]
  },
  {
   "cell_type": "code",
   "execution_count": 16,
   "id": "88ff4915",
   "metadata": {},
   "outputs": [
    {
     "name": "stdout",
     "output_type": "stream",
     "text": [
      "LEFT\n",
      "LEFT\n",
      "LEFT\n",
      "\n"
     ]
    }
   ],
   "source": [
    "print(\"LEFT\"\"\\n\" * 3)"
   ]
  },
  {
   "cell_type": "code",
   "execution_count": 17,
   "id": "3b764130",
   "metadata": {},
   "outputs": [
    {
     "name": "stdout",
     "output_type": "stream",
     "text": [
      "LEFTLEFTLEFT \n",
      "\n",
      "\n"
     ]
    }
   ],
   "source": [
    "print(\"LEFT\" * 3, \"\\n\" * 2)"
   ]
  },
  {
   "cell_type": "code",
   "execution_count": 20,
   "id": "f8a4a6ae",
   "metadata": {},
   "outputs": [
    {
     "name": "stdout",
     "output_type": "stream",
     "text": [
      "RIGHT\n",
      "RIGHT\n",
      "UP\n",
      "UP\n"
     ]
    }
   ],
   "source": [
    "n = m\n",
    "\n",
    "bot_position = (n // 2, n // 2)\n",
    "\n",
    "if grid[0][0] == 'p':\n",
    "    princess_postion = (0, 0)\n",
    "    \n",
    "elif grid[0][n - 1] == 'p':\n",
    "    princess_postion = (0, n - 1)\n",
    "    \n",
    "elif grid[n - 1][0] == 'p':\n",
    "    princess_postion = (n - 1, 0)\n",
    "    \n",
    "elif grid[n - 1][n - 1] == 'p':\n",
    "    princess_postion = (n - 1, n - 1)\n",
    "    \n",
    "row_difference = bot_position[0] - princess_postion[0]\n",
    "col_difference = bot_position[1] - princess_postion[1]\n",
    "\n",
    "for i in range(abs(row_difference)):\n",
    "    if row_difference < 0:\n",
    "        print(\"LEFT\")\n",
    "    elif row_difference > 0:\n",
    "        print(\"RIGHT\")\n",
    "    \n",
    "for j in range(abs(col_difference)):\n",
    "    if col_difference > 0:\n",
    "        print(\"DOWN\")\n",
    "    elif col_difference < 0:\n",
    "        print(\"UP\")"
   ]
  },
  {
   "cell_type": "code",
   "execution_count": null,
   "id": "bcabe2cf",
   "metadata": {},
   "outputs": [],
   "source": []
  }
 ],
 "metadata": {
  "kernelspec": {
   "display_name": "Python 3 (ipykernel)",
   "language": "python",
   "name": "python3"
  },
  "language_info": {
   "codemirror_mode": {
    "name": "ipython",
    "version": 3
   },
   "file_extension": ".py",
   "mimetype": "text/x-python",
   "name": "python",
   "nbconvert_exporter": "python",
   "pygments_lexer": "ipython3",
   "version": "3.11.5"
  }
 },
 "nbformat": 4,
 "nbformat_minor": 5
}
