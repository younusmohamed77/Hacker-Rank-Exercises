{
 "cells": [
  {
   "cell_type": "markdown",
   "id": "fdcd3d3e",
   "metadata": {},
   "source": [
    "You are given a 2D matrix of dimension m x n and a positive integer r. You have to rotate the matrix r times and print the resultant matrix. Rotation should be in anti-clockwise direction.\n",
    "\n",
    "Rotation of a 4 x 5 matrix is represented by the following figure. Note that in one rotation, you have to shift elements by one step only.\n",
    "\n",
    "It is guaranteed that the minimum of m and n will be even.\n",
    "\n",
    "As an example rotate the Start matrix by 2:\n",
    "\n",
    "    Start         First           Second\n",
    "     1 2 3 4       2  3  4  5      3  4  5  6\n",
    "    12 1 2 5  ->   1  2  3  6 ->   2  3  4  7\n",
    "    11 4 3 6      12  1  4  7      1  2  1  8\n",
    "    10 9 8 7      11 10  9  8     12 11 10  9\n",
    "\n",
    "##### Function Description\n",
    "Complete the matrixRotation function in the editor below. matrixRotation has the following parameter(s):\n",
    "- int matrix[m][n]: a 2D array of integers\n",
    "- int r: the rotation factor\n",
    "\n",
    "##### Prints\n",
    "It should print the resultant 2D integer array and return nothing. Print each row on a separate line as space-separated integers.\n",
    "\n",
    "##### Input Format\n",
    "The first line contains three space separated integers, m, n, and r, the number of rows and columns in matrix, and the required rotation.\n",
    "The next m lines contain n space-separated integers representing the elements of a row of matrix."
   ]
  },
  {
   "cell_type": "code",
   "execution_count": 1,
   "id": "58fbb2d6",
   "metadata": {},
   "outputs": [
    {
     "ename": "IndentationError",
     "evalue": "expected an indented block after function definition on line 17 (3168858083.py, line 20)",
     "output_type": "error",
     "traceback": [
      "\u001b[1;36m  Cell \u001b[1;32mIn[1], line 20\u001b[1;36m\u001b[0m\n\u001b[1;33m    if __name__ == '__main__':\u001b[0m\n\u001b[1;37m    ^\u001b[0m\n\u001b[1;31mIndentationError\u001b[0m\u001b[1;31m:\u001b[0m expected an indented block after function definition on line 17\n"
     ]
    }
   ],
   "source": [
    "#!/bin/python3\n",
    "\n",
    "import math\n",
    "import os\n",
    "import random\n",
    "import re\n",
    "import sys\n",
    "\n",
    "#\n",
    "# Complete the 'matrixRotation' function below.\n",
    "#\n",
    "# The function accepts following parameters:\n",
    "#  1. 2D_INTEGER_ARRAY matrix\n",
    "#  2. INTEGER r\n",
    "#\n",
    "\n",
    "def matrixRotation(matrix, r):\n",
    "    # Write your code here\n",
    "\n",
    "if __name__ == '__main__':\n",
    "    first_multiple_input = input().rstrip().split()\n",
    "\n",
    "    m = int(first_multiple_input[0])\n",
    "\n",
    "    n = int(first_multiple_input[1])\n",
    "\n",
    "    r = int(first_multiple_input[2])\n",
    "\n",
    "    matrix = []\n",
    "\n",
    "    for _ in range(m):\n",
    "        matrix.append(list(map(int, input().rstrip().split())))\n",
    "\n",
    "    matrixRotation(matrix, r)\n"
   ]
  },
  {
   "cell_type": "code",
   "execution_count": null,
   "id": "582b65a7",
   "metadata": {},
   "outputs": [],
   "source": [
    "def matrixRotation(matrix, r):\n",
    "    # Write your code here"
   ]
  },
  {
   "cell_type": "code",
   "execution_count": 2,
   "id": "c1408329",
   "metadata": {},
   "outputs": [
    {
     "name": "stdout",
     "output_type": "stream",
     "text": [
      "2 2 1\n",
      "1 2\n",
      "3 4\n"
     ]
    }
   ],
   "source": [
    "if __name__ == '__main__':\n",
    "    first_multiple_input = input().rstrip().split()\n",
    "\n",
    "    m = int(first_multiple_input[0])\n",
    "\n",
    "    n = int(first_multiple_input[1])\n",
    "\n",
    "    r = int(first_multiple_input[2])\n",
    "\n",
    "    matrix = []\n",
    "\n",
    "    for i in range(m):\n",
    "        matrix.append(list(map(int, input().rstrip().split())))\n",
    "\n",
    "   # matrixRotation(matrix, r)"
   ]
  },
  {
   "cell_type": "code",
   "execution_count": 3,
   "id": "3d23fa97",
   "metadata": {},
   "outputs": [
    {
     "name": "stdout",
     "output_type": "stream",
     "text": [
      "[[1, 2], [3, 4]]\n",
      "[1, 2]\n",
      "[3, 4]\n"
     ]
    }
   ],
   "source": [
    "print(matrix)\n",
    "for j in matrix:\n",
    "    print(j)"
   ]
  },
  {
   "cell_type": "code",
   "execution_count": 4,
   "id": "3b55b8ac",
   "metadata": {},
   "outputs": [
    {
     "name": "stdout",
     "output_type": "stream",
     "text": [
      "1\n",
      "2\n"
     ]
    }
   ],
   "source": [
    "for j in range(1, len(matrix) + 1):\n",
    "    print(j)"
   ]
  },
  {
   "cell_type": "code",
   "execution_count": 5,
   "id": "81a2035e",
   "metadata": {},
   "outputs": [
    {
     "name": "stdout",
     "output_type": "stream",
     "text": [
      "[[1, 2], [3, 4]]\n",
      "2\n"
     ]
    }
   ],
   "source": [
    "test_matrix = matrix\n",
    "print(test_matrix)\n",
    "print(len(test_matrix))"
   ]
  },
  {
   "cell_type": "code",
   "execution_count": 89,
   "id": "4aba9df9",
   "metadata": {},
   "outputs": [
    {
     "name": "stdout",
     "output_type": "stream",
     "text": [
      "[[2, 3, 4, 8], [1, 6, 7, 12], [5, 10, 11, 16], [9, 13, 14, 15]]\n"
     ]
    }
   ],
   "source": [
    "temp1 = test_matrix[m-1][n-1]\n",
    "\n",
    "for j in range(m - 1, -1, -1):\n",
    "    \n",
    "    for k in range(n - 1, -1, -1):\n",
    "        if k > 0 and j == m - 1:\n",
    "            test_matrix[j][k] = test_matrix[j][k-1]\n",
    "        \n",
    "        elif k > 1 and j == 0:\n",
    "            test_matrix[j][n-k-1] = test_matrix[j][n-k]\n",
    "            \n",
    "        elif k == 1 and j == 0:\n",
    "            test_matrix[j][n-k-1] = temp1\n",
    "        \n",
    "        elif k == 0 and j > 0:\n",
    "            test_matrix[j][k] = test_matrix[j-1][k]\n",
    "    \n",
    "    if j > 0:\n",
    "        temp2 = test_matrix[j-1][n-1]\n",
    "        test_matrix[j-1][n-1] = temp1\n",
    "        temp1 = temp2\n",
    "        \n",
    "print(test_matrix)"
   ]
  },
  {
   "cell_type": "code",
   "execution_count": 6,
   "id": "639a0595",
   "metadata": {},
   "outputs": [
    {
     "name": "stdout",
     "output_type": "stream",
     "text": [
      "[[4, 2], [1, 3]]\n"
     ]
    }
   ],
   "source": [
    "layers = int(min(m,n) / 2)\n",
    "\n",
    "for l in range(layers):\n",
    "    temp1 = test_matrix[m-1-l][n-1-l]\n",
    "    \n",
    "    for j in range(m - 1 - l, -1, -1):\n",
    "    \n",
    "        for k in range(n - 1 - l, -1, -1):\n",
    "            \n",
    "            if k >  l and j == m - 1 - l:\n",
    "                test_matrix[j][k] = test_matrix[j][k-1]\n",
    "        \n",
    "            elif k > l + 1 and j ==  l:\n",
    "                test_matrix[j][n-k-1] = test_matrix[j][n-k]\n",
    "            \n",
    "            elif k == l + 1 and j ==  l:\n",
    "                test_matrix[j][n-k-1-l] = temp1\n",
    "\n",
    "            elif k ==  l and j >  l:\n",
    "                test_matrix[j][k] = test_matrix[j-1][k]\n",
    "    \n",
    "            if j > l and l > k:\n",
    "                temp2 = test_matrix[j-1][n-1-l]\n",
    "                test_matrix[j-1][n-1-l] = temp1\n",
    "                temp1 = temp2\n",
    "        \n",
    "print(test_matrix)"
   ]
  },
  {
   "cell_type": "code",
   "execution_count": 109,
   "id": "20ca98f1",
   "metadata": {},
   "outputs": [
    {
     "name": "stdout",
     "output_type": "stream",
     "text": [
      "0\n",
      "1\n"
     ]
    }
   ],
   "source": [
    "for x in range(layers):\n",
    "    print(x)"
   ]
  },
  {
   "cell_type": "code",
   "execution_count": 53,
   "id": "3c1ee8d2",
   "metadata": {},
   "outputs": [
    {
     "data": {
      "text/plain": [
       "1"
      ]
     },
     "execution_count": 53,
     "metadata": {},
     "output_type": "execute_result"
    }
   ],
   "source": [
    "layers = int(min(m,n) / 2)\n",
    "layers"
   ]
  },
  {
   "cell_type": "code",
   "execution_count": 160,
   "id": "15f7ca2f",
   "metadata": {},
   "outputs": [
    {
     "name": "stdout",
     "output_type": "stream",
     "text": [
      "[1, 2, 3, 4, 5, 8, 9, 12, 13, 14, 15, 16, 6, 7, 10, 11]\n"
     ]
    }
   ],
   "source": [
    "list_ar = []\n",
    "list_in = []\n",
    "layers = int(min(m,n) / 2)\n",
    "\n",
    "for l in range(layers):\n",
    "    for i in range(m):\n",
    "        for j in range(n):\n",
    "            if i == 0 + l or j == 0 + l or i == m - 1 - l or j == n - 1 - l:\n",
    "                if matrix[i][j] not in list_ar:\n",
    "                    list_ar.append(matrix[i][j])\n",
    "        \n",
    "print(list_ar)"
   ]
  },
  {
   "cell_type": "code",
   "execution_count": null,
   "id": "45ee6165",
   "metadata": {},
   "outputs": [],
   "source": []
  }
 ],
 "metadata": {
  "kernelspec": {
   "display_name": "Python 3 (ipykernel)",
   "language": "python",
   "name": "python3"
  },
  "language_info": {
   "codemirror_mode": {
    "name": "ipython",
    "version": 3
   },
   "file_extension": ".py",
   "mimetype": "text/x-python",
   "name": "python",
   "nbconvert_exporter": "python",
   "pygments_lexer": "ipython3",
   "version": "3.11.5"
  }
 },
 "nbformat": 4,
 "nbformat_minor": 5
}
