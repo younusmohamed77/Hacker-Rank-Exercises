{
 "cells": [
  {
   "cell_type": "markdown",
   "id": "b4338b42",
   "metadata": {},
   "source": [
    "The factorial of the integer , written , is defined as:\n",
    "\n",
    "Calculate and print the factorial of a given integer.\n",
    "\n",
    "For example, if , we calculate  and get .\n",
    "\n",
    "Function Description\n",
    "\n",
    "Complete the extraLongFactorials function in the editor below. It should print the result and return.\n",
    "\n",
    "extraLongFactorials has the following parameter(s):\n",
    "\n",
    "n: an integer\n",
    "Note: Factorials of  can't be stored even in a  long long variable. Big integers must be used for such calculations. Languages like Java, Python, Ruby etc. can handle big integers, but we need to write additional code in C/C++ to handle huge values.\n",
    "\n",
    "We recommend solving this challenge using BigIntegers.\n",
    "\n",
    "https://www.hackerrank.com/challenges/extra-long-factorials/problem?isFullScreen=true"
   ]
  },
  {
   "cell_type": "code",
   "execution_count": 1,
   "id": "bfdbadb8",
   "metadata": {},
   "outputs": [
    {
     "name": "stdout",
     "output_type": "stream",
     "text": [
      "25\n"
     ]
    }
   ],
   "source": [
    "#!/bin/python3\n",
    "\n",
    "import math\n",
    "import os\n",
    "import random\n",
    "import re\n",
    "import sys\n",
    "\n",
    "#\n",
    "# Complete the 'extraLongFactorials' function below.\n",
    "#\n",
    "# The function accepts INTEGER n as parameter.\n",
    "#\n",
    "\n",
    "def extraLongFactorials(n):\n",
    "    # Write your code here\n",
    "    pass\n",
    "\n",
    "if __name__ == '__main__':\n",
    "    n = int(input().strip())\n",
    "\n",
    "    extraLongFactorials(n)\n"
   ]
  },
  {
   "cell_type": "code",
   "execution_count": 4,
   "id": "2d810475",
   "metadata": {},
   "outputs": [],
   "source": [
    "def extraLongFactorials(n):\n",
    "    print(n)\n",
    "    print(math.factorial(n))"
   ]
  },
  {
   "cell_type": "code",
   "execution_count": 5,
   "id": "13941055",
   "metadata": {},
   "outputs": [
    {
     "name": "stdout",
     "output_type": "stream",
     "text": [
      "25\n",
      "15511210043330985984000000\n"
     ]
    }
   ],
   "source": [
    "extraLongFactorials(n)"
   ]
  },
  {
   "cell_type": "code",
   "execution_count": null,
   "id": "73bfa01d",
   "metadata": {},
   "outputs": [],
   "source": []
  }
 ],
 "metadata": {
  "kernelspec": {
   "display_name": "Python 3 (ipykernel)",
   "language": "python",
   "name": "python3"
  },
  "language_info": {
   "codemirror_mode": {
    "name": "ipython",
    "version": 3
   },
   "file_extension": ".py",
   "mimetype": "text/x-python",
   "name": "python",
   "nbconvert_exporter": "python",
   "pygments_lexer": "ipython3",
   "version": "3.11.5"
  }
 },
 "nbformat": 4,
 "nbformat_minor": 5
}
