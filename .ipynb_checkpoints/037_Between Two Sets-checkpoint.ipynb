{
 "cells": [
  {
   "cell_type": "markdown",
   "id": "5a86e76d",
   "metadata": {},
   "source": [
    "There will be two arrays of integers. Determine all integers that satisfy the following two conditions:\n",
    "\n",
    "1. The elements of the first array are all factors of the integer being considered\n",
    "2. The integer being considered is a factor of all elements of the second array\n",
    "\n",
    "These numbers are referred to as being between the two arrays. Determine how many such numbers exist."
   ]
  },
  {
   "cell_type": "code",
   "execution_count": null,
   "id": "f1511b17",
   "metadata": {},
   "outputs": [],
   "source": [
    "#!/bin/python3\n",
    "\n",
    "import math\n",
    "import os\n",
    "import random\n",
    "import re\n",
    "import sys\n",
    "\n",
    "#\n",
    "# Complete the 'getTotalX' function below.\n",
    "#\n",
    "# The function is expected to return an INTEGER.\n",
    "# The function accepts following parameters:\n",
    "#  1. INTEGER_ARRAY a\n",
    "#  2. INTEGER_ARRAY b\n",
    "#\n",
    "\n",
    "def getTotalX(a, b):\n",
    "    # Write your code here\n",
    "    pass\n",
    "\n",
    "if __name__ == '__main__':\n",
    "    fptr = open(os.environ['OUTPUT_PATH'], 'w')\n",
    "\n",
    "    first_multiple_input = input().rstrip().split()\n",
    "\n",
    "    n = int(first_multiple_input[0])\n",
    "\n",
    "    m = int(first_multiple_input[1])\n",
    "\n",
    "    arr = list(map(int, input().rstrip().split()))\n",
    "\n",
    "    brr = list(map(int, input().rstrip().split()))\n",
    "\n",
    "    total = getTotalX(arr, brr)\n",
    "\n",
    "    fptr.write(str(total) + '\\n')\n",
    "\n",
    "    fptr.close()\n"
   ]
  },
  {
   "cell_type": "code",
   "execution_count": 30,
   "id": "9e9389e8",
   "metadata": {},
   "outputs": [
    {
     "name": "stdout",
     "output_type": "stream",
     "text": [
      "2 3\n",
      "2 4\n",
      "16 32 96\n",
      "None\n"
     ]
    }
   ],
   "source": [
    "#!/bin/python3\n",
    "\n",
    "import math\n",
    "import os\n",
    "import random\n",
    "import re\n",
    "import sys\n",
    "\n",
    "#\n",
    "# Complete the 'getTotalX' function below.\n",
    "#\n",
    "# The function is expected to return an INTEGER.\n",
    "# The function accepts following parameters:\n",
    "#  1. INTEGER_ARRAY a\n",
    "#  2. INTEGER_ARRAY b\n",
    "#\n",
    "\n",
    "def getTotalX(a, b):\n",
    "    # Write your code here\n",
    "    pass\n",
    "\n",
    "if __name__ == '__main__':\n",
    "    first_multiple_input = input().rstrip().split()\n",
    "    n = int(first_multiple_input[0])\n",
    "    m = int(first_multiple_input[1])\n",
    "    arr = list(map(int, input().rstrip().split()))\n",
    "    brr = list(map(int, input().rstrip().split()))\n",
    "    total = getTotalX(arr, brr)\n",
    "    print(total)"
   ]
  },
  {
   "cell_type": "code",
   "execution_count": 31,
   "id": "39b71399",
   "metadata": {},
   "outputs": [],
   "source": [
    "def getTotalX(a, b):\n",
    "    numbers = [x for y in [100 % x for x in a] if y == 0]"
   ]
  },
  {
   "cell_type": "code",
   "execution_count": 32,
   "id": "55d312f7",
   "metadata": {},
   "outputs": [],
   "source": [
    "def getTotalX(a, b):\n",
    "    numbers = []\n",
    "    for i in range(1,101):\n",
    "        if sum([x for x in a if i % x == 0]) == 0:\n",
    "            numbers.append(i)\n",
    "            \n",
    "    print(numbers)"
   ]
  },
  {
   "cell_type": "code",
   "execution_count": 33,
   "id": "2eba86ad",
   "metadata": {},
   "outputs": [
    {
     "name": "stdout",
     "output_type": "stream",
     "text": [
      "[1, 3, 5, 7, 9, 11, 13, 15, 17, 19, 21, 23, 25, 27, 29, 31, 33, 35, 37, 39, 41, 43, 45, 47, 49, 51, 53, 55, 57, 59, 61, 63, 65, 67, 69, 71, 73, 75, 77, 79, 81, 83, 85, 87, 89, 91, 93, 95, 97, 99]\n"
     ]
    }
   ],
   "source": [
    "getTotalX(arr, brr)"
   ]
  },
  {
   "cell_type": "code",
   "execution_count": 34,
   "id": "88cc40cb",
   "metadata": {},
   "outputs": [
    {
     "name": "stdout",
     "output_type": "stream",
     "text": [
      "{2: [2, 4, 6, 8, 10, 12, 14, 16, 18, 20, 22, 24, 26, 28, 30, 32, 34, 36, 38, 40, 42, 44, 46, 48, 50, 52, 54, 56, 58, 60, 62, 64, 66, 68, 70, 72, 74, 76, 78, 80, 82, 84, 86, 88, 90, 92, 94, 96, 98, 100], 4: [4, 8, 12, 16, 20, 24, 28, 32, 36, 40, 44, 48, 52, 56, 60, 64, 68, 72, 76, 80, 84, 88, 92, 96, 100]}\n"
     ]
    }
   ],
   "source": [
    "factors = {i : [x for x in range(1,101) if x % i == 0] for i in arr}\n",
    "print(factors)"
   ]
  },
  {
   "cell_type": "code",
   "execution_count": 35,
   "id": "a27fd92b",
   "metadata": {},
   "outputs": [
    {
     "name": "stdout",
     "output_type": "stream",
     "text": [
      "[[2, 4, 6, 8, 10, 12, 14, 16, 18, 20, 22, 24, 26, 28, 30, 32, 34, 36, 38, 40, 42, 44, 46, 48, 50, 52, 54, 56, 58, 60, 62, 64, 66, 68, 70, 72, 74, 76, 78, 80, 82, 84, 86, 88, 90, 92, 94, 96, 98, 100], [4, 8, 12, 16, 20, 24, 28, 32, 36, 40, 44, 48, 52, 56, 60, 64, 68, 72, 76, 80, 84, 88, 92, 96, 100]]\n",
      "{4, 8, 12, 16, 20, 24, 28, 32, 36, 40, 44, 48, 52, 56, 60, 64, 68, 72, 76, 80, 84, 88, 92, 96, 100} <class 'set'>\n",
      "[4, 8, 12, 16, 20, 24, 28, 32, 36, 40, 44, 48, 52, 56, 60, 64, 68, 72, 76, 80, 84, 88, 92, 96, 100]\n"
     ]
    }
   ],
   "source": [
    "factors = [[x for x in range(1,101) if x % i == 0] for i in arr]\n",
    "all_factors = set(factors[0]) & set(factors[1])\n",
    "all_factors_list = list(all_factors)\n",
    "print(factors)\n",
    "print(all_factors, type(all_factors))\n",
    "print(all_factors_list)"
   ]
  },
  {
   "cell_type": "code",
   "execution_count": 36,
   "id": "ad4bbc0d",
   "metadata": {},
   "outputs": [
    {
     "name": "stdout",
     "output_type": "stream",
     "text": [
      "[[2, 4, 6, 8, 10, 12, 14, 16, 18, 20, 22, 24, 26, 28, 30, 32, 34, 36, 38, 40, 42, 44, 46, 48, 50, 52, 54, 56, 58, 60, 62, 64, 66, 68, 70, 72, 74, 76, 78, 80, 82, 84, 86, 88, 90, 92, 94, 96, 98, 100], [4, 8, 12, 16, 20, 24, 28, 32, 36, 40, 44, 48, 52, 56, 60, 64, 68, 72, 76, 80, 84, 88, 92, 96, 100]]\n",
      "{4, 8, 12, 16, 20, 24, 28, 32, 36, 40, 44, 48, 52, 56, 60, 64, 68, 72, 76, 80, 84, 88, 92, 96, 100} <class 'set'>\n",
      "[4, 8, 12, 16, 20, 24, 28, 32, 36, 40, 44, 48, 52, 56, 60, 64, 68, 72, 76, 80, 84, 88, 92, 96, 100]\n"
     ]
    }
   ],
   "source": [
    "factors = [[x for x in range(1,101) if x % i == 0] for i in arr]\n",
    "all_factors = set(factors[0]) & set(factors[1])\n",
    "all_factors_list = list(all_factors)\n",
    "print(factors)\n",
    "print(all_factors, type(all_factors))\n",
    "print(all_factors_list)"
   ]
  },
  {
   "cell_type": "code",
   "execution_count": 37,
   "id": "83cf9cb4",
   "metadata": {},
   "outputs": [
    {
     "name": "stdout",
     "output_type": "stream",
     "text": [
      "[4, 8, 12, 16, 20, 24, 28, 32, 36, 40, 44, 48, 52, 56, 60, 64, 68, 72, 76, 80, 84, 88, 92, 96, 100]\n"
     ]
    }
   ],
   "source": [
    "factors = [[x for x in range(1,101) if x % i == 0] for i in arr]\n",
    "all_factors = list(set(factors[0]) & set(factors[1]))\n",
    "print(all_factors)"
   ]
  },
  {
   "cell_type": "code",
   "execution_count": 40,
   "id": "b2305621",
   "metadata": {},
   "outputs": [
    {
     "name": "stdout",
     "output_type": "stream",
     "text": [
      "[16, 32, 96]\n",
      "25\n"
     ]
    }
   ],
   "source": [
    "factors2 = [[y for y in brr if y % j == 0] for j in all_factors]\n",
    "all_factors2 = list(set(factors2[0]) & set(factors2[1]))\n",
    "print(all_factors2)\n",
    "print(len(factors2))"
   ]
  },
  {
   "cell_type": "code",
   "execution_count": 25,
   "id": "f0be7df3",
   "metadata": {},
   "outputs": [],
   "source": [
    "def getTotalX(a, b):\n",
    "    factors = [[x for x in range(1,101) if x % i == 0] for i in a]\n",
    "    all_factors = list(set(factors[0]) & set(factors[1]))\n",
    "    factors2 = [[y for y in b if y % j == 0] for j in all_factors]\n",
    "    all_factors2 = list(set(factors2[0]) & set(factors2[1]))\n",
    "    return len(all_factors2)"
   ]
  },
  {
   "cell_type": "code",
   "execution_count": 26,
   "id": "2e097c9b",
   "metadata": {},
   "outputs": [
    {
     "name": "stdout",
     "output_type": "stream",
     "text": [
      "0\n"
     ]
    }
   ],
   "source": [
    "print(len(all_factors2))"
   ]
  },
  {
   "cell_type": "code",
   "execution_count": 43,
   "id": "a287d27e",
   "metadata": {},
   "outputs": [
    {
     "name": "stdout",
     "output_type": "stream",
     "text": [
      "[[16, 32, 96], [16, 32, 96], [96], [16, 32, 96], [], [96], [], [32, 96], [], [], [], [96], [], [], [], [], [], [], [], [], [], [], [], [96], []] <class 'list'> 25\n"
     ]
    }
   ],
   "source": [
    "factors2 = [[y for y in brr if y % j == 0] for j in all_factors]\n",
    "print(factors2, type(factors2), len(factors2))"
   ]
  },
  {
   "cell_type": "code",
   "execution_count": 44,
   "id": "df239104",
   "metadata": {},
   "outputs": [
    {
     "name": "stdout",
     "output_type": "stream",
     "text": [
      "[96]\n"
     ]
    }
   ],
   "source": [
    "print(max(factors2))"
   ]
  },
  {
   "cell_type": "code",
   "execution_count": 46,
   "id": "f6407f5e",
   "metadata": {},
   "outputs": [
    {
     "name": "stdout",
     "output_type": "stream",
     "text": [
      "3\n"
     ]
    }
   ],
   "source": [
    "max_len = 0\n",
    "for i in factors2:\n",
    "    \n",
    "    if max_len < len(i):\n",
    "        max_len = len(i)\n",
    "        \n",
    "print(max_len)"
   ]
  },
  {
   "cell_type": "code",
   "execution_count": 48,
   "id": "d0d33da2",
   "metadata": {},
   "outputs": [
    {
     "name": "stdout",
     "output_type": "stream",
     "text": [
      "3\n"
     ]
    }
   ],
   "source": [
    "factors = [[x for x in range(1,101) if x % i == 0] for i in arr]\n",
    "all_factors = list(set(factors[0]) & set(factors[1]))\n",
    "factors2 = [[y for y in brr if y % j == 0] for j in all_factors]\n",
    "max_len = 0\n",
    "for i in factors2:\n",
    "    \n",
    "    if max_len < len(i):\n",
    "        max_len = len(i)\n",
    "        \n",
    "print(max_len)"
   ]
  },
  {
   "cell_type": "code",
   "execution_count": 50,
   "id": "6f0c8b02",
   "metadata": {},
   "outputs": [],
   "source": [
    "factors = [[x for x in range(1,101) if x % i == 0] for i in arr]\n",
    "all_factors = list(set(factors[0]) & set(factors[1]))\n",
    "count = 0\n",
    "for factor in all_factors:\n",
    "    if brr % "
   ]
  },
  {
   "cell_type": "code",
   "execution_count": 51,
   "id": "855b5d3c",
   "metadata": {},
   "outputs": [
    {
     "name": "stdout",
     "output_type": "stream",
     "text": [
      "3\n"
     ]
    }
   ],
   "source": [
    "getTotalX(arr, brr)"
   ]
  },
  {
   "cell_type": "code",
   "execution_count": null,
   "id": "ca614869",
   "metadata": {},
   "outputs": [],
   "source": []
  }
 ],
 "metadata": {
  "kernelspec": {
   "display_name": "Python 3 (ipykernel)",
   "language": "python",
   "name": "python3"
  },
  "language_info": {
   "codemirror_mode": {
    "name": "ipython",
    "version": 3
   },
   "file_extension": ".py",
   "mimetype": "text/x-python",
   "name": "python",
   "nbconvert_exporter": "python",
   "pygments_lexer": "ipython3",
   "version": "3.11.5"
  }
 },
 "nbformat": 4,
 "nbformat_minor": 5
}
