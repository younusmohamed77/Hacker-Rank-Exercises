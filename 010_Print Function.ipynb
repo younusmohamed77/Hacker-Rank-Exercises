{
 "cells": [
  {
   "cell_type": "markdown",
   "id": "6940729f",
   "metadata": {},
   "source": [
    "#### Print Function\n",
    "\n",
    "The included code stub will read an integer, n, from STDIN.\n",
    "\n",
    "Without using any string methods, try to print the following:\n",
    "123..n\n",
    "\n",
    "Note that \"...\" represents the consecutive values in between.\n",
    "\n",
    "#### Example\n",
    "n = 5\n",
    "\n",
    "#### Print the string .\n",
    "12345\n",
    "\n",
    "#### Input Format\n",
    "The first line contains an integer n.\n",
    "\n",
    "#### Constraints\n",
    "1 <= n <= 150\n",
    "\n",
    "#### Output Format\n",
    "Print the list of integers from 1 through n as a string, without spaces."
   ]
  },
  {
   "cell_type": "code",
   "execution_count": 5,
   "id": "5f9001f6",
   "metadata": {},
   "outputs": [
    {
     "name": "stdout",
     "output_type": "stream",
     "text": [
      "5\n",
      "12345"
     ]
    }
   ],
   "source": [
    "if __name__ == '__main__':\n",
    "    n = int(input())    # Grtting the input\n",
    "    \n",
    "    if n >= 1 and n <= 150:    # Checking the constraints\n",
    "        \n",
    "        for i in range(n+1):    # Looping over the range to print the numbers\n",
    "            \n",
    "            if i == 0:     # Skipping 0 from printing\n",
    "                continue\n",
    "            \n",
    "            else:  \n",
    "                print(i, end = '')    # Changing the line break (end) of the print function"
   ]
  },
  {
   "cell_type": "code",
   "execution_count": null,
   "id": "5cf18d38",
   "metadata": {},
   "outputs": [],
   "source": []
  }
 ],
 "metadata": {
  "kernelspec": {
   "display_name": "Python 3 (ipykernel)",
   "language": "python",
   "name": "python3"
  },
  "language_info": {
   "codemirror_mode": {
    "name": "ipython",
    "version": 3
   },
   "file_extension": ".py",
   "mimetype": "text/x-python",
   "name": "python",
   "nbconvert_exporter": "python",
   "pygments_lexer": "ipython3",
   "version": "3.8.18"
  }
 },
 "nbformat": 4,
 "nbformat_minor": 5
}
