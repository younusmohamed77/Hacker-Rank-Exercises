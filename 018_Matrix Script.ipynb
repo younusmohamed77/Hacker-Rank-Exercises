{
 "cells": [
  {
   "cell_type": "markdown",
   "id": "4412dcd2",
   "metadata": {},
   "source": [
    "- Neo has a complex matrix script. The matrix script is a N X M grid of strings. It consists of alphanumeric characters, spaces and symbols (!,@,#,$,%,&).\n",
    "- To decode the script, Neo needs to read each column and select only the alphanumeric characters and connect them. Neo reads the column from top to bottom and starts reading from the leftmost column.\n",
    "- If there are symbols or spaces between two alphanumeric characters of the decoded script, then Neo replaces them with a single space '' for better readability.\n",
    "- Neo feels that there is no need to use 'if' conditions for decoding.\n",
    "- Alphanumeric characters consist of: [A-Z, a-z, and 0-9].\n",
    "\n",
    "##### Input Format\n",
    "- The first line contains space-separated integers N (rows) and M (columns) respectively.\n",
    "- The next N lines contain the row elements of the matrix script.\n",
    "\n",
    "##### Constraints\n",
    "0 < N,M < 100\n",
    "\n",
    "##### Note: \n",
    "A 0 score will be awarded for using 'if' conditions in your code.\n",
    "\n",
    "##### Output Format\n",
    "Print the decoded matrix script."
   ]
  },
  {
   "cell_type": "code",
   "execution_count": 1,
   "id": "b4369548",
   "metadata": {},
   "outputs": [
    {
     "name": "stdout",
     "output_type": "stream",
     "text": [
      "7 3\n",
      "Tsi\n",
      "h%x\n",
      "i #\n",
      "sM \n",
      "$a \n",
      "#t%\n",
      "ir!\n",
      "ir!\n"
     ]
    }
   ],
   "source": [
    "# !/bin/python3\n",
    "# import math\n",
    "# import os\n",
    "# import random\n",
    "import re\n",
    "# import sys\n",
    "\n",
    "first_multiple_input = input().rstrip().split()\n",
    "n = int(first_multiple_input[0])\n",
    "m = int(first_multiple_input[1])\n",
    "matrix = []\n",
    "\n",
    "for i in range(n):\n",
    "    matrix_item = input()\n",
    "    matrix.append(matrix_item)\n",
    "\n",
    "print()"
   ]
  },
  {
   "cell_type": "code",
   "execution_count": 2,
   "id": "30a7da7e",
   "metadata": {},
   "outputs": [
    {
     "name": "stdout",
     "output_type": "stream",
     "text": [
      "['Tsi', 'h%x', 'i #', 'sM ', '$a ', '#t%', 'ir!']\n"
     ]
    }
   ],
   "source": [
    "print(matrix)"
   ]
  },
  {
   "cell_type": "code",
   "execution_count": 5,
   "id": "087205ed",
   "metadata": {},
   "outputs": [
    {
     "name": "stdout",
     "output_type": "stream",
     "text": [
      "Tsih%xi #\n"
     ]
    }
   ],
   "source": [
    "ind = 0\n",
    "full_string = ''\n",
    "\n",
    "for j in range(len(matrix[ind])):\n",
    "    full_string += matrix[j]\n",
    "    ind += 1\n",
    "    \n",
    "print(full_string)"
   ]
  },
  {
   "cell_type": "code",
   "execution_count": 6,
   "id": "c1229c3f",
   "metadata": {},
   "outputs": [
    {
     "name": "stdout",
     "output_type": "stream",
     "text": [
      "Tsih%xi #Tsih%xi #Tsih%xi #Tsih%xi #Tsih%xi #Tsih%xi #Tsih%xi #\n"
     ]
    }
   ],
   "source": [
    "full_string = ''\n",
    "\n",
    "for j in matrix:\n",
    "    for ind in range(len(j)):\n",
    "        full_string += matrix[ind]\n",
    "    \n",
    "print(full_string)"
   ]
  },
  {
   "cell_type": "code",
   "execution_count": 8,
   "id": "67d3dc34",
   "metadata": {},
   "outputs": [
    {
     "name": "stdout",
     "output_type": "stream",
     "text": [
      "This$#is% Matrix#  %!\n"
     ]
    }
   ],
   "source": [
    "full_string = ''\n",
    "\n",
    "for i in range(m):\n",
    "    for j in range(n):\n",
    "        full_string += matrix[j][i]\n",
    "        \n",
    "print(full_string)"
   ]
  },
  {
   "cell_type": "code",
   "execution_count": 11,
   "id": "ad895a9e",
   "metadata": {},
   "outputs": [
    {
     "name": "stdout",
     "output_type": "stream",
     "text": [
      "['This', 'is', 'Matrix']\n"
     ]
    }
   ],
   "source": [
    "pattern = r'[A-Za-z0-9]+'\n",
    "matches = re.findall(pattern, full_string)\n",
    "print(matches)"
   ]
  },
  {
   "cell_type": "code",
   "execution_count": 15,
   "id": "b3731ff2",
   "metadata": {},
   "outputs": [
    {
     "name": "stdout",
     "output_type": "stream",
     "text": [
      "['#  %!']\n"
     ]
    }
   ],
   "source": [
    "end_pattern = r'\\W+$'\n",
    "end_matches = re.findall(end_pattern, full_string)\n",
    "print(end_matches)"
   ]
  },
  {
   "cell_type": "code",
   "execution_count": 23,
   "id": "ae0498f7",
   "metadata": {},
   "outputs": [
    {
     "name": "stdout",
     "output_type": "stream",
     "text": [
      "['#  %!']\n"
     ]
    }
   ],
   "source": [
    "end_pattern2 = r'\\W+?$'\n",
    "end_matches2 = re.findall(end_pattern2, full_string)\n",
    "print(end_matches2)"
   ]
  },
  {
   "cell_type": "code",
   "execution_count": 16,
   "id": "c7926e85",
   "metadata": {},
   "outputs": [
    {
     "name": "stdout",
     "output_type": "stream",
     "text": [
      "This is Matrix#  %!\n"
     ]
    }
   ],
   "source": [
    "out_string = ' '.join(matches) + end_matches[0]\n",
    "print(out_string)"
   ]
  },
  {
   "cell_type": "code",
   "execution_count": 17,
   "id": "d1d926bd",
   "metadata": {},
   "outputs": [
    {
     "name": "stdout",
     "output_type": "stream",
     "text": [
      "7 3\n",
      "Tsi\n",
      "h%x\n",
      "i #\n",
      "sM \n",
      "$a \n",
      "#t%\n",
      "ir!\n",
      "This is Matrix#  %!\n"
     ]
    }
   ],
   "source": [
    "# Submission code\n",
    "\n",
    "import re\n",
    "\n",
    "first_multiple_input = input().rstrip().split()\n",
    "n = int(first_multiple_input[0])\n",
    "m = int(first_multiple_input[1])\n",
    "matrix = []\n",
    "\n",
    "for i in range(n):\n",
    "    matrix_item = input()\n",
    "    matrix.append(matrix_item)\n",
    "    \n",
    "full_string = ''\n",
    "\n",
    "for i in range(m):\n",
    "    for j in range(n):\n",
    "        full_string += matrix[j][i]\n",
    "\n",
    "pattern = r'[A-Za-z0-9]+'\n",
    "matches = re.findall(pattern, full_string)\n",
    "\n",
    "end_pattern = r'\\W+?$'\n",
    "end_matches = re.findall(end_pattern, full_string)\n",
    "\n",
    "out_string = ' '.join(matches) + end_matches[0]\n",
    "print(out_string)"
   ]
  },
  {
   "cell_type": "code",
   "execution_count": 24,
   "id": "5d611646",
   "metadata": {},
   "outputs": [
    {
     "name": "stdout",
     "output_type": "stream",
     "text": [
      "4 6\n",
      "T%$r%r\n",
      "h%Mi$i\n",
      "iiaxsp\n",
      "sst%ct\n"
     ]
    },
    {
     "ename": "IndexError",
     "evalue": "list index out of range",
     "output_type": "error",
     "traceback": [
      "\u001b[1;31m---------------------------------------------------------------------------\u001b[0m",
      "\u001b[1;31mIndexError\u001b[0m                                Traceback (most recent call last)",
      "Cell \u001b[1;32mIn[24], line 26\u001b[0m\n\u001b[0;32m     23\u001b[0m end_pattern \u001b[38;5;241m=\u001b[39m \u001b[38;5;124mr\u001b[39m\u001b[38;5;124m'\u001b[39m\u001b[38;5;124m\\\u001b[39m\u001b[38;5;124mW+?$\u001b[39m\u001b[38;5;124m'\u001b[39m\n\u001b[0;32m     24\u001b[0m end_matches \u001b[38;5;241m=\u001b[39m re\u001b[38;5;241m.\u001b[39mfindall(end_pattern, full_string)\n\u001b[1;32m---> 26\u001b[0m out_string \u001b[38;5;241m=\u001b[39m \u001b[38;5;124m'\u001b[39m\u001b[38;5;124m \u001b[39m\u001b[38;5;124m'\u001b[39m\u001b[38;5;241m.\u001b[39mjoin(matches) \u001b[38;5;241m+\u001b[39m end_matches[\u001b[38;5;241m0\u001b[39m]\n\u001b[0;32m     27\u001b[0m \u001b[38;5;28mprint\u001b[39m(out_string)\n",
      "\u001b[1;31mIndexError\u001b[0m: list index out of range"
     ]
    }
   ],
   "source": [
    "# Submission code\n",
    "\n",
    "import re\n",
    "\n",
    "first_multiple_input = input().rstrip().split()\n",
    "n = int(first_multiple_input[0])\n",
    "m = int(first_multiple_input[1])\n",
    "matrix = []\n",
    "\n",
    "for i in range(n):\n",
    "    matrix_item = input()\n",
    "    matrix.append(matrix_item)\n",
    "    \n",
    "full_string = ''\n",
    "\n",
    "for i in range(m):\n",
    "    for j in range(n):\n",
    "        full_string += matrix[j][i]\n",
    "\n",
    "pattern = r'[A-Za-z0-9]+'\n",
    "matches = re.findall(pattern, full_string)\n",
    "\n",
    "end_pattern = r'\\W+?$'\n",
    "end_matches = re.findall(end_pattern, full_string)\n",
    "\n",
    "out_string = ' '.join(matches) + end_matches[0]\n",
    "print(out_string)"
   ]
  },
  {
   "cell_type": "code",
   "execution_count": 25,
   "id": "b3df752b",
   "metadata": {},
   "outputs": [
    {
     "name": "stdout",
     "output_type": "stream",
     "text": [
      "[]\n"
     ]
    }
   ],
   "source": [
    "print(end_matches)"
   ]
  },
  {
   "cell_type": "code",
   "execution_count": 28,
   "id": "378d67cf",
   "metadata": {},
   "outputs": [
    {
     "name": "stdout",
     "output_type": "stream",
     "text": [
      "This is Matrix script[]\n"
     ]
    }
   ],
   "source": [
    "out_string = ' '.join(matches) + str(end_matches)\n",
    "print(out_string)"
   ]
  },
  {
   "cell_type": "code",
   "execution_count": 29,
   "id": "df3460dc",
   "metadata": {},
   "outputs": [
    {
     "ename": "TypeError",
     "evalue": "sequence item 4: expected str instance, list found",
     "output_type": "error",
     "traceback": [
      "\u001b[1;31m---------------------------------------------------------------------------\u001b[0m",
      "\u001b[1;31mTypeError\u001b[0m                                 Traceback (most recent call last)",
      "Cell \u001b[1;32mIn[29], line 1\u001b[0m\n\u001b[1;32m----> 1\u001b[0m out_string \u001b[38;5;241m=\u001b[39m \u001b[38;5;124m'\u001b[39m\u001b[38;5;124m \u001b[39m\u001b[38;5;124m'\u001b[39m\u001b[38;5;241m.\u001b[39mjoin([\u001b[38;5;241m*\u001b[39mmatches, end_matches])\n\u001b[0;32m      2\u001b[0m \u001b[38;5;28mprint\u001b[39m(out_string)\n",
      "\u001b[1;31mTypeError\u001b[0m: sequence item 4: expected str instance, list found"
     ]
    }
   ],
   "source": [
    "out_string = ' '.join([*matches, end_matches])\n",
    "print(out_string)"
   ]
  },
  {
   "cell_type": "code",
   "execution_count": 30,
   "id": "02c66ef7",
   "metadata": {},
   "outputs": [
    {
     "name": "stdout",
     "output_type": "stream",
     "text": [
      "\n"
     ]
    }
   ],
   "source": [
    "my_list = []  # Your empty list\n",
    "\n",
    "result = ''.join(my_list) or ''\n",
    "\n",
    "print(result)\n"
   ]
  },
  {
   "cell_type": "code",
   "execution_count": 32,
   "id": "3d30142a",
   "metadata": {},
   "outputs": [
    {
     "ename": "NameError",
     "evalue": "name 'join' is not defined",
     "output_type": "error",
     "traceback": [
      "\u001b[1;31m---------------------------------------------------------------------------\u001b[0m",
      "\u001b[1;31mNameError\u001b[0m                                 Traceback (most recent call last)",
      "Cell \u001b[1;32mIn[32], line 1\u001b[0m\n\u001b[1;32m----> 1\u001b[0m out_string \u001b[38;5;241m=\u001b[39m \u001b[38;5;124m'\u001b[39m\u001b[38;5;124m \u001b[39m\u001b[38;5;124m'\u001b[39m\u001b[38;5;241m.\u001b[39mjoin(matches) \u001b[38;5;241m+\u001b[39m join(end_matches) \u001b[38;5;129;01mor\u001b[39;00m \u001b[38;5;124m'\u001b[39m\u001b[38;5;124m'\u001b[39m\n\u001b[0;32m      2\u001b[0m \u001b[38;5;28mprint\u001b[39m(out_string)\n",
      "\u001b[1;31mNameError\u001b[0m: name 'join' is not defined"
     ]
    }
   ],
   "source": [
    "out_string = ' '.join(matches) + join(end_matches) or ''\n",
    "print(out_string)"
   ]
  },
  {
   "cell_type": "code",
   "execution_count": 33,
   "id": "7f061e9c",
   "metadata": {},
   "outputs": [
    {
     "name": "stdout",
     "output_type": "stream",
     "text": [
      "2 4\n",
      "# i#\n",
      " @#U\n",
      "i U\n"
     ]
    }
   ],
   "source": [
    "# Submission code\n",
    "\n",
    "import re\n",
    "\n",
    "first_multiple_input = input().rstrip().split()\n",
    "n = int(first_multiple_input[0])\n",
    "m = int(first_multiple_input[1])\n",
    "matrix = []\n",
    "\n",
    "for i in range(n):\n",
    "    matrix_item = input()\n",
    "    matrix.append(matrix_item)\n",
    "    \n",
    "full_string = ''\n",
    "\n",
    "for i in range(m):\n",
    "    for j in range(n):\n",
    "        full_string += matrix[j][i]\n",
    "\n",
    "pattern = r'[A-Za-z0-9]+'\n",
    "matches = re.findall(pattern, full_string)\n",
    "\n",
    "end_pattern = r'\\W+?$'\n",
    "end_matches = re.findall(end_pattern, full_string)\n",
    "\n",
    "start_pattern = r'\\W+?'\n",
    "start_matches = re.findall(start_pattern, full_string)\n",
    "\n",
    "out_string = ''.join(start_matches) or '' + ' '.join(matches) + ''.join(end_matches) or ''\n",
    "print(out_string)"
   ]
  },
  {
   "cell_type": "code",
   "execution_count": 34,
   "id": "bac0d447",
   "metadata": {},
   "outputs": [
    {
     "name": "stdout",
     "output_type": "stream",
     "text": [
      "#  @##\n"
     ]
    }
   ],
   "source": [
    "start_pattern = r'\\W+?'\n",
    "start_matches = re.findall(start_pattern, full_string)\n",
    "\n",
    "out_string = ''.join(start_matches) or '' + ' '.join(matches) + ''.join(end_matches) or ''\n",
    "print(out_string)"
   ]
  },
  {
   "cell_type": "code",
   "execution_count": 36,
   "id": "5ea9f5e3",
   "metadata": {},
   "outputs": [
    {
     "name": "stdout",
     "output_type": "stream",
     "text": [
      "['#  @', '##']\n"
     ]
    }
   ],
   "source": [
    "start_pattern = r'\\W+'\n",
    "start_matches = re.findall(start_pattern, full_string)\n",
    "print(start_matches)"
   ]
  },
  {
   "cell_type": "code",
   "execution_count": 37,
   "id": "6aae0a9d",
   "metadata": {},
   "outputs": [
    {
     "name": "stdout",
     "output_type": "stream",
     "text": [
      "#  @\n"
     ]
    }
   ],
   "source": [
    "start_pattern = r'\\W+'\n",
    "start_matches = re.findall(start_pattern, full_string)\n",
    "\n",
    "out_string = ''.join(start_matches[0]) or '' + ' '.join(matches) + ''.join(end_matches) or ''\n",
    "print(out_string)"
   ]
  },
  {
   "cell_type": "code",
   "execution_count": 46,
   "id": "fdc4a186",
   "metadata": {},
   "outputs": [
    {
     "name": "stdout",
     "output_type": "stream",
     "text": [
      "2 4\n",
      "# i#\n",
      " @#U\n",
      "#  @\n"
     ]
    }
   ],
   "source": [
    "# Submission code\n",
    "\n",
    "import re\n",
    "\n",
    "first_multiple_input = input().rstrip().split()\n",
    "n = int(first_multiple_input[0])\n",
    "m = int(first_multiple_input[1])\n",
    "matrix = []\n",
    "\n",
    "for i in range(n):\n",
    "    matrix_item = input()\n",
    "    matrix.append(matrix_item)\n",
    "    \n",
    "full_string = ''\n",
    "\n",
    "for i in range(m):\n",
    "    for j in range(n):\n",
    "        full_string += matrix[j][i]\n",
    "\n",
    "pattern = r'[A-Za-z0-9]+'\n",
    "matches = re.findall(pattern, full_string)\n",
    "\n",
    "end_pattern = r'\\W+?$'\n",
    "end_matches = re.findall(end_pattern, full_string)\n",
    "\n",
    "start_pattern = r'\\W+'\n",
    "start_matches = re.findall(start_pattern, full_string)\n",
    "\n",
    "out_string = ''.join(start_matches[0]) or '' + ' '.join(matches) + ''.join(end_matches) or ''\n",
    "print(out_string)"
   ]
  },
  {
   "cell_type": "code",
   "execution_count": 39,
   "id": "35f683fc",
   "metadata": {},
   "outputs": [
    {
     "name": "stdout",
     "output_type": "stream",
     "text": [
      "%\n"
     ]
    }
   ],
   "source": [
    "start_pattern = r'\\W+?'\n",
    "start_matches = re.findall(start_pattern, full_string)\n",
    "\n",
    "out_string = ''.join(start_matches[0]) or '' + ' '.join(matches) + ''.join(end_matches) or ''\n",
    "print(out_string)"
   ]
  },
  {
   "cell_type": "code",
   "execution_count": 40,
   "id": "70ad8156",
   "metadata": {},
   "outputs": [
    {
     "name": "stdout",
     "output_type": "stream",
     "text": [
      "['123', 'abc']\n"
     ]
    }
   ],
   "source": [
    "import re\n",
    "\n",
    "pattern1 = r'\\d+'  # Matches one or more digits\n",
    "pattern2 = r'[a-zA-Z]+'  # Matches one or more letters\n",
    "\n",
    "combined_pattern = re.compile(pattern1 + '|' + pattern2)\n",
    "\n",
    "text = \"123 abc\"\n",
    "\n",
    "matches = combined_pattern.findall(text)\n",
    "\n",
    "print(matches)\n"
   ]
  },
  {
   "cell_type": "code",
   "execution_count": 47,
   "id": "89ce26f0",
   "metadata": {},
   "outputs": [
    {
     "name": "stdout",
     "output_type": "stream",
     "text": [
      "['i', 'U']\n"
     ]
    }
   ],
   "source": [
    "pattern = r'[A-Za-z0-9]+'\n",
    "matches = re.findall(pattern, full_string)\n",
    "print(matches)"
   ]
  },
  {
   "cell_type": "code",
   "execution_count": 48,
   "id": "db7bf02a",
   "metadata": {},
   "outputs": [
    {
     "name": "stdout",
     "output_type": "stream",
     "text": [
      "[]\n"
     ]
    }
   ],
   "source": [
    "end_pattern = r'\\W+?$'\n",
    "end_matches = re.findall(end_pattern, full_string)\n",
    "print(end_matches)"
   ]
  },
  {
   "cell_type": "code",
   "execution_count": 56,
   "id": "d19bbbfc",
   "metadata": {},
   "outputs": [
    {
     "name": "stdout",
     "output_type": "stream",
     "text": [
      "#  @\n"
     ]
    }
   ],
   "source": [
    "start_pattern = r'\\W+'\n",
    "start_matches = re.search(start_pattern, full_string).group()\n",
    "print(start_matches)"
   ]
  },
  {
   "cell_type": "code",
   "execution_count": 57,
   "id": "d13d7312",
   "metadata": {},
   "outputs": [
    {
     "name": "stdout",
     "output_type": "stream",
     "text": [
      "['#  @', 'i', '##', 'U']\n"
     ]
    }
   ],
   "source": [
    "combined_pattern = re.compile(start_pattern + '|' + pattern + '|' + end_pattern)\n",
    "final_matches = combined_pattern.findall(full_string)\n",
    "print(final_matches)"
   ]
  },
  {
   "cell_type": "code",
   "execution_count": 67,
   "id": "75a191e6",
   "metadata": {},
   "outputs": [
    {
     "name": "stdout",
     "output_type": "stream",
     "text": [
      "2 2\n",
      "# \n",
      " @\n",
      "#  @#  @\n"
     ]
    }
   ],
   "source": [
    "# Submission code\n",
    "\n",
    "import re\n",
    "\n",
    "first_multiple_input = input().rstrip().split()\n",
    "n = int(first_multiple_input[0])\n",
    "m = int(first_multiple_input[1])\n",
    "matrix = []\n",
    "\n",
    "for i in range(n):\n",
    "    matrix_item = input()\n",
    "    matrix.append(matrix_item)\n",
    "    \n",
    "full_string = ''\n",
    "\n",
    "for i in range(m):\n",
    "    for j in range(n):\n",
    "        full_string += matrix[j][i]\n",
    "\n",
    "pattern = r'[A-Za-z0-9]+'\n",
    "matches = re.findall(pattern, full_string)\n",
    "\n",
    "end_pattern = r'\\W+?$'\n",
    "end_matches = re.findall(end_pattern, full_string)\n",
    "\n",
    "start_pattern = r'^\\W+'\n",
    "start_matches = re.search(start_pattern, full_string)\n",
    "\n",
    "while start_matches:\n",
    "    out_string = start_matches.group() + ' '.join(matches) + ''.join(end_matches) or ''\n",
    "    break\n",
    "\n",
    "while not start_matches:\n",
    "    out_string = ' '.join(matches) + ''.join(end_matches) or ''\n",
    "    break\n",
    "    \n",
    "print(out_string)"
   ]
  },
  {
   "cell_type": "code",
   "execution_count": 68,
   "id": "fa8bb921",
   "metadata": {},
   "outputs": [
    {
     "name": "stdout",
     "output_type": "stream",
     "text": [
      "['#  @']\n"
     ]
    }
   ],
   "source": [
    "combined_pattern = re.compile(start_pattern + '|' + pattern + '|' + end_pattern)\n",
    "final_matches = combined_pattern.findall(full_string)\n",
    "print(final_matches)"
   ]
  },
  {
   "cell_type": "code",
   "execution_count": 79,
   "id": "d7fcc929",
   "metadata": {},
   "outputs": [
    {
     "name": "stdout",
     "output_type": "stream",
     "text": [
      "7 3\n",
      "Tsi\n",
      "h%x\n",
      "i #\n",
      "sM \n",
      "$a \n",
      "#t%\n",
      "ir!\n",
      "This is Matrix #  %!\n"
     ]
    }
   ],
   "source": [
    "# Submission code\n",
    "\n",
    "import re\n",
    "\n",
    "first_multiple_input = input().rstrip().split()\n",
    "n = int(first_multiple_input[0])\n",
    "m = int(first_multiple_input[1])\n",
    "matrix = []\n",
    "\n",
    "for i in range(n):\n",
    "    matrix_item = input()\n",
    "    matrix.append(matrix_item)\n",
    "    \n",
    "full_string = ''\n",
    "\n",
    "for i in range(m):\n",
    "    for j in range(n):\n",
    "        full_string += matrix[j][i]\n",
    "\n",
    "pattern = r'[A-Za-z0-9]+'\n",
    "matches = re.findall(pattern, full_string)\n",
    "\n",
    "end_pattern = r'\\W+?$'\n",
    "end_matches = re.findall(end_pattern, full_string)\n",
    "\n",
    "start_pattern = r'^\\W+'\n",
    "start_matches = re.search(start_pattern, full_string)\n",
    "\n",
    "combined_pattern = re.compile(start_pattern + '|' + pattern + '|' + end_pattern)\n",
    "final_matches = combined_pattern.findall(full_string)\n",
    "out_string = ' '.join(final_matches)\n",
    "    \n",
    "print(out_string)"
   ]
  },
  {
   "cell_type": "code",
   "execution_count": 76,
   "id": "da6a7a99",
   "metadata": {},
   "outputs": [
    {
     "name": "stdout",
     "output_type": "stream",
     "text": [
      "21\n"
     ]
    }
   ],
   "source": [
    "print(len(out_string))"
   ]
  },
  {
   "cell_type": "code",
   "execution_count": 77,
   "id": "48a7a83d",
   "metadata": {},
   "outputs": [
    {
     "name": "stdout",
     "output_type": "stream",
     "text": [
      "This is Matrix script\n"
     ]
    }
   ],
   "source": [
    "print(out_string.rstrip())"
   ]
  },
  {
   "cell_type": "code",
   "execution_count": 78,
   "id": "cb5fd5bc",
   "metadata": {},
   "outputs": [
    {
     "name": "stdout",
     "output_type": "stream",
     "text": [
      "This is Matrix script\n"
     ]
    }
   ],
   "source": [
    "print(out_string.strip())"
   ]
  },
  {
   "cell_type": "code",
   "execution_count": 80,
   "id": "8bec9627",
   "metadata": {},
   "outputs": [
    {
     "name": "stdout",
     "output_type": "stream",
     "text": [
      "ThisisMatrix#  %!\n"
     ]
    }
   ],
   "source": [
    "out_string = ''.join(final_matches)\n",
    "    \n",
    "print(out_string.strip())"
   ]
  },
  {
   "cell_type": "code",
   "execution_count": 81,
   "id": "94a72967",
   "metadata": {},
   "outputs": [
    {
     "data": {
      "text/plain": [
       "['This', 'is', 'Matrix']"
      ]
     },
     "execution_count": 81,
     "metadata": {},
     "output_type": "execute_result"
    }
   ],
   "source": [
    "final_matches[:-1]"
   ]
  },
  {
   "cell_type": "code",
   "execution_count": 83,
   "id": "8045e026",
   "metadata": {},
   "outputs": [
    {
     "name": "stdout",
     "output_type": "stream",
     "text": [
      "4 6\n",
      "T%$r%r\n",
      "h%Mi$i\n",
      "iiaxsp\n",
      "sst%ct\n",
      "This is Matrix\n"
     ]
    }
   ],
   "source": [
    "# Submission code\n",
    "\n",
    "import re\n",
    "\n",
    "first_multiple_input = input().rstrip().split()\n",
    "n = int(first_multiple_input[0])\n",
    "m = int(first_multiple_input[1])\n",
    "matrix = []\n",
    "\n",
    "for i in range(n):\n",
    "    matrix_item = input()\n",
    "    matrix.append(matrix_item)\n",
    "    \n",
    "full_string = ''\n",
    "\n",
    "for i in range(m):\n",
    "    for j in range(n):\n",
    "        full_string += matrix[j][i]\n",
    "\n",
    "pattern = r'[A-Za-z0-9]+'\n",
    "matches = re.findall(pattern, full_string)\n",
    "\n",
    "end_pattern = r'\\W+?$'\n",
    "end_matches = re.findall(end_pattern, full_string)\n",
    "\n",
    "start_pattern = r'^\\W+'\n",
    "start_matches = re.search(start_pattern, full_string)\n",
    "\n",
    "combined_pattern = re.compile(start_pattern + '|' + pattern + '|' + end_pattern)\n",
    "final_matches = combined_pattern.findall(full_string)\n",
    "out_string = ' '.join(final_matches[:-1]) + ''.join(end_matches) or ''\n",
    "    \n",
    "print(out_string)"
   ]
  },
  {
   "cell_type": "code",
   "execution_count": 84,
   "id": "4d83a291",
   "metadata": {},
   "outputs": [
    {
     "name": "stdout",
     "output_type": "stream",
     "text": [
      "2 4\n",
      "# i#\n",
      " @#U\n",
      "#  @ i U\n"
     ]
    }
   ],
   "source": [
    "# Submission code\n",
    "\n",
    "import re\n",
    "\n",
    "first_multiple_input = input().rstrip().split()\n",
    "n = int(first_multiple_input[0])\n",
    "m = int(first_multiple_input[1])\n",
    "matrix = []\n",
    "\n",
    "for i in range(n):\n",
    "    matrix_item = input()\n",
    "    matrix.append(matrix_item)\n",
    "    \n",
    "full_string = ''\n",
    "\n",
    "for i in range(m):\n",
    "    for j in range(n):\n",
    "        full_string += matrix[j][i]\n",
    "\n",
    "pattern = r'[A-Za-z0-9]+'\n",
    "matches = re.findall(pattern, full_string)\n",
    "\n",
    "end_pattern = r'\\W+?$'\n",
    "end_matches = re.findall(end_pattern, full_string)\n",
    "\n",
    "start_pattern = r'^\\W+'\n",
    "start_matches = re.search(start_pattern, full_string)\n",
    "\n",
    "combined_pattern = re.compile(start_pattern + '|' + pattern + '|' + end_pattern)\n",
    "final_matches = combined_pattern.findall(full_string)\n",
    "\n",
    "while end_matches:\n",
    "    out_string = ' '.join(final_matches[:-1]) + ''.join(end_matches) or ''\n",
    "    break\n",
    "    \n",
    "while not end_matches:\n",
    "    out_string = ' '.join(final_matches)\n",
    "    break\n",
    "    \n",
    "print(out_string)"
   ]
  },
  {
   "cell_type": "code",
   "execution_count": 85,
   "id": "d0c9adff",
   "metadata": {},
   "outputs": [
    {
     "name": "stdout",
     "output_type": "stream",
     "text": [
      "['#  @', 'i', 'U']\n",
      "['#  @', 'i']\n",
      "['i']\n"
     ]
    }
   ],
   "source": [
    "print(final_matches)\n",
    "print(final_matches[:-1])\n",
    "print(final_matches[1:-1])"
   ]
  },
  {
   "cell_type": "code",
   "execution_count": null,
   "id": "6c4fd2df",
   "metadata": {},
   "outputs": [],
   "source": [
    "# Submission code\n",
    "\n",
    "import re\n",
    "\n",
    "first_multiple_input = input().rstrip().split()\n",
    "n = int(first_multiple_input[0])\n",
    "m = int(first_multiple_input[1])\n",
    "matrix = []\n",
    "\n",
    "for i in range(n):\n",
    "    matrix_item = input()\n",
    "    matrix.append(matrix_item)\n",
    "    \n",
    "full_string = ''\n",
    "\n",
    "for i in range(m):\n",
    "    for j in range(n):\n",
    "        full_string += matrix[j][i]\n",
    "\n",
    "pattern = r'[A-Za-z0-9]+'\n",
    "matches = re.findall(pattern, full_string)\n",
    "\n",
    "end_pattern = r'\\W+?$'\n",
    "end_matches = re.findall(end_pattern, full_string)\n",
    "\n",
    "start_pattern = r'^\\W+'\n",
    "start_matches = re.search(start_pattern, full_string)\n",
    "\n",
    "combined_pattern = re.compile(start_pattern + '|' + pattern + '|' + end_pattern)\n",
    "final_matches = combined_pattern.findall(full_string)\n",
    "\n",
    "while end_matches:\n",
    "    while start_matches:\n",
    "        out_string = ''.join(end_matches) or '' + ' '.join(final_matches[1:-1]) + ''.join(end_matches) or ''\n",
    "        break\n",
    "    \n",
    "    while not start_matches:\n",
    "        out_string = ' '.join(final_matches[:-1]) + ''.join(end_matches) or ''\n",
    "        break\n",
    "    \n",
    "while not end_matches:\n",
    "    whle not start_matches:\n",
    "        out_string = ' '.join(final_matches)\n",
    "        break\n",
    "        \n",
    "    whle not start_matches:\n",
    "        out_string = ''.join(end_matches) or '' + ' '.join(final_matches[1:])\n",
    "        break\n",
    "    \n",
    "print(out_string)"
   ]
  }
 ],
 "metadata": {
  "kernelspec": {
   "display_name": "Python 3 (ipykernel)",
   "language": "python",
   "name": "python3"
  },
  "language_info": {
   "codemirror_mode": {
    "name": "ipython",
    "version": 3
   },
   "file_extension": ".py",
   "mimetype": "text/x-python",
   "name": "python",
   "nbconvert_exporter": "python",
   "pygments_lexer": "ipython3",
   "version": "3.11.5"
  }
 },
 "nbformat": 4,
 "nbformat_minor": 5
}
